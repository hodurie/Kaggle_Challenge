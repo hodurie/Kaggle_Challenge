{
 "cells": [
  {
   "cell_type": "markdown",
   "metadata": {
    "colab_type": "text",
    "id": "7RotvlOjpmKR"
   },
   "source": [
    "# 캐글과 구글 코랩 연동하기\n",
    " \n",
    "구글 코랩에 캐글을 연동하는 방법을 알아보겠습니다. \n",
    "\n",
    "들어가기 앞서 구글 코랩에 대해 설명드리겠습니다.  \n",
    "\n",
    "## 구글 코랩(Google Colab)\n",
    "구글 코랩은 구글 Colaboratory 서비스의 줄임말로  \n",
    "별도의 Python 작업 환경을 구축하지 않고 사용할 수 있는  \n",
    "클라우드 형태의 쥬피터 노트북입니다.  \n",
    "\n",
    "설치가 필요 없으며  \n",
    "API를 활용하여 다른 사이트와 연동할 수 있습니다.  \n",
    "\n",
    "또한, 가상 서버에서 제공하는  \n",
    "TPU 및 GPU를 무료로 사용할 수 있습니다.  \n",
    "\n",
    "본론으로 돌아와 캐글과 코랩을 연동해 봅시다!\n",
    "\n",
    "\n",
    "## 1. 캐글 로그인  \n",
    "[캐글 홈페이지](https://www.kaggle.com/)에 접속합니다.  \n",
    "구글 아이디가 있다면, 그와 연동하여 사용하고  \n",
    "없으면 생성 후 로그인 합니다.\n",
    "\n",
    "## 2. API 생성  \n",
    "프로필 사진을 클릭 후  \n",
    "![profile](./image/profile.png)  \n",
    "Discussion 옆에 `…`을 누르고 __account__ 로 들어가거나  \n",
    "__Edit Profile__ 을 선택합니다.  \n",
    "![click](./image/click.png)  \n",
    "\n",
    "API 부분에   \n",
    "__Create New API Token__ 를 눌러 API를 생성해 주면  \n",
    "```\n",
    "Ensure kaggle.json is in the location ~/.kaggle/kaggle.json to use the API.\n",
    "```\n",
    "위 말과 함께 `kaggle.json` 파일이 다운 받아질겁니다.  \n",
    "![create](./image/create.png)  \n",
    "\n",
    "## 3. pip install\n",
    "pip 란, Python으로 작성된 패키지 소프트웨어를   \n",
    "설치 및 관리 하는 시스템입니다.  \n",
    "\n",
    "패키지를 설치할 경우  \n",
    "```\n",
    "<코드>\n",
    "!pip install 패키지\n",
    "--------------------------------------------\n",
    "<설명>\n",
    "!는 시스템 명령어를 사용하겠다는 의미입니다.\n",
    "```\n",
    "의 형태로 사용합니다.  \n",
    "\n",
    "먼저 [구글 코랩](https://colab.research.google.com/)에 접속합니다.    \n",
    "새로운 파일을 생성해 아래와 같이 적어줍니다.  \n",
    "```\n",
    "!pip install kaggle\n",
    "from google.colab import files\n",
    "files.upload()\n",
    "```"
   ]
  },
  {
   "cell_type": "code",
   "execution_count": 0,
   "metadata": {
    "colab": {},
    "colab_type": "code",
    "id": "oz5twoEH1rkm"
   },
   "outputs": [],
   "source": [
    "!pip install kaggle"
   ]
  },
  {
   "cell_type": "code",
   "execution_count": 0,
   "metadata": {
    "colab": {},
    "colab_type": "code",
    "id": "k5f6u73LoNko"
   },
   "outputs": [],
   "source": [
    "from google.colab import files\n",
    "files.upload()"
   ]
  },
  {
   "cell_type": "markdown",
   "metadata": {
    "colab_type": "text",
    "id": "arRTkPxu10KO"
   },
   "source": [
    "![select](./image/select.png)\n",
    "`파일 선택` 부분에  \n",
    "다운 받았던 `kaggle.json` 파일을 넣어 줍니다.  \n",
    "\n",
    "## 4. 파일 upload 확인하기\n",
    "\n",
    "```\n",
    "<코드>\n",
    "ls -al kaggle.json\n",
    "-----------------------------------------------------\n",
    "<설명>\n",
    "ls(list) : 디렉토리에 있는 목록 확인\n",
    "-a(all) : 숨긴 파일 포함 모든 디렉토리의 항목 표시\n",
    "-l(long) : 파일의 자세한 내용들 표시\n",
    "```\n",
    "위의 코드를 입력하여 파일이 잘 업로드 됐는지 확인합니다.  "
   ]
  },
  {
   "cell_type": "code",
   "execution_count": 3,
   "metadata": {
    "colab": {
     "base_uri": "https://localhost:8080/",
     "height": 35
    },
    "colab_type": "code",
    "executionInfo": {
     "elapsed": 2925,
     "status": "ok",
     "timestamp": 1582900958085,
     "user": {
      "displayName": "H J",
      "photoUrl": "",
      "userId": "04796031619100753677"
     },
     "user_tz": -540
    },
    "id": "h04-KmIj2pMl",
    "outputId": "160e876a-0594-4bdd-9aee-d22d348b4fe4"
   },
   "outputs": [
    {
     "name": "stdout",
     "output_type": "stream",
     "text": [
      "-rw-r--r-- 1 root root 63 Feb 28 14:42 kaggle.json\n"
     ]
    }
   ],
   "source": [
    "ls -al kaggle.json"
   ]
  },
  {
   "cell_type": "markdown",
   "metadata": {
    "colab_type": "text",
    "id": "wd4kKLO_-UCx"
   },
   "source": [
    "## 5. Json 파일 이동\n",
    "디렉토리를 만들어주고   \n",
    "그 안에 업로한 파일을 옮겨주겠습니다.  \n",
    "```\n",
    "<코드>\n",
    "!mkdir -p ~/.kaggle\n",
    "!cp kaggle.json ~/.kaggle/\n",
    "!chmod 600 ~/.kaggle/kaggle.json\n",
    "--------------------------------------------------------------------------------\n",
    "<설명>\n",
    "mkdir(make directory) : 디렉토리 생성\n",
    "-p : 하위경로까지 포함하여 생성\n",
    "\n",
    "cp(copy) : 디렉토리 복사\n",
    "\n",
    "chmod(change mode) : 파일이나 디렉토리의 권한 변경\n",
    "코드 형식 : chmod [소유자 권한][그룹 권한][일반 사용자 권한] 파일명\n",
    "-600 : 소유자에게 읽기 쓰기기 권한 부여 / 그룹, 일반 사용자에게 권한 부여하지 않음\n",
    "```"
   ]
  },
  {
   "cell_type": "code",
   "execution_count": 0,
   "metadata": {
    "colab": {},
    "colab_type": "code",
    "id": "fqlniqs190UB"
   },
   "outputs": [],
   "source": [
    "!mkdir -p ~/.kaggle\n",
    "!cp kaggle.json ~/.kaggle/\n",
    "!chmod 600 ~/.kaggle/kaggle.json"
   ]
  },
  {
   "cell_type": "markdown",
   "metadata": {
    "colab_type": "text",
    "id": "AyzQHmgzGPng"
   },
   "source": [
    "## 6. 캐글 데이터 목록 보기\n",
    "현재 캐글에 저장돼 있는 데이터 목록을 보는 방법입니다.\n",
    "\n",
    "```\n",
    "!kaggle competitions list\n",
    "```\n"
   ]
  },
  {
   "cell_type": "code",
   "execution_count": 5,
   "metadata": {
    "colab": {
     "base_uri": "https://localhost:8080/",
     "height": 413
    },
    "colab_type": "code",
    "executionInfo": {
     "elapsed": 9439,
     "status": "ok",
     "timestamp": 1582900971996,
     "user": {
      "displayName": "H J",
      "photoUrl": "",
      "userId": "04796031619100753677"
     },
     "user_tz": -540
    },
    "id": "5gaVKrBlGhI-",
    "outputId": "44caaa9e-77ae-423e-9448-f50470ef191b"
   },
   "outputs": [
    {
     "name": "stdout",
     "output_type": "stream",
     "text": [
      "ref                                                                deadline             category             reward  teamCount  userHasEntered  \n",
      "-----------------------------------------------------------------  -------------------  ---------------  ----------  ---------  --------------  \n",
      "digit-recognizer                                                   2030-01-01 00:00:00  Getting Started   Knowledge       2379           False  \n",
      "titanic                                                            2030-01-01 00:00:00  Getting Started   Knowledge      16574            True  \n",
      "house-prices-advanced-regression-techniques                        2030-01-01 00:00:00  Getting Started   Knowledge       4669           False  \n",
      "connectx                                                           2030-01-01 00:00:00  Getting Started   Knowledge        476           False  \n",
      "competitive-data-science-predict-future-sales                      2020-12-31 23:59:00  Playground            Kudos       5830           False  \n",
      "abstraction-and-reasoning-challenge                                2020-05-27 23:59:00  Research            $20,000        288           False  \n",
      "liverpool-ion-switching                                            2020-05-25 23:59:00  Research            $25,000        280           False  \n",
      "flower-classification-with-tpus                                    2020-05-11 23:59:00  Playground           Prizes        260           False  \n",
      "march-madness-analytics-2020                                       2020-04-06 23:59:00  Analytics           $25,000          0           False  \n",
      "deepfake-detection-challenge                                       2020-03-31 23:59:00  Featured         $1,000,000       1960           False  \n",
      "cat-in-the-dat-ii                                                  2020-03-31 23:59:00  Playground             Swag        754           False  \n",
      "imagenet-object-localization-challenge                             2020-03-26 23:59:00  Research          Knowledge         66           False  \n",
      "ds4g-environmental-insights-explorer                               2020-03-24 23:59:00  Analytics           $25,000          0           False  \n",
      "nlp-getting-started                                                2020-03-23 23:59:00  Getting Started     $10,000       3399           False  \n",
      "google-cloud-ncaa-march-madness-2020-division-1-womens-tournament  2020-03-20 15:00:00  Featured            $25,000        227           False  \n",
      "google-cloud-ncaa-march-madness-2020-division-1-mens-tournament    2020-03-19 15:00:00  Featured            $25,000        423           False  \n",
      "bengaliai-cv19                                                     2020-03-16 23:59:00  Research            $10,000       1695           False  \n",
      "google-quest-challenge                                             2020-02-10 23:59:00  Featured            $25,000       1571           False  \n",
      "tensorflow2-question-answering                                     2020-01-22 23:59:00  Featured            $50,000       1233           False  \n",
      "data-science-bowl-2019                                             2020-01-22 23:59:00  Featured           $160,000       3497           False  \n"
     ]
    }
   ],
   "source": [
    "!kaggle competitions list"
   ]
  },
  {
   "cell_type": "markdown",
   "metadata": {
    "colab_type": "text",
    "id": "9VGAjJBAGiCw"
   },
   "source": [
    "## 7. 캐글 데이터 가져오기\n",
    "캐글 API를 이용해 캐글 데이터를 가져 오는 법 입니다. \n",
    "\n",
    "저는 타이타닉 데이터를 가져와 보도록 하겠습니다.  \n",
    "\n",
    "[타이타닉](https://www.kaggle.com/c/titanic/data) 홈페이지를 클릭합니다.  \n",
    "![data](./image/data.png)\n",
    "아래로 내리면 API 창을 클릭해    \n",
    "API를 복사합니다.  \n",
    "![api](./image/api.png)\n",
    "그리고\n",
    "`!` + `자신이 복사한 주소` 를 입력합니다. \n",
    "```\n",
    "!kaggle competitions download -c titanic\n",
    "```"
   ]
  },
  {
   "cell_type": "code",
   "execution_count": 6,
   "metadata": {
    "colab": {
     "base_uri": "https://localhost:8080/",
     "height": 35
    },
    "colab_type": "code",
    "executionInfo": {
     "elapsed": 10660,
     "status": "ok",
     "timestamp": 1582900975776,
     "user": {
      "displayName": "H J",
      "photoUrl": "",
      "userId": "04796031619100753677"
     },
     "user_tz": -540
    },
    "id": "VUM_CaPuIk1h",
    "outputId": "ac4abfff-9ba2-4adb-a38e-be4b65141cfc"
   },
   "outputs": [
    {
     "name": "stdout",
     "output_type": "stream",
     "text": [
      "titanic.zip: Skipping, found more recently modified local copy (use --force to force download)\n"
     ]
    }
   ],
   "source": [
    "!kaggle competitions download -c titanic"
   ]
  },
  {
   "cell_type": "markdown",
   "metadata": {
    "colab_type": "text",
    "id": "WzQEKvsnLYYo"
   },
   "source": [
    "만약   \n",
    "`Warning: Looks like you're using an outdated API Version, please consider updating (server 1.5.6 / client 1.5.4)`  \n",
    " 와 같은 에러가 발생한다면  \n",
    "```\n",
    "!pip uninstall -y kaggle\n",
    "!pip install --upgrade pip\n",
    "!pip install kaggle==1.5.6 # kaggle == '현재버젼'\n",
    "!kaggle -v\n",
    "```\n",
    "를 입력하여 해결하시기 바랍니다.  \n",
    "\n",
    "로그인 하지 않았거나  \n",
    "로그인 하였지만 __Join Competition__ 을 누루지 않게되면  \n",
    "`403 - Forbidden` 에러가 발생합니다.  \n",
    "\n",
    "`403 - Forbidden` 오류를 막기위해  \n",
    "로그인 후 __Join Competition__ 을 누루고  \n",
    "정책에 동의를 해줍시다!  \n",
    "![join](./image/join.png)"
   ]
  },
  {
   "cell_type": "markdown",
   "metadata": {
    "colab_type": "text",
    "id": "S9Cjgj2vIvX8"
   },
   "source": [
    "오류 없이 파일이 다운로드 됐다면  \n",
    "마지막으로 캐글의 데이터가 잘 들어왔는지 확인합니다."
   ]
  },
  {
   "cell_type": "code",
   "execution_count": 7,
   "metadata": {
    "colab": {
     "base_uri": "https://localhost:8080/",
     "height": 53
    },
    "colab_type": "code",
    "executionInfo": {
     "elapsed": 10074,
     "status": "ok",
     "timestamp": 1582900977710,
     "user": {
      "displayName": "H J",
      "photoUrl": "",
      "userId": "04796031619100753677"
     },
     "user_tz": -540
    },
    "id": "kbcCCbtAInyx",
    "outputId": "71a38147-4d5a-4486-c6a5-08a1846f6899"
   },
   "outputs": [
    {
     "name": "stdout",
     "output_type": "stream",
     "text": [
      "gender_submission.csv  sample_data  titanic.zip\n",
      "kaggle.json\t       test.csv     train.csv\n"
     ]
    }
   ],
   "source": [
    "!ls"
   ]
  },
  {
   "cell_type": "markdown",
   "metadata": {
    "colab_type": "text",
    "id": "e3nb_zs6sVAK"
   },
   "source": [
    "## Reference  \n",
    "### Colab  \n",
    "- [Google Colab과 Kaggle 연동하기) 연동하기](https://kaggle-kr.tistory.com/21)\n",
    "\n",
    "### pip\n",
    "- [pip (패키지 관리자)](https://ko.wikipedia.org/wiki/Pip_(%ED%8C%A8%ED%82%A4%EC%A7%80_%EA%B4%80%EB%A6%AC%EC%9E%90))\n",
    "\n",
    "\n",
    "### Linux\n",
    "- [리눅스 ls 명령어 사용법, 옵션 정리 (디렉토리 내용 출력 명령어)](https://withcoding.com/89)\n",
    "- [[linux] 리눅스 기본 명령어/자주 쓰는 명령어](https://itholic.github.io/linux-basic-command/)\n",
    "- [[리눅스] chmod 명령어(리눅스 파일권한 설정 명령어](https://arer.tistory.com/93)\n",
    "\n",
    "### Error\n",
    "- [Version error](https://mc.ai/kaggle-how-to-work-from-colab-and-try-a-competition-as-a-total-ml-de/)\n",
    "- [403 - Forbidden](https://github.com/Kaggle/kaggle-api/issues/87)"
   ]
  }
 ],
 "metadata": {
  "colab": {
   "authorship_tag": "ABX9TyPkn//2tk3ntWEf5fn80aFk",
   "collapsed_sections": [],
   "name": "Kaggle-API(Colab).ipynb",
   "provenance": []
  },
  "kernelspec": {
   "display_name": "Python 3",
   "language": "python",
   "name": "python3"
  },
  "language_info": {
   "codemirror_mode": {
    "name": "ipython",
    "version": 3
   },
   "file_extension": ".py",
   "mimetype": "text/x-python",
   "name": "python",
   "nbconvert_exporter": "python",
   "pygments_lexer": "ipython3",
   "version": "3.7.4"
  }
 },
 "nbformat": 4,
 "nbformat_minor": 1
}
