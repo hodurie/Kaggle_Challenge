{
 "cells": [
  {
   "cell_type": "markdown",
   "metadata": {},
   "source": [
    "# Feature Engineering"
   ]
  },
  {
   "cell_type": "code",
   "execution_count": 1,
   "metadata": {},
   "outputs": [],
   "source": [
    "import pandas as pd\n",
    "import numpy as np\n",
    "import seaborn as sns\n",
    "import matplotlib.pyplot as plt\n",
    "import missingno as msno\n",
    "import sklearn\n",
    "\n",
    "import warnings\n",
    "warnings.filterwarnings('ignore')\n",
    "\n",
    "plt.style.use('ggplot')\n",
    "sns.set(font_scale = 2)\n",
    "# 그래프의 기본 스타일과 font크기를 설정하는 코드입니다."
   ]
  },
  {
   "cell_type": "code",
   "execution_count": 2,
   "metadata": {},
   "outputs": [],
   "source": [
    "import matplotlib as mpl\n",
    "mpl.rc('font', family = 'Malgun Gothic') # 그래프 한글 표시 깨짐 방지\n",
    "mpl.rc('axes', unicode_minus = False) # 그래프 minus 표시 깨짐 방지"
   ]
  },
  {
   "cell_type": "code",
   "execution_count": 3,
   "metadata": {},
   "outputs": [],
   "source": [
    "df_train = pd.read_csv('../input/train.csv')\n",
    "df_test = pd.read_csv('../input/test.csv')"
   ]
  },
  {
   "cell_type": "markdown",
   "metadata": {},
   "source": [
    "## Name"
   ]
  },
  {
   "cell_type": "code",
   "execution_count": 4,
   "metadata": {},
   "outputs": [],
   "source": [
    "df_train['Title'] = df_train['Name']\\\n",
    "                         .str.extract('([A-Za-z]+)\\.') # 대/소문자 상관 없이 . 앞에 있는 알파벳을 추출"
   ]
  },
  {
   "cell_type": "code",
   "execution_count": 5,
   "metadata": {},
   "outputs": [],
   "source": [
    "df_test['Title'] = df_test['Name']\\\n",
    "                         .str.extract('([A-Za-z]+)\\.')\n",
    "# () : 그룹으로 추출\n",
    "# [] : []안의 형태에 맞는 문자를 추출\n",
    "# [a-zA-Z] = [A-Za-z] : 알파벳 추출\n",
    "# + : 하나 이상 추출\n",
    "# \\. : 문자 자체 . "
   ]
  },
  {
   "cell_type": "code",
   "execution_count": 6,
   "metadata": {},
   "outputs": [
    {
     "data": {
      "text/html": [
       "<style  type=\"text/css\" >\n",
       "    #T_68982134_5b9a_11ea_92f7_6c299516e41drow0_col0 {\n",
       "            background-color:  #ffff66;\n",
       "            color:  #000000;\n",
       "        }    #T_68982134_5b9a_11ea_92f7_6c299516e41drow0_col1 {\n",
       "            background-color:  #ffff66;\n",
       "            color:  #000000;\n",
       "        }    #T_68982134_5b9a_11ea_92f7_6c299516e41drow0_col2 {\n",
       "            background-color:  #008066;\n",
       "            color:  #f1f1f1;\n",
       "        }    #T_68982134_5b9a_11ea_92f7_6c299516e41drow0_col3 {\n",
       "            background-color:  #ffff66;\n",
       "            color:  #000000;\n",
       "        }    #T_68982134_5b9a_11ea_92f7_6c299516e41drow0_col4 {\n",
       "            background-color:  #ffff66;\n",
       "            color:  #000000;\n",
       "        }    #T_68982134_5b9a_11ea_92f7_6c299516e41drow0_col5 {\n",
       "            background-color:  #ffff66;\n",
       "            color:  #000000;\n",
       "        }    #T_68982134_5b9a_11ea_92f7_6c299516e41drow0_col6 {\n",
       "            background-color:  #008066;\n",
       "            color:  #f1f1f1;\n",
       "        }    #T_68982134_5b9a_11ea_92f7_6c299516e41drow0_col7 {\n",
       "            background-color:  #ffff66;\n",
       "            color:  #000000;\n",
       "        }    #T_68982134_5b9a_11ea_92f7_6c299516e41drow0_col8 {\n",
       "            background-color:  #ffff66;\n",
       "            color:  #000000;\n",
       "        }    #T_68982134_5b9a_11ea_92f7_6c299516e41drow0_col9 {\n",
       "            background-color:  #008066;\n",
       "            color:  #f1f1f1;\n",
       "        }    #T_68982134_5b9a_11ea_92f7_6c299516e41drow0_col10 {\n",
       "            background-color:  #008066;\n",
       "            color:  #f1f1f1;\n",
       "        }    #T_68982134_5b9a_11ea_92f7_6c299516e41drow0_col11 {\n",
       "            background-color:  #008066;\n",
       "            color:  #f1f1f1;\n",
       "        }    #T_68982134_5b9a_11ea_92f7_6c299516e41drow0_col12 {\n",
       "            background-color:  #ffff66;\n",
       "            color:  #000000;\n",
       "        }    #T_68982134_5b9a_11ea_92f7_6c299516e41drow0_col13 {\n",
       "            background-color:  #008066;\n",
       "            color:  #f1f1f1;\n",
       "        }    #T_68982134_5b9a_11ea_92f7_6c299516e41drow0_col14 {\n",
       "            background-color:  #008066;\n",
       "            color:  #f1f1f1;\n",
       "        }    #T_68982134_5b9a_11ea_92f7_6c299516e41drow0_col15 {\n",
       "            background-color:  #ffff66;\n",
       "            color:  #000000;\n",
       "        }    #T_68982134_5b9a_11ea_92f7_6c299516e41drow0_col16 {\n",
       "            background-color:  #ffff66;\n",
       "            color:  #000000;\n",
       "        }    #T_68982134_5b9a_11ea_92f7_6c299516e41drow1_col0 {\n",
       "            background-color:  #008066;\n",
       "            color:  #f1f1f1;\n",
       "        }    #T_68982134_5b9a_11ea_92f7_6c299516e41drow1_col1 {\n",
       "            background-color:  #008066;\n",
       "            color:  #f1f1f1;\n",
       "        }    #T_68982134_5b9a_11ea_92f7_6c299516e41drow1_col2 {\n",
       "            background-color:  #ffff66;\n",
       "            color:  #000000;\n",
       "        }    #T_68982134_5b9a_11ea_92f7_6c299516e41drow1_col3 {\n",
       "            background-color:  #008066;\n",
       "            color:  #f1f1f1;\n",
       "        }    #T_68982134_5b9a_11ea_92f7_6c299516e41drow1_col4 {\n",
       "            background-color:  #008066;\n",
       "            color:  #f1f1f1;\n",
       "        }    #T_68982134_5b9a_11ea_92f7_6c299516e41drow1_col5 {\n",
       "            background-color:  #008066;\n",
       "            color:  #f1f1f1;\n",
       "        }    #T_68982134_5b9a_11ea_92f7_6c299516e41drow1_col6 {\n",
       "            background-color:  #ffff66;\n",
       "            color:  #000000;\n",
       "        }    #T_68982134_5b9a_11ea_92f7_6c299516e41drow1_col7 {\n",
       "            background-color:  #008066;\n",
       "            color:  #f1f1f1;\n",
       "        }    #T_68982134_5b9a_11ea_92f7_6c299516e41drow1_col8 {\n",
       "            background-color:  #008066;\n",
       "            color:  #f1f1f1;\n",
       "        }    #T_68982134_5b9a_11ea_92f7_6c299516e41drow1_col9 {\n",
       "            background-color:  #ffff66;\n",
       "            color:  #000000;\n",
       "        }    #T_68982134_5b9a_11ea_92f7_6c299516e41drow1_col10 {\n",
       "            background-color:  #ffff66;\n",
       "            color:  #000000;\n",
       "        }    #T_68982134_5b9a_11ea_92f7_6c299516e41drow1_col11 {\n",
       "            background-color:  #ffff66;\n",
       "            color:  #000000;\n",
       "        }    #T_68982134_5b9a_11ea_92f7_6c299516e41drow1_col12 {\n",
       "            background-color:  #008066;\n",
       "            color:  #f1f1f1;\n",
       "        }    #T_68982134_5b9a_11ea_92f7_6c299516e41drow1_col13 {\n",
       "            background-color:  #ffff66;\n",
       "            color:  #000000;\n",
       "        }    #T_68982134_5b9a_11ea_92f7_6c299516e41drow1_col14 {\n",
       "            background-color:  #ffff66;\n",
       "            color:  #000000;\n",
       "        }    #T_68982134_5b9a_11ea_92f7_6c299516e41drow1_col15 {\n",
       "            background-color:  #008066;\n",
       "            color:  #f1f1f1;\n",
       "        }    #T_68982134_5b9a_11ea_92f7_6c299516e41drow1_col16 {\n",
       "            background-color:  #008066;\n",
       "            color:  #f1f1f1;\n",
       "        }</style><table id=\"T_68982134_5b9a_11ea_92f7_6c299516e41d\" ><thead>    <tr>        <th class=\"index_name level0\" >Title</th>        <th class=\"col_heading level0 col0\" >Capt</th>        <th class=\"col_heading level0 col1\" >Col</th>        <th class=\"col_heading level0 col2\" >Countess</th>        <th class=\"col_heading level0 col3\" >Don</th>        <th class=\"col_heading level0 col4\" >Dr</th>        <th class=\"col_heading level0 col5\" >Jonkheer</th>        <th class=\"col_heading level0 col6\" >Lady</th>        <th class=\"col_heading level0 col7\" >Major</th>        <th class=\"col_heading level0 col8\" >Master</th>        <th class=\"col_heading level0 col9\" >Miss</th>        <th class=\"col_heading level0 col10\" >Mlle</th>        <th class=\"col_heading level0 col11\" >Mme</th>        <th class=\"col_heading level0 col12\" >Mr</th>        <th class=\"col_heading level0 col13\" >Mrs</th>        <th class=\"col_heading level0 col14\" >Ms</th>        <th class=\"col_heading level0 col15\" >Rev</th>        <th class=\"col_heading level0 col16\" >Sir</th>    </tr>    <tr>        <th class=\"index_name level0\" >Sex</th>        <th class=\"blank\" ></th>        <th class=\"blank\" ></th>        <th class=\"blank\" ></th>        <th class=\"blank\" ></th>        <th class=\"blank\" ></th>        <th class=\"blank\" ></th>        <th class=\"blank\" ></th>        <th class=\"blank\" ></th>        <th class=\"blank\" ></th>        <th class=\"blank\" ></th>        <th class=\"blank\" ></th>        <th class=\"blank\" ></th>        <th class=\"blank\" ></th>        <th class=\"blank\" ></th>        <th class=\"blank\" ></th>        <th class=\"blank\" ></th>        <th class=\"blank\" ></th>    </tr></thead><tbody>\n",
       "                <tr>\n",
       "                        <th id=\"T_68982134_5b9a_11ea_92f7_6c299516e41dlevel0_row0\" class=\"row_heading level0 row0\" >female</th>\n",
       "                        <td id=\"T_68982134_5b9a_11ea_92f7_6c299516e41drow0_col0\" class=\"data row0 col0\" >0</td>\n",
       "                        <td id=\"T_68982134_5b9a_11ea_92f7_6c299516e41drow0_col1\" class=\"data row0 col1\" >0</td>\n",
       "                        <td id=\"T_68982134_5b9a_11ea_92f7_6c299516e41drow0_col2\" class=\"data row0 col2\" >1</td>\n",
       "                        <td id=\"T_68982134_5b9a_11ea_92f7_6c299516e41drow0_col3\" class=\"data row0 col3\" >0</td>\n",
       "                        <td id=\"T_68982134_5b9a_11ea_92f7_6c299516e41drow0_col4\" class=\"data row0 col4\" >1</td>\n",
       "                        <td id=\"T_68982134_5b9a_11ea_92f7_6c299516e41drow0_col5\" class=\"data row0 col5\" >0</td>\n",
       "                        <td id=\"T_68982134_5b9a_11ea_92f7_6c299516e41drow0_col6\" class=\"data row0 col6\" >1</td>\n",
       "                        <td id=\"T_68982134_5b9a_11ea_92f7_6c299516e41drow0_col7\" class=\"data row0 col7\" >0</td>\n",
       "                        <td id=\"T_68982134_5b9a_11ea_92f7_6c299516e41drow0_col8\" class=\"data row0 col8\" >0</td>\n",
       "                        <td id=\"T_68982134_5b9a_11ea_92f7_6c299516e41drow0_col9\" class=\"data row0 col9\" >182</td>\n",
       "                        <td id=\"T_68982134_5b9a_11ea_92f7_6c299516e41drow0_col10\" class=\"data row0 col10\" >2</td>\n",
       "                        <td id=\"T_68982134_5b9a_11ea_92f7_6c299516e41drow0_col11\" class=\"data row0 col11\" >1</td>\n",
       "                        <td id=\"T_68982134_5b9a_11ea_92f7_6c299516e41drow0_col12\" class=\"data row0 col12\" >0</td>\n",
       "                        <td id=\"T_68982134_5b9a_11ea_92f7_6c299516e41drow0_col13\" class=\"data row0 col13\" >125</td>\n",
       "                        <td id=\"T_68982134_5b9a_11ea_92f7_6c299516e41drow0_col14\" class=\"data row0 col14\" >1</td>\n",
       "                        <td id=\"T_68982134_5b9a_11ea_92f7_6c299516e41drow0_col15\" class=\"data row0 col15\" >0</td>\n",
       "                        <td id=\"T_68982134_5b9a_11ea_92f7_6c299516e41drow0_col16\" class=\"data row0 col16\" >0</td>\n",
       "            </tr>\n",
       "            <tr>\n",
       "                        <th id=\"T_68982134_5b9a_11ea_92f7_6c299516e41dlevel0_row1\" class=\"row_heading level0 row1\" >male</th>\n",
       "                        <td id=\"T_68982134_5b9a_11ea_92f7_6c299516e41drow1_col0\" class=\"data row1 col0\" >1</td>\n",
       "                        <td id=\"T_68982134_5b9a_11ea_92f7_6c299516e41drow1_col1\" class=\"data row1 col1\" >2</td>\n",
       "                        <td id=\"T_68982134_5b9a_11ea_92f7_6c299516e41drow1_col2\" class=\"data row1 col2\" >0</td>\n",
       "                        <td id=\"T_68982134_5b9a_11ea_92f7_6c299516e41drow1_col3\" class=\"data row1 col3\" >1</td>\n",
       "                        <td id=\"T_68982134_5b9a_11ea_92f7_6c299516e41drow1_col4\" class=\"data row1 col4\" >6</td>\n",
       "                        <td id=\"T_68982134_5b9a_11ea_92f7_6c299516e41drow1_col5\" class=\"data row1 col5\" >1</td>\n",
       "                        <td id=\"T_68982134_5b9a_11ea_92f7_6c299516e41drow1_col6\" class=\"data row1 col6\" >0</td>\n",
       "                        <td id=\"T_68982134_5b9a_11ea_92f7_6c299516e41drow1_col7\" class=\"data row1 col7\" >2</td>\n",
       "                        <td id=\"T_68982134_5b9a_11ea_92f7_6c299516e41drow1_col8\" class=\"data row1 col8\" >40</td>\n",
       "                        <td id=\"T_68982134_5b9a_11ea_92f7_6c299516e41drow1_col9\" class=\"data row1 col9\" >0</td>\n",
       "                        <td id=\"T_68982134_5b9a_11ea_92f7_6c299516e41drow1_col10\" class=\"data row1 col10\" >0</td>\n",
       "                        <td id=\"T_68982134_5b9a_11ea_92f7_6c299516e41drow1_col11\" class=\"data row1 col11\" >0</td>\n",
       "                        <td id=\"T_68982134_5b9a_11ea_92f7_6c299516e41drow1_col12\" class=\"data row1 col12\" >517</td>\n",
       "                        <td id=\"T_68982134_5b9a_11ea_92f7_6c299516e41drow1_col13\" class=\"data row1 col13\" >0</td>\n",
       "                        <td id=\"T_68982134_5b9a_11ea_92f7_6c299516e41drow1_col14\" class=\"data row1 col14\" >0</td>\n",
       "                        <td id=\"T_68982134_5b9a_11ea_92f7_6c299516e41drow1_col15\" class=\"data row1 col15\" >6</td>\n",
       "                        <td id=\"T_68982134_5b9a_11ea_92f7_6c299516e41drow1_col16\" class=\"data row1 col16\" >1</td>\n",
       "            </tr>\n",
       "    </tbody></table>"
      ],
      "text/plain": [
       "<pandas.io.formats.style.Styler at 0x1ea68ad8ba8>"
      ]
     },
     "execution_count": 6,
     "metadata": {},
     "output_type": "execute_result"
    }
   ],
   "source": [
    "(pd.crosstab(df_train['Sex'], df_train['Title'])\n",
    "     .style.background_gradient(cmap = 'summer_r'))"
   ]
  },
  {
   "cell_type": "code",
   "execution_count": 7,
   "metadata": {},
   "outputs": [
    {
     "data": {
      "text/html": [
       "<style  type=\"text/css\" >\n",
       "    #T_68bdd228_5b9a_11ea_9039_6c299516e41drow0_col0 {\n",
       "            background-color:  #ffff66;\n",
       "            color:  #000000;\n",
       "        }    #T_68bdd228_5b9a_11ea_9039_6c299516e41drow0_col1 {\n",
       "            background-color:  #008066;\n",
       "            color:  #f1f1f1;\n",
       "        }    #T_68bdd228_5b9a_11ea_9039_6c299516e41drow0_col2 {\n",
       "            background-color:  #ffff66;\n",
       "            color:  #000000;\n",
       "        }    #T_68bdd228_5b9a_11ea_9039_6c299516e41drow0_col3 {\n",
       "            background-color:  #ffff66;\n",
       "            color:  #000000;\n",
       "        }    #T_68bdd228_5b9a_11ea_9039_6c299516e41drow0_col4 {\n",
       "            background-color:  #008066;\n",
       "            color:  #f1f1f1;\n",
       "        }    #T_68bdd228_5b9a_11ea_9039_6c299516e41drow0_col5 {\n",
       "            background-color:  #ffff66;\n",
       "            color:  #000000;\n",
       "        }    #T_68bdd228_5b9a_11ea_9039_6c299516e41drow0_col6 {\n",
       "            background-color:  #008066;\n",
       "            color:  #f1f1f1;\n",
       "        }    #T_68bdd228_5b9a_11ea_9039_6c299516e41drow0_col7 {\n",
       "            background-color:  #008066;\n",
       "            color:  #f1f1f1;\n",
       "        }    #T_68bdd228_5b9a_11ea_9039_6c299516e41drow0_col8 {\n",
       "            background-color:  #ffff66;\n",
       "            color:  #000000;\n",
       "        }    #T_68bdd228_5b9a_11ea_9039_6c299516e41drow1_col0 {\n",
       "            background-color:  #008066;\n",
       "            color:  #f1f1f1;\n",
       "        }    #T_68bdd228_5b9a_11ea_9039_6c299516e41drow1_col1 {\n",
       "            background-color:  #ffff66;\n",
       "            color:  #000000;\n",
       "        }    #T_68bdd228_5b9a_11ea_9039_6c299516e41drow1_col2 {\n",
       "            background-color:  #008066;\n",
       "            color:  #f1f1f1;\n",
       "        }    #T_68bdd228_5b9a_11ea_9039_6c299516e41drow1_col3 {\n",
       "            background-color:  #008066;\n",
       "            color:  #f1f1f1;\n",
       "        }    #T_68bdd228_5b9a_11ea_9039_6c299516e41drow1_col4 {\n",
       "            background-color:  #ffff66;\n",
       "            color:  #000000;\n",
       "        }    #T_68bdd228_5b9a_11ea_9039_6c299516e41drow1_col5 {\n",
       "            background-color:  #008066;\n",
       "            color:  #f1f1f1;\n",
       "        }    #T_68bdd228_5b9a_11ea_9039_6c299516e41drow1_col6 {\n",
       "            background-color:  #ffff66;\n",
       "            color:  #000000;\n",
       "        }    #T_68bdd228_5b9a_11ea_9039_6c299516e41drow1_col7 {\n",
       "            background-color:  #ffff66;\n",
       "            color:  #000000;\n",
       "        }    #T_68bdd228_5b9a_11ea_9039_6c299516e41drow1_col8 {\n",
       "            background-color:  #008066;\n",
       "            color:  #f1f1f1;\n",
       "        }</style><table id=\"T_68bdd228_5b9a_11ea_9039_6c299516e41d\" ><thead>    <tr>        <th class=\"index_name level0\" >Title</th>        <th class=\"col_heading level0 col0\" >Col</th>        <th class=\"col_heading level0 col1\" >Dona</th>        <th class=\"col_heading level0 col2\" >Dr</th>        <th class=\"col_heading level0 col3\" >Master</th>        <th class=\"col_heading level0 col4\" >Miss</th>        <th class=\"col_heading level0 col5\" >Mr</th>        <th class=\"col_heading level0 col6\" >Mrs</th>        <th class=\"col_heading level0 col7\" >Ms</th>        <th class=\"col_heading level0 col8\" >Rev</th>    </tr>    <tr>        <th class=\"index_name level0\" >Sex</th>        <th class=\"blank\" ></th>        <th class=\"blank\" ></th>        <th class=\"blank\" ></th>        <th class=\"blank\" ></th>        <th class=\"blank\" ></th>        <th class=\"blank\" ></th>        <th class=\"blank\" ></th>        <th class=\"blank\" ></th>        <th class=\"blank\" ></th>    </tr></thead><tbody>\n",
       "                <tr>\n",
       "                        <th id=\"T_68bdd228_5b9a_11ea_9039_6c299516e41dlevel0_row0\" class=\"row_heading level0 row0\" >female</th>\n",
       "                        <td id=\"T_68bdd228_5b9a_11ea_9039_6c299516e41drow0_col0\" class=\"data row0 col0\" >0</td>\n",
       "                        <td id=\"T_68bdd228_5b9a_11ea_9039_6c299516e41drow0_col1\" class=\"data row0 col1\" >1</td>\n",
       "                        <td id=\"T_68bdd228_5b9a_11ea_9039_6c299516e41drow0_col2\" class=\"data row0 col2\" >0</td>\n",
       "                        <td id=\"T_68bdd228_5b9a_11ea_9039_6c299516e41drow0_col3\" class=\"data row0 col3\" >0</td>\n",
       "                        <td id=\"T_68bdd228_5b9a_11ea_9039_6c299516e41drow0_col4\" class=\"data row0 col4\" >78</td>\n",
       "                        <td id=\"T_68bdd228_5b9a_11ea_9039_6c299516e41drow0_col5\" class=\"data row0 col5\" >0</td>\n",
       "                        <td id=\"T_68bdd228_5b9a_11ea_9039_6c299516e41drow0_col6\" class=\"data row0 col6\" >72</td>\n",
       "                        <td id=\"T_68bdd228_5b9a_11ea_9039_6c299516e41drow0_col7\" class=\"data row0 col7\" >1</td>\n",
       "                        <td id=\"T_68bdd228_5b9a_11ea_9039_6c299516e41drow0_col8\" class=\"data row0 col8\" >0</td>\n",
       "            </tr>\n",
       "            <tr>\n",
       "                        <th id=\"T_68bdd228_5b9a_11ea_9039_6c299516e41dlevel0_row1\" class=\"row_heading level0 row1\" >male</th>\n",
       "                        <td id=\"T_68bdd228_5b9a_11ea_9039_6c299516e41drow1_col0\" class=\"data row1 col0\" >2</td>\n",
       "                        <td id=\"T_68bdd228_5b9a_11ea_9039_6c299516e41drow1_col1\" class=\"data row1 col1\" >0</td>\n",
       "                        <td id=\"T_68bdd228_5b9a_11ea_9039_6c299516e41drow1_col2\" class=\"data row1 col2\" >1</td>\n",
       "                        <td id=\"T_68bdd228_5b9a_11ea_9039_6c299516e41drow1_col3\" class=\"data row1 col3\" >21</td>\n",
       "                        <td id=\"T_68bdd228_5b9a_11ea_9039_6c299516e41drow1_col4\" class=\"data row1 col4\" >0</td>\n",
       "                        <td id=\"T_68bdd228_5b9a_11ea_9039_6c299516e41drow1_col5\" class=\"data row1 col5\" >240</td>\n",
       "                        <td id=\"T_68bdd228_5b9a_11ea_9039_6c299516e41drow1_col6\" class=\"data row1 col6\" >0</td>\n",
       "                        <td id=\"T_68bdd228_5b9a_11ea_9039_6c299516e41drow1_col7\" class=\"data row1 col7\" >0</td>\n",
       "                        <td id=\"T_68bdd228_5b9a_11ea_9039_6c299516e41drow1_col8\" class=\"data row1 col8\" >2</td>\n",
       "            </tr>\n",
       "    </tbody></table>"
      ],
      "text/plain": [
       "<pandas.io.formats.style.Styler at 0x1ea6a40a320>"
      ]
     },
     "execution_count": 7,
     "metadata": {},
     "output_type": "execute_result"
    }
   ],
   "source": [
    "(pd.crosstab(df_test['Sex'], df_test['Title'])\n",
    "     .style.background_gradient(cmap = 'summer_r'))"
   ]
  },
  {
   "cell_type": "markdown",
   "metadata": {},
   "source": [
    "Mr/Master/Mrs/Miss 알아보기!  \n",
    "Mr : 남성  \n",
    "Master : 소년  \n",
    "Mrs : 기혼 여성  \n",
    "Miss : 미혼 여성  \n",
    "\n",
    "여기선  \n",
    "Mrs/Miss 등 여성의 경칭을 하나로 통일하여 사용"
   ]
  },
  {
   "cell_type": "code",
   "execution_count": 8,
   "metadata": {},
   "outputs": [
    {
     "name": "stdout",
     "output_type": "stream",
     "text": [
      "     Age   Sex Title\n",
      "30  40.0  male   Don\n",
      "--------------------\n",
      "      Age   Sex Title\n",
      "149  42.0  male   Rev\n",
      "150  51.0  male   Rev\n",
      "249  54.0  male   Rev\n",
      "626  57.0  male   Rev\n",
      "848  28.0  male   Rev\n",
      "886  27.0  male   Rev\n",
      "--------------------\n",
      "      Age     Sex Title\n",
      "245  44.0    male    Dr\n",
      "317  54.0    male    Dr\n",
      "398  23.0    male    Dr\n",
      "632  32.0    male    Dr\n",
      "660  50.0    male    Dr\n",
      "766   NaN    male    Dr\n",
      "796  49.0  female    Dr\n",
      "--------------------\n",
      "      Age     Sex Title\n",
      "369  24.0  female   Mme\n",
      "--------------------\n",
      "      Age     Sex Title\n",
      "443  28.0  female    Ms\n",
      "--------------------\n",
      "      Age   Sex  Title\n",
      "449  52.0  male  Major\n",
      "536  45.0  male  Major\n",
      "--------------------\n",
      "      Age     Sex Title\n",
      "556  48.0  female  Lady\n",
      "--------------------\n",
      "      Age   Sex Title\n",
      "599  49.0  male   Sir\n",
      "--------------------\n",
      "      Age     Sex Title\n",
      "641  24.0  female  Mlle\n",
      "710  24.0  female  Mlle\n",
      "--------------------\n",
      "      Age   Sex Title\n",
      "647  56.0  male   Col\n",
      "694  60.0  male   Col\n",
      "--------------------\n",
      "      Age   Sex Title\n",
      "745  70.0  male  Capt\n",
      "--------------------\n",
      "      Age     Sex     Title\n",
      "759  33.0  female  Countess\n",
      "--------------------\n",
      "      Age   Sex     Title\n",
      "822  38.0  male  Jonkheer\n",
      "--------------------\n"
     ]
    }
   ],
   "source": [
    "cols = [col for col in df_train['Title'].unique() if col not in ('Mr', 'Mrs', 'Miss', 'Master') ]\n",
    "for col in cols:\n",
    "    print(df_train.loc[df_train['Title'] == col, ['Age', 'Sex', 'Title']])\n",
    "    print('-'*20)"
   ]
  },
  {
   "cell_type": "code",
   "execution_count": 9,
   "metadata": {},
   "outputs": [
    {
     "name": "stdout",
     "output_type": "stream",
     "text": [
      "    Age     Sex Title\n",
      "88  NaN  female    Ms\n",
      "--------------------\n",
      "      Age   Sex Title\n",
      "131  53.0  male   Col\n",
      "202  47.0  male   Col\n",
      "--------------------\n",
      "      Age   Sex Title\n",
      "149  30.0  male   Rev\n",
      "164  41.0  male   Rev\n",
      "--------------------\n",
      "      Age   Sex Title\n",
      "293  53.0  male    Dr\n",
      "--------------------\n",
      "      Age     Sex Title\n",
      "414  39.0  female  Dona\n",
      "--------------------\n"
     ]
    }
   ],
   "source": [
    "cols = [col for col in df_test['Title'].unique() if col not in ('Mr', 'Mrs', 'Miss', 'Master') ]\n",
    "for col in cols:\n",
    "    print(df_test.loc[df_test['Title'] == col, ['Age', 'Sex', 'Title']])\n",
    "    print('-'*20)"
   ]
  },
  {
   "cell_type": "code",
   "execution_count": 10,
   "metadata": {},
   "outputs": [],
   "source": [
    "df_train[\"Title\"] = df_train[\"Title\"].replace(['Lady', 'Countess', 'Capt','Col', 'Don',\n",
    "                                               'Dr', 'Major', 'Rev', 'Sir', 'Jonkheer', 'Dona'], 'Rare')\n",
    "df_train[\"Title\"] = df_train[\"Title\"].map({\"Master\" : 0, \"Miss\" : 1, \"Ms\" : 1 , \"Mme\" : 1, \n",
    "                                           \"Mlle\" : 1, \"Mrs\" : 1, \"Mr\" : 2, \"Rare\" : 3})\n",
    "df_train[\"Title\"] = df_train[\"Title\"].astype(int)"
   ]
  },
  {
   "cell_type": "code",
   "execution_count": 11,
   "metadata": {},
   "outputs": [],
   "source": [
    "df_test[\"Title\"] = df_test[\"Title\"].replace(['Lady', 'Countess', 'Capt','Col', 'Don',\n",
    "                                               'Dr', 'Major', 'Rev', 'Sir', 'Jonkheer', 'Dona'], 'Rare')\n",
    "df_test[\"Title\"] = df_test[\"Title\"].map({\"Master\" : 0, \"Miss\" : 1, \"Ms\" : 1 , \"Mme\" : 1, \n",
    "                                           \"Mlle\" : 1, \"Mrs\" : 1, \"Mr\" : 2, \"Rare\" : 3})\n",
    "df_test[\"Title\"] = df_test[\"Title\"].astype(int)"
   ]
  },
  {
   "cell_type": "code",
   "execution_count": 12,
   "metadata": {},
   "outputs": [
    {
     "data": {
      "text/plain": [
       "[Text(0, 0, 'Master'),\n",
       " Text(0, 0, 'Miss'),\n",
       " Text(0, 0, 'Mr'),\n",
       " Text(0, 0, 'Rare')]"
      ]
     },
     "execution_count": 12,
     "metadata": {},
     "output_type": "execute_result"
    },
    {
     "data": {
      "image/png": "[encoded data removed]",
      "text/plain": [
       "<Figure size 432x288 with 1 Axes>"
      ]
     },
     "metadata": {
      "needs_background": "light"
     },
     "output_type": "display_data"
    }
   ],
   "source": [
    "sns.countplot(df_train[\"Title\"])\\\n",
    "    .set_xticklabels([\"Master\", \"Miss\", \"Mr\", \"Rare\"])"
   ]
  },
  {
   "cell_type": "markdown",
   "metadata": {},
   "source": [
    "## Age"
   ]
  },
  {
   "cell_type": "code",
   "execution_count": 13,
   "metadata": {},
   "outputs": [
    {
     "data": {
      "text/html": [
       "<div>\n",
       "<style scoped>\n",
       "    .dataframe tbody tr th:only-of-type {\n",
       "        vertical-align: middle;\n",
       "    }\n",
       "\n",
       "    .dataframe tbody tr th {\n",
       "        vertical-align: top;\n",
       "    }\n",
       "\n",
       "    .dataframe thead th {\n",
       "        text-align: right;\n",
       "    }\n",
       "</style>\n",
       "<table border=\"1\" class=\"dataframe\">\n",
       "  <thead>\n",
       "    <tr style=\"text-align: right;\">\n",
       "      <th></th>\n",
       "      <th>PassengerId</th>\n",
       "      <th>Survived</th>\n",
       "      <th>Pclass</th>\n",
       "      <th>Age</th>\n",
       "      <th>SibSp</th>\n",
       "      <th>Parch</th>\n",
       "      <th>Fare</th>\n",
       "    </tr>\n",
       "    <tr>\n",
       "      <th>Title</th>\n",
       "      <th></th>\n",
       "      <th></th>\n",
       "      <th></th>\n",
       "      <th></th>\n",
       "      <th></th>\n",
       "      <th></th>\n",
       "      <th></th>\n",
       "    </tr>\n",
       "  </thead>\n",
       "  <tbody>\n",
       "    <tr>\n",
       "      <th>0</th>\n",
       "      <td>414.975000</td>\n",
       "      <td>0.575000</td>\n",
       "      <td>2.625000</td>\n",
       "      <td>4.574167</td>\n",
       "      <td>2.300000</td>\n",
       "      <td>1.375000</td>\n",
       "      <td>34.703125</td>\n",
       "    </tr>\n",
       "    <tr>\n",
       "      <th>1</th>\n",
       "      <td>428.389068</td>\n",
       "      <td>0.739550</td>\n",
       "      <td>2.170418</td>\n",
       "      <td>27.736434</td>\n",
       "      <td>0.697749</td>\n",
       "      <td>0.655949</td>\n",
       "      <td>44.420044</td>\n",
       "    </tr>\n",
       "    <tr>\n",
       "      <th>2</th>\n",
       "      <td>454.499033</td>\n",
       "      <td>0.156673</td>\n",
       "      <td>2.410058</td>\n",
       "      <td>32.368090</td>\n",
       "      <td>0.288201</td>\n",
       "      <td>0.152805</td>\n",
       "      <td>24.441560</td>\n",
       "    </tr>\n",
       "    <tr>\n",
       "      <th>3</th>\n",
       "      <td>547.043478</td>\n",
       "      <td>0.347826</td>\n",
       "      <td>1.347826</td>\n",
       "      <td>45.545455</td>\n",
       "      <td>0.347826</td>\n",
       "      <td>0.086957</td>\n",
       "      <td>37.169748</td>\n",
       "    </tr>\n",
       "  </tbody>\n",
       "</table>\n",
       "</div>"
      ],
      "text/plain": [
       "       PassengerId  Survived    Pclass        Age     SibSp     Parch  \\\n",
       "Title                                                                   \n",
       "0       414.975000  0.575000  2.625000   4.574167  2.300000  1.375000   \n",
       "1       428.389068  0.739550  2.170418  27.736434  0.697749  0.655949   \n",
       "2       454.499033  0.156673  2.410058  32.368090  0.288201  0.152805   \n",
       "3       547.043478  0.347826  1.347826  45.545455  0.347826  0.086957   \n",
       "\n",
       "            Fare  \n",
       "Title             \n",
       "0      34.703125  \n",
       "1      44.420044  \n",
       "2      24.441560  \n",
       "3      37.169748  "
      ]
     },
     "execution_count": 13,
     "metadata": {},
     "output_type": "execute_result"
    }
   ],
   "source": [
    "df_train.groupby('Title').mean()"
   ]
  },
  {
   "cell_type": "code",
   "execution_count": 14,
   "metadata": {},
   "outputs": [],
   "source": [
    "df_train.loc[(df_train['Title'] == 0) & (df_train['Age'].isnull()), 'Age'] = 5\n",
    "df_train.loc[(df_train['Title'] == 1) & (df_train['Age'].isnull()), 'Age'] = 28\n",
    "df_train.loc[(df_train['Title'] == 2) & (df_train['Age'].isnull()), 'Age'] = 33\n",
    "df_train.loc[(df_train['Title'] == 3) & (df_train['Age'].isnull()), 'Age'] = 46"
   ]
  },
  {
   "cell_type": "code",
   "execution_count": 15,
   "metadata": {},
   "outputs": [
    {
     "data": {
      "text/html": [
       "<div>\n",
       "<style scoped>\n",
       "    .dataframe tbody tr th:only-of-type {\n",
       "        vertical-align: middle;\n",
       "    }\n",
       "\n",
       "    .dataframe tbody tr th {\n",
       "        vertical-align: top;\n",
       "    }\n",
       "\n",
       "    .dataframe thead th {\n",
       "        text-align: right;\n",
       "    }\n",
       "</style>\n",
       "<table border=\"1\" class=\"dataframe\">\n",
       "  <thead>\n",
       "    <tr style=\"text-align: right;\">\n",
       "      <th></th>\n",
       "      <th>PassengerId</th>\n",
       "      <th>Pclass</th>\n",
       "      <th>Age</th>\n",
       "      <th>SibSp</th>\n",
       "      <th>Parch</th>\n",
       "      <th>Fare</th>\n",
       "    </tr>\n",
       "    <tr>\n",
       "      <th>Title</th>\n",
       "      <th></th>\n",
       "      <th></th>\n",
       "      <th></th>\n",
       "      <th></th>\n",
       "      <th></th>\n",
       "      <th></th>\n",
       "    </tr>\n",
       "  </thead>\n",
       "  <tbody>\n",
       "    <tr>\n",
       "      <th>0</th>\n",
       "      <td>1123.380952</td>\n",
       "      <td>2.714286</td>\n",
       "      <td>7.406471</td>\n",
       "      <td>1.571429</td>\n",
       "      <td>1.380952</td>\n",
       "      <td>38.494043</td>\n",
       "    </tr>\n",
       "    <tr>\n",
       "      <th>1</th>\n",
       "      <td>1095.403974</td>\n",
       "      <td>2.152318</td>\n",
       "      <td>30.203095</td>\n",
       "      <td>0.569536</td>\n",
       "      <td>0.602649</td>\n",
       "      <td>49.355962</td>\n",
       "    </tr>\n",
       "    <tr>\n",
       "      <th>2</th>\n",
       "      <td>1101.279167</td>\n",
       "      <td>2.320833</td>\n",
       "      <td>32.000000</td>\n",
       "      <td>0.270833</td>\n",
       "      <td>0.175000</td>\n",
       "      <td>25.563302</td>\n",
       "    </tr>\n",
       "    <tr>\n",
       "      <th>3</th>\n",
       "      <td>1117.500000</td>\n",
       "      <td>1.333333</td>\n",
       "      <td>43.833333</td>\n",
       "      <td>0.500000</td>\n",
       "      <td>0.333333</td>\n",
       "      <td>80.963883</td>\n",
       "    </tr>\n",
       "  </tbody>\n",
       "</table>\n",
       "</div>"
      ],
      "text/plain": [
       "       PassengerId    Pclass        Age     SibSp     Parch       Fare\n",
       "Title                                                                 \n",
       "0      1123.380952  2.714286   7.406471  1.571429  1.380952  38.494043\n",
       "1      1095.403974  2.152318  30.203095  0.569536  0.602649  49.355962\n",
       "2      1101.279167  2.320833  32.000000  0.270833  0.175000  25.563302\n",
       "3      1117.500000  1.333333  43.833333  0.500000  0.333333  80.963883"
      ]
     },
     "execution_count": 15,
     "metadata": {},
     "output_type": "execute_result"
    }
   ],
   "source": [
    "df_test.groupby('Title').mean()"
   ]
  },
  {
   "cell_type": "code",
   "execution_count": 16,
   "metadata": {},
   "outputs": [],
   "source": [
    "df_test.loc[(df_test['Title'] == 0) & (df_test['Age'].isnull()), 'Age'] = 8\n",
    "df_test.loc[(df_test['Title'] == 1) & (df_test['Age'].isnull()), 'Age'] = 31\n",
    "df_test.loc[(df_test['Title'] == 2) & (df_test['Age'].isnull()), 'Age'] = 32\n",
    "df_test.loc[(df_test['Title'] == 3) & (df_test['Age'].isnull()), 'Age'] = 44"
   ]
  },
  {
   "cell_type": "code",
   "execution_count": 17,
   "metadata": {},
   "outputs": [
    {
     "data": {
      "text/html": [
       "<div>\n",
       "<style scoped>\n",
       "    .dataframe tbody tr th:only-of-type {\n",
       "        vertical-align: middle;\n",
       "    }\n",
       "\n",
       "    .dataframe tbody tr th {\n",
       "        vertical-align: top;\n",
       "    }\n",
       "\n",
       "    .dataframe thead th {\n",
       "        text-align: right;\n",
       "    }\n",
       "</style>\n",
       "<table border=\"1\" class=\"dataframe\">\n",
       "  <thead>\n",
       "    <tr style=\"text-align: right;\">\n",
       "      <th></th>\n",
       "      <th>PassengerId</th>\n",
       "      <th>Survived</th>\n",
       "      <th>Pclass</th>\n",
       "      <th>Name</th>\n",
       "      <th>Sex</th>\n",
       "      <th>Age</th>\n",
       "      <th>SibSp</th>\n",
       "      <th>Parch</th>\n",
       "      <th>Ticket</th>\n",
       "      <th>Fare</th>\n",
       "      <th>Cabin</th>\n",
       "      <th>Embarked</th>\n",
       "      <th>Title</th>\n",
       "      <th>Age_band</th>\n",
       "    </tr>\n",
       "  </thead>\n",
       "  <tbody>\n",
       "    <tr>\n",
       "      <th>0</th>\n",
       "      <td>1</td>\n",
       "      <td>0</td>\n",
       "      <td>3</td>\n",
       "      <td>Braund, Mr. Owen Harris</td>\n",
       "      <td>male</td>\n",
       "      <td>22.0</td>\n",
       "      <td>1</td>\n",
       "      <td>0</td>\n",
       "      <td>A/5 21171</td>\n",
       "      <td>7.2500</td>\n",
       "      <td>NaN</td>\n",
       "      <td>S</td>\n",
       "      <td>2</td>\n",
       "      <td>2</td>\n",
       "    </tr>\n",
       "    <tr>\n",
       "      <th>1</th>\n",
       "      <td>2</td>\n",
       "      <td>1</td>\n",
       "      <td>1</td>\n",
       "      <td>Cumings, Mrs. John Bradley (Florence Briggs Th...</td>\n",
       "      <td>female</td>\n",
       "      <td>38.0</td>\n",
       "      <td>1</td>\n",
       "      <td>0</td>\n",
       "      <td>PC 17599</td>\n",
       "      <td>71.2833</td>\n",
       "      <td>C85</td>\n",
       "      <td>C</td>\n",
       "      <td>1</td>\n",
       "      <td>3</td>\n",
       "    </tr>\n",
       "    <tr>\n",
       "      <th>2</th>\n",
       "      <td>3</td>\n",
       "      <td>1</td>\n",
       "      <td>3</td>\n",
       "      <td>Heikkinen, Miss. Laina</td>\n",
       "      <td>female</td>\n",
       "      <td>26.0</td>\n",
       "      <td>0</td>\n",
       "      <td>0</td>\n",
       "      <td>STON/O2. 3101282</td>\n",
       "      <td>7.9250</td>\n",
       "      <td>NaN</td>\n",
       "      <td>S</td>\n",
       "      <td>1</td>\n",
       "      <td>2</td>\n",
       "    </tr>\n",
       "    <tr>\n",
       "      <th>3</th>\n",
       "      <td>4</td>\n",
       "      <td>1</td>\n",
       "      <td>1</td>\n",
       "      <td>Futrelle, Mrs. Jacques Heath (Lily May Peel)</td>\n",
       "      <td>female</td>\n",
       "      <td>35.0</td>\n",
       "      <td>1</td>\n",
       "      <td>0</td>\n",
       "      <td>113803</td>\n",
       "      <td>53.1000</td>\n",
       "      <td>C123</td>\n",
       "      <td>S</td>\n",
       "      <td>1</td>\n",
       "      <td>3</td>\n",
       "    </tr>\n",
       "    <tr>\n",
       "      <th>4</th>\n",
       "      <td>5</td>\n",
       "      <td>0</td>\n",
       "      <td>3</td>\n",
       "      <td>Allen, Mr. William Henry</td>\n",
       "      <td>male</td>\n",
       "      <td>35.0</td>\n",
       "      <td>0</td>\n",
       "      <td>0</td>\n",
       "      <td>373450</td>\n",
       "      <td>8.0500</td>\n",
       "      <td>NaN</td>\n",
       "      <td>S</td>\n",
       "      <td>2</td>\n",
       "      <td>3</td>\n",
       "    </tr>\n",
       "  </tbody>\n",
       "</table>\n",
       "</div>"
      ],
      "text/plain": [
       "   PassengerId  Survived  Pclass  \\\n",
       "0            1         0       3   \n",
       "1            2         1       1   \n",
       "2            3         1       3   \n",
       "3            4         1       1   \n",
       "4            5         0       3   \n",
       "\n",
       "                                                Name     Sex   Age  SibSp  \\\n",
       "0                            Braund, Mr. Owen Harris    male  22.0      1   \n",
       "1  Cumings, Mrs. John Bradley (Florence Briggs Th...  female  38.0      1   \n",
       "2                             Heikkinen, Miss. Laina  female  26.0      0   \n",
       "3       Futrelle, Mrs. Jacques Heath (Lily May Peel)  female  35.0      1   \n",
       "4                           Allen, Mr. William Henry    male  35.0      0   \n",
       "\n",
       "   Parch            Ticket     Fare Cabin Embarked  Title  Age_band  \n",
       "0      0         A/5 21171   7.2500   NaN        S      2         2  \n",
       "1      0          PC 17599  71.2833   C85        C      1         3  \n",
       "2      0  STON/O2. 3101282   7.9250   NaN        S      1         2  \n",
       "3      0            113803  53.1000  C123        S      1         3  \n",
       "4      0            373450   8.0500   NaN        S      2         3  "
      ]
     },
     "execution_count": 17,
     "metadata": {},
     "output_type": "execute_result"
    }
   ],
   "source": [
    "df_train['Age_band'] = 0\n",
    "df_train.loc[df_train['Age'] < 10, 'Age_band'] = 0\n",
    "df_train.loc[(df_train['Age'] >= 10) & (df_train['Age'] < 20),'Age_band'] = 1\n",
    "df_train.loc[(df_train['Age'] >= 20) & (df_train['Age'] < 30),'Age_band'] = 2\n",
    "df_train.loc[(df_train['Age'] >= 30) & (df_train['Age'] < 40),'Age_band'] = 3\n",
    "df_train.loc[(df_train['Age'] >= 40) & (df_train['Age'] < 50),'Age_band'] = 4\n",
    "df_train.loc[(df_train['Age'] >= 50) & (df_train['Age'] < 60),'Age_band'] = 5\n",
    "df_train.loc[df_train['Age'] >= 60,'Age_band'] = 6\n",
    "df_train.head()"
   ]
  },
  {
   "cell_type": "code",
   "execution_count": 18,
   "metadata": {},
   "outputs": [
    {
     "data": {
      "text/html": [
       "<div>\n",
       "<style scoped>\n",
       "    .dataframe tbody tr th:only-of-type {\n",
       "        vertical-align: middle;\n",
       "    }\n",
       "\n",
       "    .dataframe tbody tr th {\n",
       "        vertical-align: top;\n",
       "    }\n",
       "\n",
       "    .dataframe thead th {\n",
       "        text-align: right;\n",
       "    }\n",
       "</style>\n",
       "<table border=\"1\" class=\"dataframe\">\n",
       "  <thead>\n",
       "    <tr style=\"text-align: right;\">\n",
       "      <th></th>\n",
       "      <th>PassengerId</th>\n",
       "      <th>Pclass</th>\n",
       "      <th>Name</th>\n",
       "      <th>Sex</th>\n",
       "      <th>Age</th>\n",
       "      <th>SibSp</th>\n",
       "      <th>Parch</th>\n",
       "      <th>Ticket</th>\n",
       "      <th>Fare</th>\n",
       "      <th>Cabin</th>\n",
       "      <th>Embarked</th>\n",
       "      <th>Title</th>\n",
       "      <th>Age_band</th>\n",
       "    </tr>\n",
       "  </thead>\n",
       "  <tbody>\n",
       "    <tr>\n",
       "      <th>0</th>\n",
       "      <td>892</td>\n",
       "      <td>3</td>\n",
       "      <td>Kelly, Mr. James</td>\n",
       "      <td>male</td>\n",
       "      <td>34.5</td>\n",
       "      <td>0</td>\n",
       "      <td>0</td>\n",
       "      <td>330911</td>\n",
       "      <td>7.8292</td>\n",
       "      <td>NaN</td>\n",
       "      <td>Q</td>\n",
       "      <td>2</td>\n",
       "      <td>3</td>\n",
       "    </tr>\n",
       "    <tr>\n",
       "      <th>1</th>\n",
       "      <td>893</td>\n",
       "      <td>3</td>\n",
       "      <td>Wilkes, Mrs. James (Ellen Needs)</td>\n",
       "      <td>female</td>\n",
       "      <td>47.0</td>\n",
       "      <td>1</td>\n",
       "      <td>0</td>\n",
       "      <td>363272</td>\n",
       "      <td>7.0000</td>\n",
       "      <td>NaN</td>\n",
       "      <td>S</td>\n",
       "      <td>1</td>\n",
       "      <td>4</td>\n",
       "    </tr>\n",
       "    <tr>\n",
       "      <th>2</th>\n",
       "      <td>894</td>\n",
       "      <td>2</td>\n",
       "      <td>Myles, Mr. Thomas Francis</td>\n",
       "      <td>male</td>\n",
       "      <td>62.0</td>\n",
       "      <td>0</td>\n",
       "      <td>0</td>\n",
       "      <td>240276</td>\n",
       "      <td>9.6875</td>\n",
       "      <td>NaN</td>\n",
       "      <td>Q</td>\n",
       "      <td>2</td>\n",
       "      <td>6</td>\n",
       "    </tr>\n",
       "    <tr>\n",
       "      <th>3</th>\n",
       "      <td>895</td>\n",
       "      <td>3</td>\n",
       "      <td>Wirz, Mr. Albert</td>\n",
       "      <td>male</td>\n",
       "      <td>27.0</td>\n",
       "      <td>0</td>\n",
       "      <td>0</td>\n",
       "      <td>315154</td>\n",
       "      <td>8.6625</td>\n",
       "      <td>NaN</td>\n",
       "      <td>S</td>\n",
       "      <td>2</td>\n",
       "      <td>2</td>\n",
       "    </tr>\n",
       "    <tr>\n",
       "      <th>4</th>\n",
       "      <td>896</td>\n",
       "      <td>3</td>\n",
       "      <td>Hirvonen, Mrs. Alexander (Helga E Lindqvist)</td>\n",
       "      <td>female</td>\n",
       "      <td>22.0</td>\n",
       "      <td>1</td>\n",
       "      <td>1</td>\n",
       "      <td>3101298</td>\n",
       "      <td>12.2875</td>\n",
       "      <td>NaN</td>\n",
       "      <td>S</td>\n",
       "      <td>1</td>\n",
       "      <td>2</td>\n",
       "    </tr>\n",
       "  </tbody>\n",
       "</table>\n",
       "</div>"
      ],
      "text/plain": [
       "   PassengerId  Pclass                                          Name     Sex  \\\n",
       "0          892       3                              Kelly, Mr. James    male   \n",
       "1          893       3              Wilkes, Mrs. James (Ellen Needs)  female   \n",
       "2          894       2                     Myles, Mr. Thomas Francis    male   \n",
       "3          895       3                              Wirz, Mr. Albert    male   \n",
       "4          896       3  Hirvonen, Mrs. Alexander (Helga E Lindqvist)  female   \n",
       "\n",
       "    Age  SibSp  Parch   Ticket     Fare Cabin Embarked  Title  Age_band  \n",
       "0  34.5      0      0   330911   7.8292   NaN        Q      2         3  \n",
       "1  47.0      1      0   363272   7.0000   NaN        S      1         4  \n",
       "2  62.0      0      0   240276   9.6875   NaN        Q      2         6  \n",
       "3  27.0      0      0   315154   8.6625   NaN        S      2         2  \n",
       "4  22.0      1      1  3101298  12.2875   NaN        S      1         2  "
      ]
     },
     "execution_count": 18,
     "metadata": {},
     "output_type": "execute_result"
    }
   ],
   "source": [
    "df_test['Age_band'] = 0\n",
    "df_test.loc[df_test['Age'] < 10, 'Age_band'] = 0\n",
    "df_test.loc[(df_test['Age'] >= 10) & (df_test['Age'] < 20),'Age_band'] = 1\n",
    "df_test.loc[(df_test['Age'] >= 20) & (df_test['Age'] < 30),'Age_band'] = 2\n",
    "df_test.loc[(df_test['Age'] >= 30) & (df_test['Age'] < 40),'Age_band'] = 3\n",
    "df_test.loc[(df_test['Age'] >= 40) & (df_test['Age'] < 50),'Age_band'] = 4\n",
    "df_test.loc[(df_test['Age'] >= 50) & (df_test['Age'] < 60),'Age_band'] = 5\n",
    "df_test.loc[df_test['Age'] >= 60, 'Age_band'] = 6\n",
    "df_test.head()"
   ]
  },
  {
   "cell_type": "markdown",
   "metadata": {},
   "source": [
    "## Embarked"
   ]
  },
  {
   "cell_type": "code",
   "execution_count": 19,
   "metadata": {},
   "outputs": [
    {
     "data": {
      "text/plain": [
       "S    644\n",
       "C    168\n",
       "Q     77\n",
       "Name: Embarked, dtype: int64"
      ]
     },
     "execution_count": 19,
     "metadata": {},
     "output_type": "execute_result"
    }
   ],
   "source": [
    "df_train[\"Embarked\"].value_counts()"
   ]
  },
  {
   "cell_type": "code",
   "execution_count": 20,
   "metadata": {},
   "outputs": [],
   "source": [
    "df_train['Embarked'].fillna('S', inplace = True)"
   ]
  },
  {
   "cell_type": "code",
   "execution_count": 21,
   "metadata": {},
   "outputs": [],
   "source": [
    "df_train['Embarked'] = df_train['Embarked'].map({'S' : 0, 'C' : 1, 'Q' : 2})"
   ]
  },
  {
   "cell_type": "code",
   "execution_count": 22,
   "metadata": {},
   "outputs": [],
   "source": [
    "df_test['Embarked'] = df_test['Embarked'].map({'S' : 0, 'C' : 1, 'Q' : 2})"
   ]
  },
  {
   "cell_type": "markdown",
   "metadata": {},
   "source": [
    "## Sex"
   ]
  },
  {
   "cell_type": "code",
   "execution_count": 23,
   "metadata": {},
   "outputs": [],
   "source": [
    "df_train['Sex'] = df_train['Sex'].map({'female' : 0, 'male' : 1})\n",
    "df_test['Sex'] = df_train['Sex'].map({'female' : 0, 'male' : 1})"
   ]
  },
  {
   "cell_type": "markdown",
   "metadata": {},
   "source": [
    "## Fare"
   ]
  },
  {
   "cell_type": "code",
   "execution_count": 24,
   "metadata": {},
   "outputs": [
    {
     "data": {
      "text/html": [
       "<div>\n",
       "<style scoped>\n",
       "    .dataframe tbody tr th:only-of-type {\n",
       "        vertical-align: middle;\n",
       "    }\n",
       "\n",
       "    .dataframe tbody tr th {\n",
       "        vertical-align: top;\n",
       "    }\n",
       "\n",
       "    .dataframe thead th {\n",
       "        text-align: right;\n",
       "    }\n",
       "</style>\n",
       "<table border=\"1\" class=\"dataframe\">\n",
       "  <thead>\n",
       "    <tr style=\"text-align: right;\">\n",
       "      <th></th>\n",
       "      <th>Fare</th>\n",
       "    </tr>\n",
       "    <tr>\n",
       "      <th>Pclass</th>\n",
       "      <th></th>\n",
       "    </tr>\n",
       "  </thead>\n",
       "  <tbody>\n",
       "    <tr>\n",
       "      <th>1</th>\n",
       "      <td>60.0000</td>\n",
       "    </tr>\n",
       "    <tr>\n",
       "      <th>2</th>\n",
       "      <td>15.7500</td>\n",
       "    </tr>\n",
       "    <tr>\n",
       "      <th>3</th>\n",
       "      <td>7.8958</td>\n",
       "    </tr>\n",
       "  </tbody>\n",
       "</table>\n",
       "</div>"
      ],
      "text/plain": [
       "           Fare\n",
       "Pclass         \n",
       "1       60.0000\n",
       "2       15.7500\n",
       "3        7.8958"
      ]
     },
     "execution_count": 24,
     "metadata": {},
     "output_type": "execute_result"
    }
   ],
   "source": [
    "df_test[['Pclass', 'Fare']].groupby('Pclass').median()"
   ]
  },
  {
   "cell_type": "code",
   "execution_count": 25,
   "metadata": {},
   "outputs": [],
   "source": [
    "df_test.loc[df_test['Fare'].isnull(), 'Fare'] = 7.8958"
   ]
  },
  {
   "cell_type": "code",
   "execution_count": 26,
   "metadata": {},
   "outputs": [],
   "source": [
    "df_train['Fare'] = np.log1p(df_train['Fare'])\n",
    "df_test['Fare'] = np.log1p(df_test['Fare'])"
   ]
  },
  {
   "cell_type": "markdown",
   "metadata": {},
   "source": [
    "## SibSp + Parch"
   ]
  },
  {
   "cell_type": "code",
   "execution_count": 27,
   "metadata": {},
   "outputs": [],
   "source": [
    "df_train['Family'] = df_train['Parch'] + df_train['SibSp'] + 1 # 자기 자신을 포함하여\n",
    "df_train['Alone'] = 0 # 0 : False / 1 : True\n",
    "df_train.loc[df_train['Family'] == 1, 'Alone'] = 1"
   ]
  },
  {
   "cell_type": "code",
   "execution_count": 28,
   "metadata": {},
   "outputs": [],
   "source": [
    "df_test['Family'] = df_test['Parch'] + df_test['SibSp'] + 1\n",
    "df_test['Alone'] = 0\n",
    "df_test.loc[df_test['Family'] == 1, 'Alone'] = 1"
   ]
  },
  {
   "cell_type": "markdown",
   "metadata": {},
   "source": [
    "## Correlation"
   ]
  },
  {
   "cell_type": "code",
   "execution_count": 29,
   "metadata": {},
   "outputs": [],
   "source": [
    "cols = ['PassengerId', 'Name', 'Ticket', 'Cabin', 'Age']\n",
    "df_train.drop(cols, axis = 1, inplace = True)\n",
    "df_test.drop(cols, axis = 1, inplace = True)"
   ]
  },
  {
   "cell_type": "code",
   "execution_count": 30,
   "metadata": {},
   "outputs": [
    {
     "data": {
      "text/plain": [
       "<matplotlib.axes._subplots.AxesSubplot at 0x1ea6a4370b8>"
      ]
     },
     "execution_count": 30,
     "metadata": {},
     "output_type": "execute_result"
    },
    {
     "data": {
      "image/png": "[encoded data removed]",
      "text/plain": [
       "<Figure size 1008x864 with 2 Axes>"
      ]
     },
     "metadata": {
      "needs_background": "light"
     },
     "output_type": "display_data"
    }
   ],
   "source": [
    "heatmap_data = df_train.corr()\n",
    "\n",
    "colormap = plt.cm.RdBu\n",
    "plt.figure(figsize = (14, 12))\n",
    "plt.title('상관 관계', y = 1.05, size = 15)\n",
    "sns.heatmap(heatmap_data.astype(float), linewidths = 0.1, vmax = 1.0,\n",
    "           square = True, cmap = colormap, linecolor = 'white', annot = True,\n",
    "           annot_kws = {'size' : 16})"
   ]
  },
  {
   "cell_type": "markdown",
   "metadata": {},
   "source": [
    "## One-hot 인코딩"
   ]
  },
  {
   "cell_type": "code",
   "execution_count": 31,
   "metadata": {},
   "outputs": [],
   "source": [
    "df_train = pd.get_dummies(df_train, columns = ['Title'], prefix = 'Title')\n",
    "df_test = pd.get_dummies(df_test, columns = ['Title'], prefix = 'Title')"
   ]
  },
  {
   "cell_type": "code",
   "execution_count": 32,
   "metadata": {},
   "outputs": [],
   "source": [
    "df_train = pd.get_dummies(df_train, columns = ['Embarked'], prefix = 'Embarked')\n",
    "df_test = pd.get_dummies(df_test, columns = ['Embarked'], prefix = 'Embarked')"
   ]
  },
  {
   "cell_type": "code",
   "execution_count": 33,
   "metadata": {},
   "outputs": [],
   "source": [
    "df_train.to_csv('./train.csv')\n",
    "df_test.to_csv('./test.csv')"
   ]
  },
  {
   "cell_type": "code",
   "execution_count": null,
   "metadata": {},
   "outputs": [],
   "source": []
  }
 ],
 "metadata": {
  "kernelspec": {
   "display_name": "Python 3",
   "language": "python",
   "name": "python3"
  },
  "language_info": {
   "codemirror_mode": {
    "name": "ipython",
    "version": 3
   },
   "file_extension": ".py",
   "mimetype": "text/x-python",
   "name": "python",
   "nbconvert_exporter": "python",
   "pygments_lexer": "ipython3",
   "version": "3.7.3"
  }
 },
 "nbformat": 4,
 "nbformat_minor": 2
}
