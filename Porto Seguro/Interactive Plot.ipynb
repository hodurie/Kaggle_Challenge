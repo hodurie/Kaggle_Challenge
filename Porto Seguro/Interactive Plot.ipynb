{
 "cells": [
  {
   "cell_type": "markdown",
   "metadata": {
    "colab_type": "text",
    "id": "gNg_KLYrCAS8"
   },
   "source": [
    "# Interactive Plot\n",
    "\n",
    "상호작용 할 수 있는 데이터 시각화 도구 \n",
    "\n",
    "- plotly\n",
    "- pyeplot\n",
    "\n"
   ]
  },
  {
   "cell_type": "code",
   "execution_count": 0,
   "metadata": {
    "colab": {},
    "colab_type": "code",
    "id": "PhBhlLnLBF_c"
   },
   "outputs": [],
   "source": [
    "import pandas as pd\n",
    "import numpy as np\n",
    "import seaborn as sns\n",
    "import matplotlib.pyplot as plt\n",
    "\n",
    "import plotly.offline as py\n",
    "import plotly.tools as tls\n",
    "import plotly.graph_objs as go\n",
    "import plotly.io as pio\n",
    "pio.renderers.default = 'colab'\n",
    "\n",
    "import pyecharts as pe\n",
    "from pyecharts import options as opts\n",
    "\n",
    "import warnings\n",
    "warnings.filterwarnings('ignore')"
   ]
  },
  {
   "cell_type": "code",
   "execution_count": 0,
   "metadata": {
    "colab": {
     "base_uri": "https://localhost:8080/",
     "height": 218
    },
    "colab_type": "code",
    "executionInfo": {
     "elapsed": 5035,
     "status": "ok",
     "timestamp": 1584436003790,
     "user": {
      "displayName": "H J",
      "photoUrl": "",
      "userId": "04796031619100753677"
     },
     "user_tz": -540
    },
    "id": "YhUaEudyBF9E",
    "outputId": "0d5c4698-7009-4bab-ac1a-666e4dad097a"
   },
   "outputs": [
    {
     "data": {
      "text/html": [
       "<div>\n",
       "<style scoped>\n",
       "    .dataframe tbody tr th:only-of-type {\n",
       "        vertical-align: middle;\n",
       "    }\n",
       "\n",
       "    .dataframe tbody tr th {\n",
       "        vertical-align: top;\n",
       "    }\n",
       "\n",
       "    .dataframe thead th {\n",
       "        text-align: right;\n",
       "    }\n",
       "</style>\n",
       "<table border=\"1\" class=\"dataframe\">\n",
       "  <thead>\n",
       "    <tr style=\"text-align: right;\">\n",
       "      <th></th>\n",
       "      <th>id</th>\n",
       "      <th>target</th>\n",
       "      <th>ps_ind_01</th>\n",
       "      <th>ps_ind_02_cat</th>\n",
       "      <th>ps_ind_03</th>\n",
       "      <th>ps_ind_04_cat</th>\n",
       "      <th>ps_ind_05_cat</th>\n",
       "      <th>ps_ind_06_bin</th>\n",
       "      <th>ps_ind_07_bin</th>\n",
       "      <th>ps_ind_08_bin</th>\n",
       "      <th>ps_ind_09_bin</th>\n",
       "      <th>ps_ind_10_bin</th>\n",
       "      <th>ps_ind_11_bin</th>\n",
       "      <th>ps_ind_12_bin</th>\n",
       "      <th>ps_ind_13_bin</th>\n",
       "      <th>ps_ind_14</th>\n",
       "      <th>ps_ind_15</th>\n",
       "      <th>ps_ind_16_bin</th>\n",
       "      <th>ps_ind_17_bin</th>\n",
       "      <th>ps_ind_18_bin</th>\n",
       "      <th>ps_reg_01</th>\n",
       "      <th>ps_reg_02</th>\n",
       "      <th>ps_reg_03</th>\n",
       "      <th>ps_car_01_cat</th>\n",
       "      <th>ps_car_02_cat</th>\n",
       "      <th>ps_car_03_cat</th>\n",
       "      <th>ps_car_04_cat</th>\n",
       "      <th>ps_car_05_cat</th>\n",
       "      <th>ps_car_06_cat</th>\n",
       "      <th>ps_car_07_cat</th>\n",
       "      <th>ps_car_08_cat</th>\n",
       "      <th>ps_car_09_cat</th>\n",
       "      <th>ps_car_10_cat</th>\n",
       "      <th>ps_car_11_cat</th>\n",
       "      <th>ps_car_11</th>\n",
       "      <th>ps_car_12</th>\n",
       "      <th>ps_car_13</th>\n",
       "      <th>ps_car_14</th>\n",
       "      <th>ps_car_15</th>\n",
       "      <th>ps_calc_01</th>\n",
       "      <th>ps_calc_02</th>\n",
       "      <th>ps_calc_03</th>\n",
       "      <th>ps_calc_04</th>\n",
       "      <th>ps_calc_05</th>\n",
       "      <th>ps_calc_06</th>\n",
       "      <th>ps_calc_07</th>\n",
       "      <th>ps_calc_08</th>\n",
       "      <th>ps_calc_09</th>\n",
       "      <th>ps_calc_10</th>\n",
       "      <th>ps_calc_11</th>\n",
       "      <th>ps_calc_12</th>\n",
       "      <th>ps_calc_13</th>\n",
       "      <th>ps_calc_14</th>\n",
       "      <th>ps_calc_15_bin</th>\n",
       "      <th>ps_calc_16_bin</th>\n",
       "      <th>ps_calc_17_bin</th>\n",
       "      <th>ps_calc_18_bin</th>\n",
       "      <th>ps_calc_19_bin</th>\n",
       "      <th>ps_calc_20_bin</th>\n",
       "    </tr>\n",
       "  </thead>\n",
       "  <tbody>\n",
       "    <tr>\n",
       "      <th>0</th>\n",
       "      <td>7</td>\n",
       "      <td>0</td>\n",
       "      <td>2</td>\n",
       "      <td>2</td>\n",
       "      <td>5</td>\n",
       "      <td>1</td>\n",
       "      <td>0</td>\n",
       "      <td>0</td>\n",
       "      <td>1</td>\n",
       "      <td>0</td>\n",
       "      <td>0</td>\n",
       "      <td>0</td>\n",
       "      <td>0</td>\n",
       "      <td>0</td>\n",
       "      <td>0</td>\n",
       "      <td>0</td>\n",
       "      <td>11</td>\n",
       "      <td>0</td>\n",
       "      <td>1</td>\n",
       "      <td>0</td>\n",
       "      <td>0.7</td>\n",
       "      <td>0.2</td>\n",
       "      <td>0.718070</td>\n",
       "      <td>10</td>\n",
       "      <td>1</td>\n",
       "      <td>-1</td>\n",
       "      <td>0</td>\n",
       "      <td>1</td>\n",
       "      <td>4</td>\n",
       "      <td>1</td>\n",
       "      <td>0</td>\n",
       "      <td>0</td>\n",
       "      <td>1</td>\n",
       "      <td>12</td>\n",
       "      <td>2</td>\n",
       "      <td>0.400000</td>\n",
       "      <td>0.883679</td>\n",
       "      <td>0.370810</td>\n",
       "      <td>3.605551</td>\n",
       "      <td>0.6</td>\n",
       "      <td>0.5</td>\n",
       "      <td>0.2</td>\n",
       "      <td>3</td>\n",
       "      <td>1</td>\n",
       "      <td>10</td>\n",
       "      <td>1</td>\n",
       "      <td>10</td>\n",
       "      <td>1</td>\n",
       "      <td>5</td>\n",
       "      <td>9</td>\n",
       "      <td>1</td>\n",
       "      <td>5</td>\n",
       "      <td>8</td>\n",
       "      <td>0</td>\n",
       "      <td>1</td>\n",
       "      <td>1</td>\n",
       "      <td>0</td>\n",
       "      <td>0</td>\n",
       "      <td>1</td>\n",
       "    </tr>\n",
       "    <tr>\n",
       "      <th>1</th>\n",
       "      <td>9</td>\n",
       "      <td>0</td>\n",
       "      <td>1</td>\n",
       "      <td>1</td>\n",
       "      <td>7</td>\n",
       "      <td>0</td>\n",
       "      <td>0</td>\n",
       "      <td>0</td>\n",
       "      <td>0</td>\n",
       "      <td>1</td>\n",
       "      <td>0</td>\n",
       "      <td>0</td>\n",
       "      <td>0</td>\n",
       "      <td>0</td>\n",
       "      <td>0</td>\n",
       "      <td>0</td>\n",
       "      <td>3</td>\n",
       "      <td>0</td>\n",
       "      <td>0</td>\n",
       "      <td>1</td>\n",
       "      <td>0.8</td>\n",
       "      <td>0.4</td>\n",
       "      <td>0.766078</td>\n",
       "      <td>11</td>\n",
       "      <td>1</td>\n",
       "      <td>-1</td>\n",
       "      <td>0</td>\n",
       "      <td>-1</td>\n",
       "      <td>11</td>\n",
       "      <td>1</td>\n",
       "      <td>1</td>\n",
       "      <td>2</td>\n",
       "      <td>1</td>\n",
       "      <td>19</td>\n",
       "      <td>3</td>\n",
       "      <td>0.316228</td>\n",
       "      <td>0.618817</td>\n",
       "      <td>0.388716</td>\n",
       "      <td>2.449490</td>\n",
       "      <td>0.3</td>\n",
       "      <td>0.1</td>\n",
       "      <td>0.3</td>\n",
       "      <td>2</td>\n",
       "      <td>1</td>\n",
       "      <td>9</td>\n",
       "      <td>5</td>\n",
       "      <td>8</td>\n",
       "      <td>1</td>\n",
       "      <td>7</td>\n",
       "      <td>3</td>\n",
       "      <td>1</td>\n",
       "      <td>1</td>\n",
       "      <td>9</td>\n",
       "      <td>0</td>\n",
       "      <td>1</td>\n",
       "      <td>1</td>\n",
       "      <td>0</td>\n",
       "      <td>1</td>\n",
       "      <td>0</td>\n",
       "    </tr>\n",
       "    <tr>\n",
       "      <th>2</th>\n",
       "      <td>13</td>\n",
       "      <td>0</td>\n",
       "      <td>5</td>\n",
       "      <td>4</td>\n",
       "      <td>9</td>\n",
       "      <td>1</td>\n",
       "      <td>0</td>\n",
       "      <td>0</td>\n",
       "      <td>0</td>\n",
       "      <td>1</td>\n",
       "      <td>0</td>\n",
       "      <td>0</td>\n",
       "      <td>0</td>\n",
       "      <td>0</td>\n",
       "      <td>0</td>\n",
       "      <td>0</td>\n",
       "      <td>12</td>\n",
       "      <td>1</td>\n",
       "      <td>0</td>\n",
       "      <td>0</td>\n",
       "      <td>0.0</td>\n",
       "      <td>0.0</td>\n",
       "      <td>-1.000000</td>\n",
       "      <td>7</td>\n",
       "      <td>1</td>\n",
       "      <td>-1</td>\n",
       "      <td>0</td>\n",
       "      <td>-1</td>\n",
       "      <td>14</td>\n",
       "      <td>1</td>\n",
       "      <td>1</td>\n",
       "      <td>2</td>\n",
       "      <td>1</td>\n",
       "      <td>60</td>\n",
       "      <td>1</td>\n",
       "      <td>0.316228</td>\n",
       "      <td>0.641586</td>\n",
       "      <td>0.347275</td>\n",
       "      <td>3.316625</td>\n",
       "      <td>0.5</td>\n",
       "      <td>0.7</td>\n",
       "      <td>0.1</td>\n",
       "      <td>2</td>\n",
       "      <td>2</td>\n",
       "      <td>9</td>\n",
       "      <td>1</td>\n",
       "      <td>8</td>\n",
       "      <td>2</td>\n",
       "      <td>7</td>\n",
       "      <td>4</td>\n",
       "      <td>2</td>\n",
       "      <td>7</td>\n",
       "      <td>7</td>\n",
       "      <td>0</td>\n",
       "      <td>1</td>\n",
       "      <td>1</td>\n",
       "      <td>0</td>\n",
       "      <td>1</td>\n",
       "      <td>0</td>\n",
       "    </tr>\n",
       "    <tr>\n",
       "      <th>3</th>\n",
       "      <td>16</td>\n",
       "      <td>0</td>\n",
       "      <td>0</td>\n",
       "      <td>1</td>\n",
       "      <td>2</td>\n",
       "      <td>0</td>\n",
       "      <td>0</td>\n",
       "      <td>1</td>\n",
       "      <td>0</td>\n",
       "      <td>0</td>\n",
       "      <td>0</td>\n",
       "      <td>0</td>\n",
       "      <td>0</td>\n",
       "      <td>0</td>\n",
       "      <td>0</td>\n",
       "      <td>0</td>\n",
       "      <td>8</td>\n",
       "      <td>1</td>\n",
       "      <td>0</td>\n",
       "      <td>0</td>\n",
       "      <td>0.9</td>\n",
       "      <td>0.2</td>\n",
       "      <td>0.580948</td>\n",
       "      <td>7</td>\n",
       "      <td>1</td>\n",
       "      <td>0</td>\n",
       "      <td>0</td>\n",
       "      <td>1</td>\n",
       "      <td>11</td>\n",
       "      <td>1</td>\n",
       "      <td>1</td>\n",
       "      <td>3</td>\n",
       "      <td>1</td>\n",
       "      <td>104</td>\n",
       "      <td>1</td>\n",
       "      <td>0.374166</td>\n",
       "      <td>0.542949</td>\n",
       "      <td>0.294958</td>\n",
       "      <td>2.000000</td>\n",
       "      <td>0.6</td>\n",
       "      <td>0.9</td>\n",
       "      <td>0.1</td>\n",
       "      <td>2</td>\n",
       "      <td>4</td>\n",
       "      <td>7</td>\n",
       "      <td>1</td>\n",
       "      <td>8</td>\n",
       "      <td>4</td>\n",
       "      <td>2</td>\n",
       "      <td>2</td>\n",
       "      <td>2</td>\n",
       "      <td>4</td>\n",
       "      <td>9</td>\n",
       "      <td>0</td>\n",
       "      <td>0</td>\n",
       "      <td>0</td>\n",
       "      <td>0</td>\n",
       "      <td>0</td>\n",
       "      <td>0</td>\n",
       "    </tr>\n",
       "    <tr>\n",
       "      <th>4</th>\n",
       "      <td>17</td>\n",
       "      <td>0</td>\n",
       "      <td>0</td>\n",
       "      <td>2</td>\n",
       "      <td>0</td>\n",
       "      <td>1</td>\n",
       "      <td>0</td>\n",
       "      <td>1</td>\n",
       "      <td>0</td>\n",
       "      <td>0</td>\n",
       "      <td>0</td>\n",
       "      <td>0</td>\n",
       "      <td>0</td>\n",
       "      <td>0</td>\n",
       "      <td>0</td>\n",
       "      <td>0</td>\n",
       "      <td>9</td>\n",
       "      <td>1</td>\n",
       "      <td>0</td>\n",
       "      <td>0</td>\n",
       "      <td>0.7</td>\n",
       "      <td>0.6</td>\n",
       "      <td>0.840759</td>\n",
       "      <td>11</td>\n",
       "      <td>1</td>\n",
       "      <td>-1</td>\n",
       "      <td>0</td>\n",
       "      <td>-1</td>\n",
       "      <td>14</td>\n",
       "      <td>1</td>\n",
       "      <td>1</td>\n",
       "      <td>2</td>\n",
       "      <td>1</td>\n",
       "      <td>82</td>\n",
       "      <td>3</td>\n",
       "      <td>0.316070</td>\n",
       "      <td>0.565832</td>\n",
       "      <td>0.365103</td>\n",
       "      <td>2.000000</td>\n",
       "      <td>0.4</td>\n",
       "      <td>0.6</td>\n",
       "      <td>0.0</td>\n",
       "      <td>2</td>\n",
       "      <td>2</td>\n",
       "      <td>6</td>\n",
       "      <td>3</td>\n",
       "      <td>10</td>\n",
       "      <td>2</td>\n",
       "      <td>12</td>\n",
       "      <td>3</td>\n",
       "      <td>1</td>\n",
       "      <td>1</td>\n",
       "      <td>3</td>\n",
       "      <td>0</td>\n",
       "      <td>0</td>\n",
       "      <td>0</td>\n",
       "      <td>1</td>\n",
       "      <td>1</td>\n",
       "      <td>0</td>\n",
       "    </tr>\n",
       "  </tbody>\n",
       "</table>\n",
       "</div>"
      ],
      "text/plain": [
       "   id  target  ps_ind_01  ...  ps_calc_18_bin  ps_calc_19_bin  ps_calc_20_bin\n",
       "0   7       0          2  ...               0               0               1\n",
       "1   9       0          1  ...               0               1               0\n",
       "2  13       0          5  ...               0               1               0\n",
       "3  16       0          0  ...               0               0               0\n",
       "4  17       0          0  ...               1               1               0\n",
       "\n",
       "[5 rows x 59 columns]"
      ]
     },
     "execution_count": 8,
     "metadata": {
      "tags": []
     },
     "output_type": "execute_result"
    }
   ],
   "source": [
    "train = pd.read_csv('../input/train.csv')\n",
    "train.head()"
   ]
  },
  {
   "cell_type": "markdown",
   "metadata": {
    "colab_type": "text",
    "id": "zuXC-qktDrlt"
   },
   "source": [
    "train 데이터의 분포 확인"
   ]
  },
  {
   "cell_type": "code",
   "execution_count": 0,
   "metadata": {
    "colab": {
     "base_uri": "https://localhost:8080/",
     "height": 35
    },
    "colab_type": "code",
    "executionInfo": {
     "elapsed": 1127,
     "status": "ok",
     "timestamp": 1584430380287,
     "user": {
      "displayName": "H J",
      "photoUrl": "",
      "userId": "04796031619100753677"
     },
     "user_tz": -540
    },
    "id": "eqTnnq5YDtJo",
    "outputId": "748bde2d-7093-4249-e00d-c82011473b57"
   },
   "outputs": [
    {
     "data": {
      "text/plain": [
       "(595212, 59)"
      ]
     },
     "execution_count": 17,
     "metadata": {
      "tags": []
     },
     "output_type": "execute_result"
    }
   ],
   "source": [
    "train.shape"
   ]
  },
  {
   "cell_type": "markdown",
   "metadata": {
    "colab_type": "text",
    "id": "hOIzwPMyDtvr"
   },
   "source": [
    "## 데이터 셋 확인\n",
    "결측치 존재 여부 확인\n"
   ]
  },
  {
   "cell_type": "code",
   "execution_count": 0,
   "metadata": {
    "colab": {
     "base_uri": "https://localhost:8080/",
     "height": 35
    },
    "colab_type": "code",
    "executionInfo": {
     "elapsed": 612,
     "status": "ok",
     "timestamp": 1584430381444,
     "user": {
      "displayName": "H J",
      "photoUrl": "",
      "userId": "04796031619100753677"
     },
     "user_tz": -540
    },
    "id": "fzFQiRY7ETJU",
    "outputId": "cc1971b7-afa3-4503-f9b7-dc2c167566c4"
   },
   "outputs": [
    {
     "data": {
      "text/plain": [
       "False"
      ]
     },
     "execution_count": 18,
     "metadata": {
      "tags": []
     },
     "output_type": "execute_result"
    }
   ],
   "source": [
    "train.isnull().any().any()"
   ]
  },
  {
   "cell_type": "code",
   "execution_count": 0,
   "metadata": {
    "colab": {},
    "colab_type": "code",
    "id": "G_yuJxj-DufI"
   },
   "outputs": [],
   "source": [
    "train_copy = train.copy()\n",
    "train_copy = train_copy.replace(-1, np.NaN)"
   ]
  },
  {
   "cell_type": "code",
   "execution_count": 0,
   "metadata": {
    "colab": {
     "base_uri": "https://localhost:8080/",
     "height": 940
    },
    "colab_type": "code",
    "executionInfo": {
     "elapsed": 6926,
     "status": "ok",
     "timestamp": 1584430389559,
     "user": {
      "displayName": "H J",
      "photoUrl": "",
      "userId": "04796031619100753677"
     },
     "user_tz": -540
    },
    "id": "3zVKTS6ZDupy",
    "outputId": "dc8aa2d7-bcd6-43ae-db88-c40f52520c7a"
   },
   "outputs": [
    {
     "data": {
      "text/plain": [
       "<matplotlib.axes._subplots.AxesSubplot at 0x7f2c5dc44940>"
      ]
     },
     "execution_count": 20,
     "metadata": {
      "tags": []
     },
     "output_type": "execute_result"
    },
    {
     "data": {
      "image/png": "[encoded data removed]",
      "text/plain": [
       "<Figure size 1440x1008 with 2 Axes>"
      ]
     },
     "metadata": {
      "tags": []
     },
     "output_type": "display_data"
    }
   ],
   "source": [
    "import missingno as msno\n",
    "\n",
    "msno.matrix(df = train_copy.iloc[:,2:39],\n",
    "            figsize = (20, 14), color = (0.42, 0.1, 0.05))"
   ]
  },
  {
   "cell_type": "code",
   "execution_count": 0,
   "metadata": {
    "colab": {
     "base_uri": "https://localhost:8080/",
     "height": 772
    },
    "colab_type": "code",
    "executionInfo": {
     "elapsed": 5580,
     "status": "ok",
     "timestamp": 1584430395160,
     "user": {
      "displayName": "H J",
      "photoUrl": "",
      "userId": "04796031619100753677"
     },
     "user_tz": -540
    },
    "id": "HMVwxoYHDvRy",
    "outputId": "3afda0a9-2b32-4cf5-fd72-f672acb12752"
   },
   "outputs": [
    {
     "data": {
      "text/plain": [
       "<matplotlib.axes._subplots.AxesSubplot at 0x7f2c5dc877f0>"
      ]
     },
     "execution_count": 21,
     "metadata": {
      "tags": []
     },
     "output_type": "execute_result"
    },
    {
     "data": {
      "image/png": "[encoded data removed]",
      "text/plain": [
       "<Figure size 1152x720 with 3 Axes>"
      ]
     },
     "metadata": {
      "tags": []
     },
     "output_type": "display_data"
    }
   ],
   "source": [
    "msno.bar(df = train_copy.iloc[:, 2:39], figsize = (16, 10))"
   ]
  },
  {
   "cell_type": "markdown",
   "metadata": {
    "colab_type": "text",
    "id": "l-vD4b_FDvjG"
   },
   "source": [
    "## 반응변수 시각화\n",
    "\n"
   ]
  },
  {
   "cell_type": "code",
   "execution_count": 0,
   "metadata": {
    "colab": {
     "base_uri": "https://localhost:8080/",
     "height": 542
    },
    "colab_type": "code",
    "executionInfo": {
     "elapsed": 1176,
     "status": "ok",
     "timestamp": 1584430436564,
     "user": {
      "displayName": "H J",
      "photoUrl": "",
      "userId": "04796031619100753677"
     },
     "user_tz": -540
    },
    "id": "GFVGJ0eLQLCC",
    "outputId": "1b6b0c17-746f-4912-84aa-1d17c3ebce61"
   },
   "outputs": [
    {
     "data": {
      "text/html": [
       "<html>\n",
       "<head><meta charset=\"utf-8\" /></head>\n",
       "<body>\n",
       "    <div>\n",
       "            <script src=\"https://cdnjs.cloudflare.com/ajax/libs/mathjax/2.7.5/MathJax.js?config=TeX-AMS-MML_SVG\"></script><script type=\"text/javascript\">if (window.MathJax) {MathJax.Hub.Config({SVG: {font: \"STIX-Web\"}});}</script>\n",
       "                <script type=\"text/javascript\">window.PlotlyConfig = {MathJaxConfig: 'local'};</script>\n",
       "        <script src=\"https://cdn.plot.ly/plotly-latest.min.js\"></script>    \n",
       "            <div id=\"91cc5876-23cf-431e-bed8-d21bfd8d236b\" class=\"plotly-graph-div\" style=\"height:525px; width:100%;\"></div>\n",
       "            <script type=\"text/javascript\">\n",
       "                \n",
       "                    window.PLOTLYENV=window.PLOTLYENV || {};\n",
       "                    \n",
       "                if (document.getElementById(\"91cc5876-23cf-431e-bed8-d21bfd8d236b\")) {\n",
       "                    Plotly.newPlot(\n",
       "                        '91cc5876-23cf-431e-bed8-d21bfd8d236b',\n",
       "                        [{\"text\": \"Distribution of target variable\", \"type\": \"bar\", \"x\": [0, 1], \"y\": [573518, 21694]}],\n",
       "                        {\"template\": {\"data\": {\"bar\": [{\"error_x\": {\"color\": \"#2a3f5f\"}, \"error_y\": {\"color\": \"#2a3f5f\"}, \"marker\": {\"line\": {\"color\": \"#E5ECF6\", \"width\": 0.5}}, \"type\": \"bar\"}], \"barpolar\": [{\"marker\": {\"line\": {\"color\": \"#E5ECF6\", \"width\": 0.5}}, \"type\": \"barpolar\"}], \"carpet\": [{\"aaxis\": {\"endlinecolor\": \"#2a3f5f\", \"gridcolor\": \"white\", \"linecolor\": \"white\", \"minorgridcolor\": \"white\", \"startlinecolor\": \"#2a3f5f\"}, \"baxis\": {\"endlinecolor\": \"#2a3f5f\", \"gridcolor\": \"white\", \"linecolor\": \"white\", \"minorgridcolor\": \"white\", \"startlinecolor\": \"#2a3f5f\"}, \"type\": \"carpet\"}], \"choropleth\": [{\"colorbar\": {\"outlinewidth\": 0, \"ticks\": \"\"}, \"type\": \"choropleth\"}], \"contour\": [{\"colorbar\": {\"outlinewidth\": 0, \"ticks\": \"\"}, \"colorscale\": [[0.0, \"#0d0887\"], [0.1111111111111111, \"#46039f\"], [0.2222222222222222, \"#7201a8\"], [0.3333333333333333, \"#9c179e\"], [0.4444444444444444, \"#bd3786\"], [0.5555555555555556, \"#d8576b\"], [0.6666666666666666, \"#ed7953\"], [0.7777777777777778, \"#fb9f3a\"], [0.8888888888888888, \"#fdca26\"], [1.0, \"#f0f921\"]], \"type\": \"contour\"}], \"contourcarpet\": [{\"colorbar\": {\"outlinewidth\": 0, \"ticks\": \"\"}, \"type\": \"contourcarpet\"}], \"heatmap\": [{\"colorbar\": {\"outlinewidth\": 0, \"ticks\": \"\"}, \"colorscale\": [[0.0, \"#0d0887\"], [0.1111111111111111, \"#46039f\"], [0.2222222222222222, \"#7201a8\"], [0.3333333333333333, \"#9c179e\"], [0.4444444444444444, \"#bd3786\"], [0.5555555555555556, \"#d8576b\"], [0.6666666666666666, \"#ed7953\"], [0.7777777777777778, \"#fb9f3a\"], [0.8888888888888888, \"#fdca26\"], [1.0, \"#f0f921\"]], \"type\": \"heatmap\"}], \"heatmapgl\": [{\"colorbar\": {\"outlinewidth\": 0, \"ticks\": \"\"}, \"colorscale\": [[0.0, \"#0d0887\"], [0.1111111111111111, \"#46039f\"], [0.2222222222222222, \"#7201a8\"], [0.3333333333333333, \"#9c179e\"], [0.4444444444444444, \"#bd3786\"], [0.5555555555555556, \"#d8576b\"], [0.6666666666666666, \"#ed7953\"], [0.7777777777777778, \"#fb9f3a\"], [0.8888888888888888, \"#fdca26\"], [1.0, \"#f0f921\"]], \"type\": \"heatmapgl\"}], \"histogram\": [{\"marker\": {\"colorbar\": {\"outlinewidth\": 0, \"ticks\": \"\"}}, \"type\": \"histogram\"}], \"histogram2d\": [{\"colorbar\": {\"outlinewidth\": 0, \"ticks\": \"\"}, \"colorscale\": [[0.0, \"#0d0887\"], [0.1111111111111111, \"#46039f\"], [0.2222222222222222, \"#7201a8\"], [0.3333333333333333, \"#9c179e\"], [0.4444444444444444, \"#bd3786\"], [0.5555555555555556, \"#d8576b\"], [0.6666666666666666, \"#ed7953\"], [0.7777777777777778, \"#fb9f3a\"], [0.8888888888888888, \"#fdca26\"], [1.0, \"#f0f921\"]], \"type\": \"histogram2d\"}], \"histogram2dcontour\": [{\"colorbar\": {\"outlinewidth\": 0, \"ticks\": \"\"}, \"colorscale\": [[0.0, \"#0d0887\"], [0.1111111111111111, \"#46039f\"], [0.2222222222222222, \"#7201a8\"], [0.3333333333333333, \"#9c179e\"], [0.4444444444444444, \"#bd3786\"], [0.5555555555555556, \"#d8576b\"], [0.6666666666666666, \"#ed7953\"], [0.7777777777777778, \"#fb9f3a\"], [0.8888888888888888, \"#fdca26\"], [1.0, \"#f0f921\"]], \"type\": \"histogram2dcontour\"}], \"mesh3d\": [{\"colorbar\": {\"outlinewidth\": 0, \"ticks\": \"\"}, \"type\": \"mesh3d\"}], \"parcoords\": [{\"line\": {\"colorbar\": {\"outlinewidth\": 0, \"ticks\": \"\"}}, \"type\": \"parcoords\"}], \"pie\": [{\"automargin\": true, \"type\": \"pie\"}], \"scatter\": [{\"marker\": {\"colorbar\": {\"outlinewidth\": 0, \"ticks\": \"\"}}, \"type\": \"scatter\"}], \"scatter3d\": [{\"line\": {\"colorbar\": {\"outlinewidth\": 0, \"ticks\": \"\"}}, \"marker\": {\"colorbar\": {\"outlinewidth\": 0, \"ticks\": \"\"}}, \"type\": \"scatter3d\"}], \"scattercarpet\": [{\"marker\": {\"colorbar\": {\"outlinewidth\": 0, \"ticks\": \"\"}}, \"type\": \"scattercarpet\"}], \"scattergeo\": [{\"marker\": {\"colorbar\": {\"outlinewidth\": 0, \"ticks\": \"\"}}, \"type\": \"scattergeo\"}], \"scattergl\": [{\"marker\": {\"colorbar\": {\"outlinewidth\": 0, \"ticks\": \"\"}}, \"type\": \"scattergl\"}], \"scattermapbox\": [{\"marker\": {\"colorbar\": {\"outlinewidth\": 0, \"ticks\": \"\"}}, \"type\": \"scattermapbox\"}], \"scatterpolar\": [{\"marker\": {\"colorbar\": {\"outlinewidth\": 0, \"ticks\": \"\"}}, \"type\": \"scatterpolar\"}], \"scatterpolargl\": [{\"marker\": {\"colorbar\": {\"outlinewidth\": 0, \"ticks\": \"\"}}, \"type\": \"scatterpolargl\"}], \"scatterternary\": [{\"marker\": {\"colorbar\": {\"outlinewidth\": 0, \"ticks\": \"\"}}, \"type\": \"scatterternary\"}], \"surface\": [{\"colorbar\": {\"outlinewidth\": 0, \"ticks\": \"\"}, \"colorscale\": [[0.0, \"#0d0887\"], [0.1111111111111111, \"#46039f\"], [0.2222222222222222, \"#7201a8\"], [0.3333333333333333, \"#9c179e\"], [0.4444444444444444, \"#bd3786\"], [0.5555555555555556, \"#d8576b\"], [0.6666666666666666, \"#ed7953\"], [0.7777777777777778, \"#fb9f3a\"], [0.8888888888888888, \"#fdca26\"], [1.0, \"#f0f921\"]], \"type\": \"surface\"}], \"table\": [{\"cells\": {\"fill\": {\"color\": \"#EBF0F8\"}, \"line\": {\"color\": \"white\"}}, \"header\": {\"fill\": {\"color\": \"#C8D4E3\"}, \"line\": {\"color\": \"white\"}}, \"type\": \"table\"}]}, \"layout\": {\"annotationdefaults\": {\"arrowcolor\": \"#2a3f5f\", \"arrowhead\": 0, \"arrowwidth\": 1}, \"coloraxis\": {\"colorbar\": {\"outlinewidth\": 0, \"ticks\": \"\"}}, \"colorscale\": {\"diverging\": [[0, \"#8e0152\"], [0.1, \"#c51b7d\"], [0.2, \"#de77ae\"], [0.3, \"#f1b6da\"], [0.4, \"#fde0ef\"], [0.5, \"#f7f7f7\"], [0.6, \"#e6f5d0\"], [0.7, \"#b8e186\"], [0.8, \"#7fbc41\"], [0.9, \"#4d9221\"], [1, \"#276419\"]], \"sequential\": [[0.0, \"#0d0887\"], [0.1111111111111111, \"#46039f\"], [0.2222222222222222, \"#7201a8\"], [0.3333333333333333, \"#9c179e\"], [0.4444444444444444, \"#bd3786\"], [0.5555555555555556, \"#d8576b\"], [0.6666666666666666, \"#ed7953\"], [0.7777777777777778, \"#fb9f3a\"], [0.8888888888888888, \"#fdca26\"], [1.0, \"#f0f921\"]], \"sequentialminus\": [[0.0, \"#0d0887\"], [0.1111111111111111, \"#46039f\"], [0.2222222222222222, \"#7201a8\"], [0.3333333333333333, \"#9c179e\"], [0.4444444444444444, \"#bd3786\"], [0.5555555555555556, \"#d8576b\"], [0.6666666666666666, \"#ed7953\"], [0.7777777777777778, \"#fb9f3a\"], [0.8888888888888888, \"#fdca26\"], [1.0, \"#f0f921\"]]}, \"colorway\": [\"#636efa\", \"#EF553B\", \"#00cc96\", \"#ab63fa\", \"#FFA15A\", \"#19d3f3\", \"#FF6692\", \"#B6E880\", \"#FF97FF\", \"#FECB52\"], \"font\": {\"color\": \"#2a3f5f\"}, \"geo\": {\"bgcolor\": \"white\", \"lakecolor\": \"white\", \"landcolor\": \"#E5ECF6\", \"showlakes\": true, \"showland\": true, \"subunitcolor\": \"white\"}, \"hoverlabel\": {\"align\": \"left\"}, \"hovermode\": \"closest\", \"mapbox\": {\"style\": \"light\"}, \"paper_bgcolor\": \"white\", \"plot_bgcolor\": \"#E5ECF6\", \"polar\": {\"angularaxis\": {\"gridcolor\": \"white\", \"linecolor\": \"white\", \"ticks\": \"\"}, \"bgcolor\": \"#E5ECF6\", \"radialaxis\": {\"gridcolor\": \"white\", \"linecolor\": \"white\", \"ticks\": \"\"}}, \"scene\": {\"xaxis\": {\"backgroundcolor\": \"#E5ECF6\", \"gridcolor\": \"white\", \"gridwidth\": 2, \"linecolor\": \"white\", \"showbackground\": true, \"ticks\": \"\", \"zerolinecolor\": \"white\"}, \"yaxis\": {\"backgroundcolor\": \"#E5ECF6\", \"gridcolor\": \"white\", \"gridwidth\": 2, \"linecolor\": \"white\", \"showbackground\": true, \"ticks\": \"\", \"zerolinecolor\": \"white\"}, \"zaxis\": {\"backgroundcolor\": \"#E5ECF6\", \"gridcolor\": \"white\", \"gridwidth\": 2, \"linecolor\": \"white\", \"showbackground\": true, \"ticks\": \"\", \"zerolinecolor\": \"white\"}}, \"shapedefaults\": {\"line\": {\"color\": \"#2a3f5f\"}}, \"ternary\": {\"aaxis\": {\"gridcolor\": \"white\", \"linecolor\": \"white\", \"ticks\": \"\"}, \"baxis\": {\"gridcolor\": \"white\", \"linecolor\": \"white\", \"ticks\": \"\"}, \"bgcolor\": \"#E5ECF6\", \"caxis\": {\"gridcolor\": \"white\", \"linecolor\": \"white\", \"ticks\": \"\"}}, \"title\": {\"x\": 0.05}, \"xaxis\": {\"automargin\": true, \"gridcolor\": \"white\", \"linecolor\": \"white\", \"ticks\": \"\", \"title\": {\"standoff\": 15}, \"zerolinecolor\": \"white\", \"zerolinewidth\": 2}, \"yaxis\": {\"automargin\": true, \"gridcolor\": \"white\", \"linecolor\": \"white\", \"ticks\": \"\", \"title\": {\"standoff\": 15}, \"zerolinecolor\": \"white\", \"zerolinewidth\": 2}}}, \"title\": {\"text\": \"Target variable distribution\"}},\n",
       "                        {\"responsive\": true}\n",
       "                    ).then(function(){\n",
       "                            \n",
       "var gd = document.getElementById('91cc5876-23cf-431e-bed8-d21bfd8d236b');\n",
       "var x = new MutationObserver(function (mutations, observer) {{\n",
       "        var display = window.getComputedStyle(gd).display;\n",
       "        if (!display || display === 'none') {{\n",
       "            console.log([gd, 'removed!']);\n",
       "            Plotly.purge(gd);\n",
       "            observer.disconnect();\n",
       "        }}\n",
       "}});\n",
       "\n",
       "// Listen for the removal of the full notebook cells\n",
       "var notebookContainer = gd.closest('#notebook-container');\n",
       "if (notebookContainer) {{\n",
       "    x.observe(notebookContainer, {childList: true});\n",
       "}}\n",
       "\n",
       "// Listen for the clearing of the current output cell\n",
       "var outputEl = gd.closest('.output');\n",
       "if (outputEl) {{\n",
       "    x.observe(outputEl, {childList: true});\n",
       "}}\n",
       "\n",
       "                        })\n",
       "                };\n",
       "                \n",
       "            </script>\n",
       "        </div>\n",
       "</body>\n",
       "</html>"
      ]
     },
     "metadata": {
      "tags": []
     },
     "output_type": "display_data"
    }
   ],
   "source": [
    "data = [\n",
    "    go.Bar(\n",
    "        x = train_copy['target'].unique(),\n",
    "        y = train_copy['target'].value_counts().values,\n",
    "        text = 'Distribution of target variable'\n",
    "    )]\n",
    "\n",
    "layout = go.Layout(\n",
    "    title = 'Target variable distribution'\n",
    ")\n",
    "\n",
    "fig = go.Figure(data = data, layout = layout)\n",
    "fig.show()"
   ]
  },
  {
   "cell_type": "code",
   "execution_count": 0,
   "metadata": {
    "colab": {
     "base_uri": "https://localhost:8080/",
     "height": 617
    },
    "colab_type": "code",
    "executionInfo": {
     "elapsed": 1515,
     "status": "ok",
     "timestamp": 1584439928323,
     "user": {
      "displayName": "H J",
      "photoUrl": "",
      "userId": "04796031619100753677"
     },
     "user_tz": -540
    },
    "id": "eKKYQEpsgP7K",
    "outputId": "7e71bb49-ef14-40e0-85fc-c0278623a6ac"
   },
   "outputs": [
    {
     "data": {
      "text/html": [
       "<!DOCTYPE html>\n",
       "<html>\n",
       "<head>\n",
       "    <meta charset=\"UTF-8\">\n",
       "    <title>Awesome-pyecharts</title>\n",
       "            <script type=\"text/javascript\" src=\"https://assets.pyecharts.org/assets/echarts.min.js\"></script>\n",
       "\n",
       "</head>\n",
       "<body>\n",
       "    <div id=\"f52ea1071b4b4e13b9e1d81ed1ac9862\" class=\"chart-container\" style=\"width:600px; height:600px;\"></div>\n",
       "    <script>\n",
       "        var chart_f52ea1071b4b4e13b9e1d81ed1ac9862 = echarts.init(\n",
       "            document.getElementById('f52ea1071b4b4e13b9e1d81ed1ac9862'), 'white', {renderer: 'canvas'});\n",
       "        var option_f52ea1071b4b4e13b9e1d81ed1ac9862 = {\n",
       "    \"animation\": true,\n",
       "    \"animationThreshold\": 2000,\n",
       "    \"animationDuration\": 1000,\n",
       "    \"animationEasing\": \"cubicOut\",\n",
       "    \"animationDelay\": 0,\n",
       "    \"animationDurationUpdate\": 300,\n",
       "    \"animationEasingUpdate\": \"cubicOut\",\n",
       "    \"animationDelayUpdate\": 0,\n",
       "    \"color\": [\n",
       "        \"#c23531\",\n",
       "        \"#2f4554\",\n",
       "        \"#61a0a8\",\n",
       "        \"#d48265\",\n",
       "        \"#749f83\",\n",
       "        \"#ca8622\",\n",
       "        \"#bda29a\",\n",
       "        \"#6e7074\",\n",
       "        \"#546570\",\n",
       "        \"#c4ccd3\",\n",
       "        \"#f05b72\",\n",
       "        \"#ef5b9c\",\n",
       "        \"#f47920\",\n",
       "        \"#905a3d\",\n",
       "        \"#fab27b\",\n",
       "        \"#2a5caa\",\n",
       "        \"#444693\",\n",
       "        \"#726930\",\n",
       "        \"#b2d235\",\n",
       "        \"#6d8346\",\n",
       "        \"#ac6767\",\n",
       "        \"#1d953f\",\n",
       "        \"#6950a1\",\n",
       "        \"#918597\"\n",
       "    ],\n",
       "    \"series\": [\n",
       "        {\n",
       "            \"type\": \"bar\",\n",
       "            \"name\": \"target values\",\n",
       "            \"data\": [\n",
       "                573518,\n",
       "                21694\n",
       "            ],\n",
       "            \"barCategoryGap\": \"20%\",\n",
       "            \"label\": {\n",
       "                \"show\": true,\n",
       "                \"position\": \"top\",\n",
       "                \"margin\": 8\n",
       "            },\n",
       "            \"itemStyle\": {\n",
       "                \"color\": \"#ff0000\"\n",
       "            }\n",
       "        }\n",
       "    ],\n",
       "    \"legend\": [\n",
       "        {\n",
       "            \"data\": [\n",
       "                \"target values\"\n",
       "            ],\n",
       "            \"selected\": {\n",
       "                \"target values\": true\n",
       "            },\n",
       "            \"show\": true,\n",
       "            \"top\": 50,\n",
       "            \"padding\": 5,\n",
       "            \"itemGap\": 10,\n",
       "            \"itemWidth\": 25,\n",
       "            \"itemHeight\": 14\n",
       "        }\n",
       "    ],\n",
       "    \"tooltip\": {\n",
       "        \"show\": true,\n",
       "        \"trigger\": \"item\",\n",
       "        \"triggerOn\": \"mousemove|click\",\n",
       "        \"axisPointer\": {\n",
       "            \"type\": \"line\"\n",
       "        },\n",
       "        \"textStyle\": {\n",
       "            \"fontSize\": 14\n",
       "        },\n",
       "        \"borderWidth\": 0\n",
       "    },\n",
       "    \"xAxis\": [\n",
       "        {\n",
       "            \"show\": true,\n",
       "            \"scale\": false,\n",
       "            \"nameLocation\": \"end\",\n",
       "            \"nameGap\": 15,\n",
       "            \"gridIndex\": 0,\n",
       "            \"inverse\": false,\n",
       "            \"offset\": 0,\n",
       "            \"splitNumber\": 5,\n",
       "            \"minInterval\": 0,\n",
       "            \"splitLine\": {\n",
       "                \"show\": false,\n",
       "                \"lineStyle\": {\n",
       "                    \"show\": true,\n",
       "                    \"width\": 1,\n",
       "                    \"opacity\": 1,\n",
       "                    \"curveness\": 0,\n",
       "                    \"type\": \"solid\"\n",
       "                }\n",
       "            },\n",
       "            \"data\": [\n",
       "                \"target 0\",\n",
       "                \"target 1\"\n",
       "            ]\n",
       "        }\n",
       "    ],\n",
       "    \"yAxis\": [\n",
       "        {\n",
       "            \"show\": true,\n",
       "            \"scale\": false,\n",
       "            \"nameLocation\": \"end\",\n",
       "            \"nameGap\": 15,\n",
       "            \"gridIndex\": 0,\n",
       "            \"inverse\": false,\n",
       "            \"offset\": 0,\n",
       "            \"splitNumber\": 5,\n",
       "            \"minInterval\": 0,\n",
       "            \"splitLine\": {\n",
       "                \"show\": false,\n",
       "                \"lineStyle\": {\n",
       "                    \"show\": true,\n",
       "                    \"width\": 1,\n",
       "                    \"opacity\": 1,\n",
       "                    \"curveness\": 0,\n",
       "                    \"type\": \"solid\"\n",
       "                }\n",
       "            }\n",
       "        }\n",
       "    ],\n",
       "    \"title\": [\n",
       "        {\n",
       "            \"text\": \"Target variable distribution\",\n",
       "            \"subtext\": \"Number of Target values\",\n",
       "            \"padding\": 5,\n",
       "            \"itemGap\": 10\n",
       "        }\n",
       "    ]\n",
       "};\n",
       "        chart_f52ea1071b4b4e13b9e1d81ed1ac9862.setOption(option_f52ea1071b4b4e13b9e1d81ed1ac9862);\n",
       "    </script>\n",
       "</body>\n",
       "</html>\n"
      ],
      "text/plain": [
       "<IPython.core.display.HTML object>"
      ]
     },
     "execution_count": 105,
     "metadata": {
      "tags": []
     },
     "output_type": "execute_result"
    }
   ],
   "source": [
    "from IPython.display import HTML\n",
    "\n",
    "attr = ['target 0', 'target 1']\n",
    "\n",
    "bar = pe.charts.Bar(init_opts = opts.InitOpts(width = '600px', height = '600px'))\n",
    "bar.set_global_opts(title_opts = opts.TitleOpts(title = 'Target variable distribution',\n",
    "                                                subtitle = 'Number of Target values'),\n",
    "                    legend_opts = opts.LegendOpts(pos_top = 50))\n",
    "bar.add_xaxis(attr)\n",
    "bar.add_yaxis('target values', [573518, 21694], itemstyle_opts = {'color' : '#ff0000'})\n",
    "\n",
    "output = bar.render()\n",
    "HTML(output)"
   ]
  },
  {
   "cell_type": "markdown",
   "metadata": {
    "colab_type": "text",
    "id": "AVCjEZwnDvwc"
   },
   "source": [
    "## Datatype 확인"
   ]
  },
  {
   "cell_type": "code",
   "execution_count": 0,
   "metadata": {
    "colab": {
     "base_uri": "https://localhost:8080/",
     "height": 35
    },
    "colab_type": "code",
    "executionInfo": {
     "elapsed": 1139,
     "status": "ok",
     "timestamp": 1584430517358,
     "user": {
      "displayName": "H J",
      "photoUrl": "",
      "userId": "04796031619100753677"
     },
     "user_tz": -540
    },
    "id": "7QKFiJ0iDv0-",
    "outputId": "f0cb0d16-1519-4c5c-9ea0-d27c5c92daf4"
   },
   "outputs": [
    {
     "data": {
      "text/plain": [
       "Counter({dtype('int64'): 49, dtype('float64'): 10})"
      ]
     },
     "execution_count": 25,
     "metadata": {
      "tags": []
     },
     "output_type": "execute_result"
    }
   ],
   "source": [
    "from collections import Counter\n",
    "Counter(train.dtypes.values)"
   ]
  },
  {
   "cell_type": "code",
   "execution_count": 0,
   "metadata": {
    "colab": {},
    "colab_type": "code",
    "id": "b_4IIr4cQLCL"
   },
   "outputs": [],
   "source": [
    "train_float = train.select_dtypes(include = 'float64')\n",
    "float_var = train_float.columns\n",
    "\n",
    "train_int = train.select_dtypes(include = 'int64')\n",
    "int_var = [var for var in train_int.columns if not(var == 'id')]"
   ]
  },
  {
   "cell_type": "markdown",
   "metadata": {
    "colab_type": "text",
    "id": "JiVdws2HIk1m"
   },
   "source": [
    "## 상관관계 시각화\n"
   ]
  },
  {
   "cell_type": "code",
   "execution_count": 0,
   "metadata": {
    "colab": {
     "base_uri": "https://localhost:8080/",
     "height": 661
    },
    "colab_type": "code",
    "executionInfo": {
     "elapsed": 2892,
     "status": "ok",
     "timestamp": 1584439084877,
     "user": {
      "displayName": "H J",
      "photoUrl": "",
      "userId": "04796031619100753677"
     },
     "user_tz": -540
    },
    "id": "SZRfwXFKDv8Z",
    "outputId": "5b037a46-d365-4fe8-8e2f-67994943949e"
   },
   "outputs": [
    {
     "data": {
      "text/plain": [
       "<matplotlib.axes._subplots.AxesSubplot at 0x7ff54ecf3978>"
      ]
     },
     "execution_count": 94,
     "metadata": {
      "tags": []
     },
     "output_type": "execute_result"
    },
    {
     "data": {
      "image/png": "[encoded data removed]",
      "text/plain": [
       "<Figure size 1152x720 with 2 Axes>"
      ]
     },
     "metadata": {
      "tags": []
     },
     "output_type": "display_data"
    }
   ],
   "source": [
    "color_map = plt.cm.magma_r\n",
    "plt.figure(figsize = (16, 10))\n",
    "plt.title('Pearson correlation of continuous features',\n",
    "          y = 1.05, size = 15)\n",
    "sns.heatmap(train_copy[float_var].corr(), \n",
    "            linewidths = 0.1,\n",
    "            vmax = 1.0, \n",
    "            square = True,\n",
    "            cmap = color_map,\n",
    "            linecolor = 'white',\n",
    "            annot = True)"
   ]
  },
  {
   "cell_type": "code",
   "execution_count": 0,
   "metadata": {
    "colab": {
     "base_uri": "https://localhost:8080/",
     "height": 719
    },
    "colab_type": "code",
    "executionInfo": {
     "elapsed": 6167,
     "status": "ok",
     "timestamp": 1584439535507,
     "user": {
      "displayName": "H J",
      "photoUrl": "",
      "userId": "04796031619100753677"
     },
     "user_tz": -540
    },
    "id": "KjFjIxOiY4v-",
    "outputId": "e1d7b5c8-5f59-4458-83ef-f49a6de7411d"
   },
   "outputs": [
    {
     "data": {
      "text/plain": [
       "<matplotlib.axes._subplots.AxesSubplot at 0x7ff54abcd320>"
      ]
     },
     "execution_count": 99,
     "metadata": {
      "tags": []
     },
     "output_type": "execute_result"
    },
    {
     "data": {
      "image/png": "[encoded data removed]",
      "text/plain": [
       "<Figure size 1152x720 with 2 Axes>"
      ]
     },
     "metadata": {
      "tags": []
     },
     "output_type": "display_data"
    }
   ],
   "source": [
    "color_map = plt.cm.summer_r\n",
    "plt.figure(figsize = (16, 10))\n",
    "plt.title('Pearson correlation of Integer features',\n",
    "          y = 1.05, size = 15)\n",
    "sns.heatmap(data = train_copy[int_var].corr(),\n",
    "            linewidths = 0.1,\n",
    "            vmax = 1.0, \n",
    "            square = True,\n",
    "            cmap = color_map,\n",
    "            linecolor = 'white',\n",
    "            annot = False)"
   ]
  },
  {
   "cell_type": "code",
   "execution_count": 0,
   "metadata": {
    "colab": {
     "base_uri": "https://localhost:8080/",
     "height": 737
    },
    "colab_type": "code",
    "executionInfo": {
     "elapsed": 4913,
     "status": "ok",
     "timestamp": 1584431154705,
     "user": {
      "displayName": "H J",
      "photoUrl": "",
      "userId": "04796031619100753677"
     },
     "user_tz": -540
    },
    "id": "fR3JPkTMDwAp",
    "outputId": "f2cacefa-f990-4e78-cd64-9611a1f7020f"
   },
   "outputs": [
    {
     "data": {
      "text/html": [
       "<html>\n",
       "<head><meta charset=\"utf-8\" /></head>\n",
       "<body>\n",
       "    <div>\n",
       "            <script src=\"https://cdnjs.cloudflare.com/ajax/libs/mathjax/2.7.5/MathJax.js?config=TeX-AMS-MML_SVG\"></script><script type=\"text/javascript\">if (window.MathJax) {MathJax.Hub.Config({SVG: {font: \"STIX-Web\"}});}</script>\n",
       "                <script type=\"text/javascript\">window.PlotlyConfig = {MathJaxConfig: 'local'};</script>\n",
       "        <script src=\"https://cdn.plot.ly/plotly-latest.min.js\"></script>    \n",
       "            <div id=\"b6bd1f21-4732-4f0e-b0c5-2778953688ea\" class=\"plotly-graph-div\" style=\"height:700px; width:900px;\"></div>\n",
       "            <script type=\"text/javascript\">\n",
       "                \n",
       "                    window.PLOTLYENV=window.PLOTLYENV || {};\n",
       "                    \n",
       "                if (document.getElementById(\"b6bd1f21-4732-4f0e-b0c5-2778953688ea\")) {\n",
       "                    Plotly.newPlot(\n",
       "                        'b6bd1f21-4732-4f0e-b0c5-2778953688ea',\n",
       "                        [{\"colorscale\": [[0.0, \"#440154\"], [0.1111111111111111, \"#482878\"], [0.2222222222222222, \"#3e4989\"], [0.3333333333333333, \"#31688e\"], [0.4444444444444444, \"#26828e\"], [0.5555555555555556, \"#1f9e89\"], [0.6666666666666666, \"#35b779\"], [0.7777777777777778, \"#6ece58\"], [0.8888888888888888, \"#b5de2b\"], [1.0, \"#fde725\"]], \"opacity\": 1.0, \"reversescale\": false, \"type\": \"heatmap\", \"x\": [\"target\", \"ps_ind_01\", \"ps_ind_02_cat\", \"ps_ind_03\", \"ps_ind_04_cat\", \"ps_ind_05_cat\", \"ps_ind_06_bin\", \"ps_ind_07_bin\", \"ps_ind_08_bin\", \"ps_ind_09_bin\", \"ps_ind_10_bin\", \"ps_ind_11_bin\", \"ps_ind_12_bin\", \"ps_ind_13_bin\", \"ps_ind_14\", \"ps_ind_15\", \"ps_ind_16_bin\", \"ps_ind_17_bin\", \"ps_ind_18_bin\", \"ps_car_01_cat\", \"ps_car_02_cat\", \"ps_car_03_cat\", \"ps_car_04_cat\", \"ps_car_05_cat\", \"ps_car_06_cat\", \"ps_car_07_cat\", \"ps_car_08_cat\", \"ps_car_09_cat\", \"ps_car_10_cat\", \"ps_car_11_cat\", \"ps_car_11\", \"ps_calc_04\", \"ps_calc_05\", \"ps_calc_06\", \"ps_calc_07\", \"ps_calc_08\", \"ps_calc_09\", \"ps_calc_10\", \"ps_calc_11\", \"ps_calc_12\", \"ps_calc_13\", \"ps_calc_14\", \"ps_calc_15_bin\", \"ps_calc_16_bin\", \"ps_calc_17_bin\", \"ps_calc_18_bin\", \"ps_calc_19_bin\", \"ps_calc_20_bin\"], \"y\": [\"target\", \"ps_ind_01\", \"ps_ind_02_cat\", \"ps_ind_03\", \"ps_ind_04_cat\", \"ps_ind_05_cat\", \"ps_ind_06_bin\", \"ps_ind_07_bin\", \"ps_ind_08_bin\", \"ps_ind_09_bin\", \"ps_ind_10_bin\", \"ps_ind_11_bin\", \"ps_ind_12_bin\", \"ps_ind_13_bin\", \"ps_ind_14\", \"ps_ind_15\", \"ps_ind_16_bin\", \"ps_ind_17_bin\", \"ps_ind_18_bin\", \"ps_car_01_cat\", \"ps_car_02_cat\", \"ps_car_03_cat\", \"ps_car_04_cat\", \"ps_car_05_cat\", \"ps_car_06_cat\", \"ps_car_07_cat\", \"ps_car_08_cat\", \"ps_car_09_cat\", \"ps_car_10_cat\", \"ps_car_11_cat\", \"ps_car_11\", \"ps_calc_04\", \"ps_calc_05\", \"ps_calc_06\", \"ps_calc_07\", \"ps_calc_08\", \"ps_calc_09\", \"ps_calc_10\", \"ps_calc_11\", \"ps_calc_12\", \"ps_calc_13\", \"ps_calc_14\", \"ps_calc_15_bin\", \"ps_calc_16_bin\", \"ps_calc_17_bin\", \"ps_calc_18_bin\", \"ps_calc_19_bin\", \"ps_calc_20_bin\"], \"z\": [[1.0, 0.01857025865764426, 0.005574272003283812, 0.008359590302704629, 0.010145631618831386, 0.03225434962133573, -0.03401686970386084, 0.034218074514472306, 0.013146978438781246, -0.008236815985514567, 0.0018147796965638588, 0.0020281711723608956, 0.0078103084434938295, 0.0024602908319258606, 0.0074428309648139415, -0.02150622168788817, -0.027778075788648455, 0.03705260633561922, 0.004555455715168839, 0.017290422910286384, -0.03154470177673116, 0.020728732349355763, 0.03289987493999408, 0.0008712126488561431, 0.011536659955756626, -0.019735062481523416, -0.02034193348577494, 0.0060133459281467745, 0.0010382993212153732, 0.006128798326761823, -0.0012200062254167793, 3.2720455107159456e-05, 0.0007708801365361789, 8.182225978205306e-05, -0.00010347690485265882, -0.0010058548384214974, 0.0007189675843657573, 0.0010608340444808466, 0.0003714373948919784, -0.001132585398131543, -0.0004464645318106672, 0.0013622753431332209, -0.0004904242506649142, 0.0006238280115069002, -0.00017012817366195574, 0.0005524351996219551, -0.001743831954662157, -0.001072228427533944], [0.01857025865764426, 1.0, -0.001916676730237383, 0.22340759383098746, 0.0666905985917169, 0.01000910157039489, -0.27745768415781097, 0.005699693657942732, 0.18858311700205918, 0.1627999861869906, 0.001847228909831448, -0.016726587843611262, -0.02340598033757039, -0.008775500240686976, -0.02497119706380611, 0.12213672531024436, 0.0368956637484447, 0.10125709413318262, -0.11222626697639439, -0.05619608631564441, -0.11699280513193136, 0.2016172264796301, 0.07904155054810319, 0.1997316206322297, 0.07019202187349194, -0.030947731192298083, 0.1381116289003837, -0.10238826027629605, 0.010793696829685654, 0.008187861301748726, 0.00826065886341301, -0.0009430787753174504, -0.001171189955575937, 0.00014683213520095265, -0.0006583998180269789, 0.0029928067889180153, -8.533923304049915e-05, -0.0013449818796936771, -0.0012629092646156163, 0.0015206567146518381, 0.00019895341092282697, -0.0008910685014914849, -0.00039679021243222155, -1.1545248109605945e-05, -0.0008675973201972937, -0.0015035875469076693, -0.00016221628124577943, -0.0014640083176247888], [0.005574272003283812, -0.001916676730237383, 1.0, -0.0616904222560802, 0.14636321149097664, -0.007712147005029272, -0.12614679978193583, 0.01632217635937112, 0.031194079667660867, 0.11055315874893111, -0.0007709829461295877, 0.0007202557520246, -0.004506421546386763, -0.0008420572472505356, -0.0035039948905890034, -0.004450532492969622, 0.011808399967680388, -0.01855767242014764, -0.0002943048612254928, 7.873686429685167e-05, 0.04538626468618831, 0.019831433228848117, -0.07190098610258397, 0.02198232791854034, -0.017475045610890222, 0.02322339093511233, 0.0014379104366672038, 0.007424698541762061, 0.011153518451788856, 0.01520419665893808, 0.019660233287529565, -0.002209280200330535, -0.001537720725079705, -3.581906843222146e-06, -0.0001732562035611601, -0.0026357435940166747, 0.00034585844630545884, 1.639919167429665e-05, 0.00012688719558325554, -0.0009576627213871271, -0.000945917362953911, -0.0006230654287362605, -0.00020875688092051884, 0.0008647676867580391, 0.0006002807550283965, 0.0011165295564309567, 0.00014956851366651765, -0.0022098479110773594], [0.008359590302704629, 0.22340759383098746, -0.0616904222560802, 1.0, -0.0965332975244034, 0.03811155506640186, -0.04515789199484218, -0.06036790395745832, 0.014036610712139238, 0.11130640018592014, 0.00686512319064189, -0.00398647923236278, 0.0016976891777431033, 0.00392862651390925, 0.0019895460604970206, 0.17044861491716903, -0.01825125801540498, 0.027691181225201148, 0.0013157749639202364, -0.029386421002403473, -0.04490266113327156, 0.07093269782103703, 0.07298961054261868, 0.14095994803415918, 0.008021293226172437, -0.013527903547823327, 0.003607155114386827, -0.01339164509581619, -0.008560954021673296, -0.02596590172891641, -0.05933985729464477, 0.0007029223319995609, -0.00124483981613212, 0.0023614979575671243, 0.0015325306198654468, 0.0012666649599134556, -0.0015441777405850244, 0.00023028733837444532, -0.00271554188115075, -0.002352333367000353, 0.00013288787890914573, 0.00020474960687044948, 0.00013443276941903844, -0.0007442327813956861, 0.00015773156327487207, -0.00021792732130881942, -0.0008816797556254782, -0.0037094085792932193], [0.010145631618831386, 0.0666905985917169, 0.14636321149097664, -0.0965332975244034, 1.0, 0.01254679813306304, -0.2980609455733869, 0.30513060109851486, 0.045171487209806294, -0.011416587835641284, 0.0007814202727425677, 0.0010023991032480813, -0.001107240134838626, -0.0007500782025863175, -0.000578798828096963, 0.07696915241301427, 0.01720451697111001, 0.008176299907188012, -0.0258106307875388, 0.02803514952610368, 0.0030452160184355195, 0.05581181184818648, -0.045025149672268915, 0.009230632587945299, 0.025302768901513242, 0.08423180061346618, -0.00820542480790417, -0.04288982639879621, 0.02280580979154543, -0.0004093535115937033, 0.07341811841113897, 0.0007703793628832042, 0.0010091997692977261, 0.0025941593630453073, -0.00016272785859982808, -0.0027136721326105817, 0.0005405565207205928, 0.00017393043166272698, -0.0019910072975707553, -0.0008693695461680032, 0.0002625059845542224, 0.0015097393957348142, 0.002719311832229587, 0.0022258060062396593, 0.0008031137439422927, 0.0009822685833253439, -0.0020172306477134177, 0.0012216060583508832], [0.03225434962133573, 0.01000910157039489, -0.007712147005029272, 0.03811155506640186, 0.01254679813306304, 1.0, 0.010825620985919628, -0.010384222713592253, 0.004185514832279605, -0.0059179974594396395, 0.0019378810981242546, 0.0007210916073883047, 0.00025821997032885645, 0.0022560656299493533, 0.0012659560803539869, 0.010812122821397745, 0.004277710802998829, 0.008050981642741255, -0.008741780145532967, -0.03533977132351615, 0.014032840437324315, 0.008771049104300167, -0.012627647916272312, 0.0019727454764208825, -0.007371667501532985, 0.004688977796816615, -0.003376023204167524, -0.003833283780505616, 0.0024763098287681343, -0.0011737314087414167, 0.0020982795929032827, 0.0013250856649668723, -0.0004838833052045459, -0.0002947501981656052, -0.0018096338260566057, -0.00017971646733029231, -0.0006049951094879412, -0.000810102491193703, -0.001513744194535601, 0.0011541935460792124, 0.001440988646814275, 0.002224899852830193, 0.001552150552052817, -0.0003983200283001476, 6.768232585990326e-05, 7.423774162236545e-06, 0.00017652127022334529, 0.0005260680104022412], [-0.03401686970386084, -0.27745768415781097, -0.12614679978193583, -0.04515789199484218, -0.2980609455733869, 0.010825620985919628, 1.0, -0.47400904185283216, -0.35683833274499904, -0.38434514013863447, -0.008977535013184641, -0.0052293822490551735, -0.017498505238517773, -0.008390064166735468, -0.018333861999796107, 0.01640620515432804, 0.02835208353232434, -0.03712107367514967, -0.011750963576165853, -0.07587637770473252, 0.13639743705729562, -0.13588263178045862, -0.18701667626451934, -0.054087421225190994, -0.05988730879735985, 0.0008649493219118713, 0.038313070317179294, 0.0990615623673153, -0.04105681120470314, -0.03129622770642452, 0.019591792267309345, -0.00040897151757199367, -0.0005006935696638386, -0.0014131826801872418, -0.0015526558607684004, -0.0011636516201245283, -0.001955110116000671, -0.0011970978269571638, 0.0008220026165339009, 0.001346527577785583, -0.0013011186998572416, 0.0003039329025924058, 0.0020878603119107173, -0.00038145116468386327, -1.2555595169838768e-06, -0.0007593038072440595, 0.002790733141215928, 0.00020310560101518386], [0.034218074514472306, 0.005699693657942732, 0.01632217635937112, -0.06036790395745832, 0.30513060109851486, -0.010384222713592253, -0.47400904185283216, 1.0, -0.2604376422092236, -0.2805134227700197, 0.010739652662638518, 0.010118980387081193, 0.036619156406925375, 0.012124758822620494, 0.035572641614898405, -0.12072867940666913, -0.07232059014963113, 0.020776151947280146, 0.07656187216216323, 0.06215339846829221, -0.16262314017817883, 0.09365787239882147, 0.19970161209070955, -0.05092443797821324, 0.021012550690436286, 0.03417318605047736, -0.12382519653732582, -0.05901341185902349, 0.030556162897083114, 0.047940110791782294, 0.0674573378703035, 0.0004704805518046129, -0.00020263779193736855, 0.0022574679719620087, -0.0007715341800703232, -0.0014167211446850028, 0.003103402535564952, 0.002764372088590574, -0.00044764134499224433, -0.0010438535583232992, 0.0005412369024745282, 0.0016655249364696076, 0.0005749746503442117, 0.0012197619159613055, -0.0005167363145738323, 0.00018148010908247355, -0.0013611791678408936, -0.0009608000950871937], [0.013146978438781246, 0.18858311700205918, 0.031194079667660867, 0.014036610712139238, 0.045171487209806294, 0.004185514832279605, -0.35683833274499904, -0.2604376422092236, 1.0, -0.21117306476218525, 0.006489106788144344, 0.010041261161326986, 0.012254073500305164, 0.007898322664295397, 0.015413123032131852, 0.052775574174329334, 0.005854905555417932, 0.03603562289282283, -0.0332725446539966, 0.0012190558179262711, -0.029987765727617223, 0.022555892247965448, 0.08495716267129813, 0.04321891059059796, 0.06337312462413468, -0.04976640287782073, 0.04279226748766709, -0.010677146148518498, 0.025327537974607683, 0.04137147693432778, -0.08216025659551746, -0.0008862921614354109, 0.0006032890364083318, 0.0012489817846119459, 0.0015137952726550774, 0.0008268945510498403, -0.0011713719830313445, -0.0010929434068323218, -0.0006318117597199733, -0.0012414424693481063, -0.0004320285599224442, -0.0019591595357223396, -0.0027823010069090493, -0.002047724572786132, -0.0005794594623620968, -6.765604151978188e-05, -0.0009190393767054746, 0.0009953591808335657], [-0.008236815985514567, 0.1627999861869906, 0.11055315874893111, 0.11130640018592014, -0.011416587835641284, -0.0059179974594396395, -0.38434514013863447, -0.2805134227700197, -0.21117306476218525, 1.0, -0.006972868230101217, -0.014372442368727069, -0.030857775582384717, -0.010612127908362868, -0.031640265270961615, 0.06486960724135384, 0.040109224305151514, -0.011023469836607316, -0.03963118000019327, 0.024347491242109637, 0.039961187243307425, 0.03613126223451404, -0.07038654070728184, 0.08137685814543054, -0.008708840542991274, 0.008357657030529297, 0.05031732944402148, -0.048029603283806385, -0.00687141523928333, -0.053983464789145515, -0.022224169552149668, 0.0008295720883816524, 0.0002826974574501988, -0.001951994888267138, 0.0013778111002170964, 0.0022687777239796653, 8.414159278212709e-05, -0.000562446653686342, 7.181830788460824e-05, 0.000663667813310181, 0.001439010593754627, -0.0003887243839006073, -0.0006211068335357588, 0.001058856885756094, 0.001134864056114266, 0.0008151460825746571, -0.0011026523735723538, -0.00012315711435414317], [0.0018147796965638588, 0.001847228909831448, -0.0007709829461295877, 0.00686512319064189, 0.0007814202727425677, 0.0019378810981242546, -0.008977535013184641, 0.010739652662638518, 0.006489106788144344, -0.006972868230101217, 1.0, 0.06483734787198987, 0.09799846252882818, 0.08141549712845543, 0.26621523092435156, -0.022122320890474497, -0.024021375653602368, 0.005366401619311756, 0.027264135678598093, 0.0079860244933005, -0.01580678392196337, -0.006584101507706446, 0.016566215782012134, -0.0008515627433018907, 0.004487183793846699, -0.0031578373104150016, -0.0036596207024356705, 0.008244826562802881, 0.0007083813828478605, 0.005909491658760697, 0.0025257564076808354, 3.100019801835291e-05, 0.00132886951241507, -0.002677298661133378, 0.0012737060249125552, 0.0014216349339335546, 0.002842382982084886, -0.0003671698201875837, -0.0023492443946713077, 0.0013666102034156126, 0.001968875596109247, 0.00023239812552867627, -0.0032329018832894796, 0.0010115230415397082, 0.0003451145587065771, 0.00023955239726392255, 0.0015546541592415916, -0.003389818864803641], [0.0020281711723608956, -0.016726587843611262, 0.0007202557520246, -0.00398647923236278, 0.0010023991032480813, 0.0007210916073883047, -0.0052293822490551735, 0.010118980387081193, 0.010041261161326986, -0.014372442368727069, 0.06483734787198987, 1.0, 0.2500763818629762, 0.17943219033525157, 0.5649029739355256, -0.06125127547361095, -0.054007422664833216, 0.0035177531682825296, 0.06901728994364945, 0.004182628737060483, -0.002476284653771055, -0.03385292143438314, 0.008594505962550932, -0.005737544171779696, 0.002257300699842321, -0.009513057617907763, -0.004473578533978509, 0.021348574183912405, -0.0018207469444587751, 0.005671365912134987, 0.0011528966634382102, -0.0011960063936701931, -0.00011120385630700709, 0.000910829501761915, -0.0017878545885394827, 0.0009946385801952449, 0.000675129501667861, 0.0010608594409819694, 0.00018449154616471063, -0.0006120933976180955, 0.0003040675893245571, -0.0007858590549958653, -0.0006590162500335249, 0.0014178496831814482, 0.001064120894248575, -0.001101599223895727, -0.00124072852428391, 0.00040941255000637877], [0.0078103084434938295, -0.02340598033757039, -0.004506421546386763, 0.0016976891777431033, -0.001107240134838626, 0.00025821997032885645, -0.017498505238517773, 0.036619156406925375, 0.012254073500305164, -0.030857775582384717, 0.09799846252882818, 0.2500763818629762, 1.0, 0.15172760153654272, 0.8901272526593912, -0.11699521962430298, -0.09944135106518237, 0.025180581169260943, 0.10928667412452821, 0.0165702277909683, -0.01715166029917916, -0.047468040991848974, 0.027940354431812538, -0.019250652157190042, 0.004409331864039473, -0.010568234715309231, -0.01332335407020998, 0.0444266366410013, -0.00508592585110611, 0.011473568431568767, 0.004437517916353191, -0.0010630051163120823, 0.00018512789955040158, 0.000516936925499091, 0.0017231519792317055, 0.003783782111830129, -0.0020161776675509664, 0.0019267518147433878, 0.000128960121691486, 0.0008132382695546607, 0.0005585972004795325, -0.0005013388256705757, -0.0016324069179437177, 0.0017539182011076183, 0.0013843957990028455, -0.0013589599814370088, -0.0017793822878312809, 0.0031663201946097188], [0.0024602908319258606, -0.008775500240686976, -0.0008420572472505356, 0.00392862651390925, -0.0007500782025863175, 0.0022560656299493533, -0.008390064166735468, 0.012124758822620494, 0.007898322664295397, -0.010612127908362868, 0.08141549712845543, 0.17943219033525157, 0.15172760153654272, 1.0, 0.42639988362844805, -0.04048585112766336, -0.04068044208767216, 0.00413612566413535, 0.05082310409175068, 0.006009232561010019, -0.00818462047392476, -0.015943228041159975, 0.014655985827309276, -0.0032837365179729816, 0.0016058356563016126, -0.005982591726110532, -0.005009607474459792, 0.01501421042031627, 0.0002595796322974466, 0.004531083396469404, 0.0012331129279440814, 0.000349284365188583, -0.00041568351088625216, -0.002162688802186935, 0.00041364798436141313, 0.0027903312033983317, -0.002330326502147568, 0.0009485297239861148, -0.00018583926200984541, -0.0014181281398796739, -0.0021253852767337436, 0.000874525058532212, 0.0004916403631603665, 0.0015699943019584597, -0.0029176616014148344, -0.00011712544370401624, 0.002079286759947947, -0.0009808134646822802], [0.0074428309648139415, -0.02497119706380611, -0.0035039948905890034, 0.0019895460604970206, -0.000578798828096963, 0.0012659560803539869, -0.018333861999796107, 0.035572641614898405, 0.015413123032131852, -0.031640265270961615, 0.26621523092435156, 0.5649029739355256, 0.8901272526593912, 0.42639988362844805, 1.0, -0.12154712140254384, -0.10623968986022739, 0.022033337010334265, 0.12147762405356627, 0.0165668655784966, -0.01816895078992179, -0.05188188850348904, 0.029994631058017605, -0.017372268954138827, 0.005136795765268227, -0.013001142989553488, -0.013304549299903993, 0.045433186731050054, -0.00427251057208424, 0.012513326139589956, 0.00441545359336076, -0.0011022975070728342, 0.00020541688400103905, -0.00024164533876208473, 0.0010228747040311582, 0.004077353989599591, -0.0014427896242121033, 0.001975748285360836, -0.00024326970061660326, 0.00028409101359149397, 0.00030681115009076137, -0.00038714133380647196, -0.0018207206855969129, 0.0023183867020431506, 0.0007408167748194556, -0.0013771848219751998, -0.0010118034751274217, 0.0017825538619501557], [-0.02150622168788817, 0.12213672531024436, -0.004450532492969622, 0.17044861491716903, 0.07696915241301427, 0.010812122821397745, 0.01640620515432804, -0.12072867940666913, 0.052775574174329334, 0.06486960724135384, -0.022122320890474497, -0.06125127547361095, -0.11699521962430298, -0.04048585112766336, -0.12154712140254384, 1.0, 0.31244950310309133, -0.021884130311825453, -0.45168940997349744, 0.025471708213392494, 0.008982986696647915, 0.08469378915440669, -0.04714742710106486, 0.15416969409669107, 0.0008576242267381677, 0.06215442252741449, 0.016783815050086203, 0.038189262294405085, 0.016128999534988916, -0.014094740994882985, 0.023034708611066917, 0.0015836127234392147, 0.0008742837980310804, 3.349415158297259e-05, 0.0017213970445760945, -0.0013086573803460292, -0.0009849673818394845, -0.001278705955536801, -0.0019515651504133746, -0.0012626527588479603, -0.0009216867411593551, 0.001348343378809588, 0.0007020649300910482, -0.0019153659560989628, 0.0011762611405289737, -0.0013255253293460454, 0.0017437917830280592, -0.002039514522085841], [-0.027778075788648455, 0.0368956637484447, 0.011808399967680388, -0.01825125801540498, 0.01720451697111001, 0.004277710802998829, 0.02835208353232434, -0.07232059014963113, 0.005854905555417932, 0.040109224305151514, -0.024021375653602368, -0.054007422664833216, -0.09944135106518237, -0.04068044208767216, -0.10623968986022739, 0.31244950310309133, 1.0, -0.518076359741285, -0.5942654327440993, 3.227294856923591e-05, 0.030244807235194928, 0.06709136349850588, -0.0444324580159051, 0.08107319007987801, -0.016400415460973417, 0.04233850304269029, 0.030265908254077416, 0.015780154511675023, 0.006596901955514019, -0.009989048367195774, 0.02110070490471983, -0.00015427566393635717, 0.0013615649246268365, -0.00035490506837888684, 0.001070181079297779, -0.0019205651214990803, -0.00042738389508255336, -0.0009309516956589041, -0.0005474330902532191, 0.0004788567902211824, -0.001205708134776814, -0.00016701443375272682, 0.0009289338594358783, -0.0004946092252117053, -0.000432323026065295, 9.269330911144216e-05, 0.0003020462737266211, 0.0015192075604170449], [0.03705260633561922, 0.10125709413318262, -0.01855767242014764, 0.027691181225201148, 0.008176299907188012, 0.008050981642741255, -0.03712107367514967, 0.020776151947280146, 0.03603562289282283, -0.011023469836607316, 0.005366401619311756, 0.0035177531682825296, 0.025180581169260943, 0.00413612566413535, 0.022033337010334265, -0.021884130311825453, -0.518076359741285, 1.0, -0.15802098729280864, 0.059441433477600863, -0.05628041105535081, -0.005638745854981741, 0.04455001980419051, -0.004866233203360201, 0.03406713268871457, -0.034777706156249054, -0.008200216193650531, 0.07659956412116281, -0.008669005786151814, 0.007732623493329746, 0.008835947978664717, 0.0006707357574975719, -0.0028267070319113923, -0.0003381879933766814, -0.0007815553133858121, -0.0006022847453995306, 0.0005913211470264439, -0.0006993075561927059, -0.0010905132359777818, -0.0008502466566857318, 0.0004287804389088475, 0.0007460892730801729, -0.0015898973721007975, -0.00021109233161309543, -0.00024213748444542482, 4.6684570859090036e-05, -0.0007755225209437762, -0.001922700612823545], [0.004555455715168839, -0.11222626697639439, -0.0002943048612254928, 0.0013157749639202364, -0.0258106307875388, -0.008741780145532967, -0.011750963576165853, 0.07656187216216323, -0.0332725446539966, -0.03963118000019327, 0.027264135678598093, 0.06901728994364945, 0.10928667412452821, 0.05082310409175068, 0.12147762405356627, -0.45168940997349744, -0.5942654327440993, -0.15802098729280864, 1.0, -0.04605283455622149, 0.006416950576711853, -0.0749196540962615, 0.01874803822746782, -0.0806594447595379, -0.007200395427375478, -0.022599076208085, -0.027826551074698964, -0.045065907175775514, -0.0032419402785540067, 0.004609844546406041, -0.026151192795302716, -0.0009732616497497807, -0.00019562794460521515, 0.00112460665677965, -2.5850049554269232e-05, 0.0018345907179065724, 0.00011597648018706348, 0.001364003682972567, 0.002110541450550706, 0.0015743622718238873, 0.001992229747677625, -0.0012387502669966627, -0.0003786053015293986, -8.221784185795778e-05, 6.434466220910609e-05, 7.039774776981445e-05, -0.0007859433395374316, 0.0007240485980813013], [0.017290422910286384, -0.05619608631564441, 7.873686429685167e-05, -0.029386421002403473, 0.02803514952610368, -0.03533977132351615, -0.07587637770473252, 0.06215339846829221, 0.0012190558179262711, 0.024347491242109637, 0.0079860244933005, 0.004182628737060483, 0.0165702277909683, 0.006009232561010019, 0.0165668655784966, 0.025471708213392494, 3.227294856923591e-05, 0.059441433477600863, -0.04605283455622149, 1.0, -0.1530286338091075, 0.09073584244785192, 0.06841797980411524, 0.03958001657907948, 0.05334351555533407, 0.07786935739413993, -0.05979647682941776, 0.27354672954478104, 0.006082940938283988, 0.010875214499254587, 0.11088249849066975, 0.0003300263664349854, -0.0012137246051272285, -0.0013122683079291667, -0.0006750673075440382, -0.0011709792231006616, 4.087436304850371e-05, 0.0014549826614602647, -0.00041256877019001803, -0.000878775682513195, 0.0008298323933780011, -1.3608486588682091e-05, 0.0009075327675314694, -0.0010716048464943257, 0.0004494390873398002, 0.00042347353532842027, 0.00042444460949566277, -0.0006210688452999034], [-0.03154470177673116, -0.11699280513193136, 0.04538626468618831, -0.04490266113327156, 0.0030452160184355195, 0.014032840437324315, 0.13639743705729562, -0.16262314017817883, -0.029987765727617223, 0.039961187243307425, -0.01580678392196337, -0.002476284653771055, -0.01715166029917916, -0.00818462047392476, -0.01816895078992179, 0.008982986696647915, 0.030244807235194928, -0.05628041105535081, 0.006416950576711853, -0.1530286338091075, 1.0, -0.04339602840766228, -0.2736258177798203, -0.06946315821170782, -0.25309948272777955, -0.011997329051545783, 0.03606567287469101, -0.013870818050987721, -0.01917779014348988, -0.0009239332791507077, -0.09015148492109654, 0.00025845218732504577, 0.00045102477543536594, -0.0018624435864175678, -6.612117192180943e-05, 0.0006956218364690683, -0.0005686535983913692, -0.0006219151653579287, -0.0008455323211896864, 0.002037271554112076, 0.00121702279551906, -6.559154802929633e-05, -3.0092092818154353e-05, -0.002950190405666886, -0.0010574586429704378, -0.00114089550234875, -0.001442580963129656, 0.0009131435376682845], [0.020728732349355763, 0.2016172264796301, 0.019831433228848117, 0.07093269782103703, 0.05581181184818648, 0.008771049104300167, -0.13588263178045862, 0.09365787239882147, 0.022555892247965448, 0.03613126223451404, -0.006584101507706446, -0.03385292143438314, -0.047468040991848974, -0.015943228041159975, -0.05188188850348904, 0.08469378915440669, 0.06709136349850588, -0.005638745854981741, -0.0749196540962615, 0.09073584244785192, -0.04339602840766228, 1.0, -0.022419539893015157, -0.059625978834740814, -0.0034710671366046915, 0.02433440168328996, -0.41952723038231643, -0.04691667375957327, 0.07545389299414305, -0.054468219595279074, 0.07434550150989236, -0.003892205062485009, -0.0010138867593387799, 0.004345984724455247, 0.0030770082342422575, 0.005218475580181988, 0.001122348672065545, 0.0016040756582665933, -0.0016368203235584914, 0.0016623745226717868, 0.0006077017494186828, 0.00029064744058234204, 0.0006536661020186561, -0.004924073106267645, -0.0007511934781874645, -0.0024658623414689903, 0.0027546236978350314, -0.0014334186764519276], [0.03289987493999408, 0.07904155054810319, -0.07190098610258397, 0.07298961054261868, -0.045025149672268915, -0.012627647916272312, -0.18701667626451934, 0.19970161209070955, 0.08495716267129813, -0.07038654070728184, 0.016566215782012134, 0.008594505962550932, 0.027940354431812538, 0.014655985827309276, 0.029994631058017605, -0.04714742710106486, -0.0444324580159051, 0.04455001980419051, 0.01874803822746782, 0.06841797980411524, -0.2736258177798203, -0.022419539893015157, 1.0, 0.03254689023634634, 0.19401461615484175, -0.05241918666158925, -0.051065725258464985, -0.03796660464677013, 0.0007206109590385716, 0.07044614846860035, -0.05721864913160303, 0.0009314839836599153, 0.001538790476113695, 0.0008717001182058602, 0.0002434918758893953, 0.001215931309404982, -0.0003188249939400298, 0.0014737778917999933, 0.001198066784989914, 0.0017213100008985833, 0.00042311633950505554, -0.0023388274799089463, 0.0013882598831542084, 0.0005797271724829382, 0.0006342039000379585, 0.00012764466562672762, -0.00032009578405131915, -0.00053019163375622], [0.0008712126488561431, 0.1997316206322297, 0.02198232791854034, 0.14095994803415918, 0.009230632587945299, 0.0019727454764208825, -0.054087421225190994, -0.05092443797821324, 0.04321891059059796, 0.08137685814543054, -0.0008515627433018907, -0.005737544171779696, -0.019250652157190042, -0.0032837365179729816, -0.017372268954138827, 0.15416969409669107, 0.08107319007987801, -0.004866233203360201, -0.0806594447595379, 0.03958001657907948, -0.06946315821170782, -0.059625978834740814, 0.03254689023634634, 1.0, 0.033555421052665534, 0.02443533546796471, 0.15819821156395275, -0.019225310238221258, -0.015472317877661457, 0.02113431409885484, -0.020586299698014492, -0.0026788723984110547, 0.0005406672653711326, -0.0003117712536758426, 0.00024596899089330084, -0.0014556981660089371, -0.0019158998612953738, -0.0022399524166185677, -0.0011458525239261544, 0.0011071105575101452, 0.00103457727277212, 0.00011423536000080711, -0.0012776657409191475, -0.0011558587904383455, -0.003062846459748948, 0.0010380633098104543, -0.0012942626508329154, -0.0014023438006547514], [0.011536659955756626, 0.07019202187349194, -0.017475045610890222, 0.008021293226172437, 0.025302768901513242, -0.007371667501532985, -0.05988730879735985, 0.021012550690436286, 0.06337312462413468, -0.008708840542991274, 0.004487183793846699, 0.002257300699842321, 0.004409331864039473, 0.0016058356563016126, 0.005136795765268227, 0.0008576242267381677, -0.016400415460973417, 0.03406713268871457, -0.007200395427375478, 0.05334351555533407, -0.25309948272777955, -0.0034710671366046915, 0.19401461615484175, 0.033555421052665534, 1.0, 0.012866069775607631, -0.014611818480575921, 0.003521678507127663, -0.0032214358762925454, 0.02538467026238111, -0.030761920994413272, 0.0008598200601962254, 0.0015746128524585397, 0.001110347739389373, -4.896531776978866e-05, 0.000492169558831998, 0.0025789004953264303, -0.0008241917715083076, 0.0011949560411547635, 0.0004671486827749187, -0.002020251572004944, 0.0008061524226712274, 0.0006898033823445376, 0.0012045255571446942, 0.0001356500415879047, 3.477554141470786e-05, -0.0023403993866320757, -0.0005226832895847189], [-0.019735062481523416, -0.030947731192298083, 0.02322339093511233, -0.013527903547823327, 0.08423180061346618, 0.004688977796816615, 0.0008649493219118713, 0.03417318605047736, -0.04976640287782073, 0.008357657030529297, -0.0031578373104150016, -0.009513057617907763, -0.010568234715309231, -0.005982591726110532, -0.013001142989553488, 0.06215442252741449, 0.04233850304269029, -0.034777706156249054, -0.022599076208085, 0.07786935739413993, -0.011997329051545783, 0.02433440168328996, -0.05241918666158925, 0.02443533546796471, 0.012866069775607631, 1.0, -0.0022302326897386928, 0.002330249288554648, 0.015849726367589266, -0.03567449821761059, 0.11444189883205855, 0.001328946330605099, -0.0004168922548097846, 0.0009511106513240211, 0.0012086542233095037, 0.0009309880429191665, -6.125601003277559e-05, 0.0017600110808036321, 0.0009333182062816579, 0.0005761004076310322, 0.0014150941643311778, 0.0013639035619306052, -0.0009501671863297644, -0.0018148631082617098, -0.0003955615020428161, 7.370072893970078e-05, -0.0005637713309913138, -0.0005827538779321289], [-0.02034193348577494, 0.1381116289003837, 0.0014379104366672038, 0.003607155114386827, -0.00820542480790417, -0.003376023204167524, 0.038313070317179294, -0.12382519653732582, 0.04279226748766709, 0.05031732944402148, -0.0036596207024356705, -0.004473578533978509, -0.01332335407020998, -0.005009607474459792, -0.013304549299903993, 0.016783815050086203, 0.030265908254077416, -0.008200216193650531, -0.027826551074698964, -0.05979647682941776, 0.03606567287469101, -0.41952723038231643, -0.051065725258464985, 0.15819821156395275, -0.014611818480575921, -0.0022302326897386928, 1.0, -0.017047262568882938, -0.03125167998577641, 0.034364928649397726, -0.03851138131009937, -0.0013407294190586774, -0.0005443907527116243, -0.0014563424458583912, -0.001442507108885116, 2.676247359561589e-05, -0.0005307547879870581, -0.002119260300436358, 0.0015842335640298033, 0.000638302219296517, 0.0003935211621883242, -0.001169026770712067, -0.0010101875324775706, 0.0020955546330849594, 0.0013782617361940024, -0.0010009801233439057, 0.00037910847774778465, 0.0002479460755591218], [0.0060133459281467745, -0.10238826027629605, 0.007424698541762061, -0.01339164509581619, -0.04288982639879621, -0.003833283780505616, 0.0990615623673153, -0.05901341185902349, -0.010677146148518498, -0.048029603283806385, 0.008244826562802881, 0.021348574183912405, 0.0444266366410013, 0.01501421042031627, 0.045433186731050054, 0.038189262294405085, 0.015780154511675023, 0.07659956412116281, -0.045065907175775514, 0.27354672954478104, -0.013870818050987721, -0.04691667375957327, -0.03796660464677013, -0.019225310238221258, 0.003521678507127663, 0.002330249288554648, -0.017047262568882938, 1.0, -0.0237783084233143, -0.010877395016682018, 0.11945875705111156, 0.0009149618035536565, 0.0005853559500740327, -0.0019243143612496252, 0.0020955833613161266, -0.0015284446452295327, -0.0010359955172147513, 0.0013219597875747345, -0.001188861409544181, -0.0004669266561843362, -0.0004382064347867429, -0.0012909250977197434, 0.0008246078594012913, -0.0011313681639990286, -0.0007283857429572126, 0.001749391583441834, 0.0011794424633091581, 0.000567024692036001], [0.0010382993212153732, 0.010793696829685654, 0.011153518451788856, -0.008560954021673296, 0.02280580979154543, 0.0024763098287681343, -0.04105681120470314, 0.030556162897083114, 0.025327537974607683, -0.00687141523928333, 0.0007083813828478605, -0.0018207469444587751, -0.00508592585110611, 0.0002595796322974466, -0.00427251057208424, 0.016128999534988916, 0.006596901955514019, -0.008669005786151814, -0.0032419402785540067, 0.006082940938283988, -0.01917779014348988, 0.07545389299414305, 0.0007206109590385716, -0.015472317877661457, -0.0032214358762925454, 0.015849726367589266, -0.03125167998577641, -0.0237783084233143, 1.0, 0.003492611977831433, 0.013416804461359382, -0.002204188680200555, -0.00016428189498661694, -0.001631419908690513, 3.3458338844367305e-06, 0.0029077892163720284, -0.001411527341611807, -0.0015616995757277976, 0.0018166596896549963, 0.0024027112854067625, 0.002988088024274986, -0.00035930506367805635, -0.0008346704499219239, 0.0010212393206456634, -0.0005117859571067839, 0.0007416018344199372, -0.0005855613681766773, 0.00023838942052386116], [0.006128798326761823, 0.008187861301748726, 0.01520419665893808, -0.02596590172891641, -0.0004093535115937033, -0.0011737314087414167, -0.03129622770642452, 0.047940110791782294, 0.04137147693432778, -0.053983464789145515, 0.005909491658760697, 0.005671365912134987, 0.011473568431568767, 0.004531083396469404, 0.012513326139589956, -0.014094740994882985, -0.009989048367195774, 0.007732623493329746, 0.004609844546406041, 0.010875214499254587, -0.0009239332791507077, -0.054468219595279074, 0.07044614846860035, 0.02113431409885484, 0.02538467026238111, -0.03567449821761059, 0.034364928649397726, -0.010877395016682018, 0.003492611977831433, 1.0, -0.04974703703545568, 0.00021324227842270724, -0.00018470178610462078, -0.0010305527324257996, 0.0016531383200823716, -7.104884064449972e-05, 0.0016651672130237483, 0.0016610534717776443, 1.1254065435562394e-05, -0.00035862222351277064, -0.0005780266596425775, 0.0002478062054980295, -0.0011744468682810259, 0.0020541819917873332, 0.002919214150520812, -0.0004828954298334654, -0.0003423887666790013, 0.0015132572839375348], [-0.0012200062254167793, 0.00826065886341301, 0.019660233287529565, -0.05933985729464477, 0.07341811841113897, 0.0020982795929032827, 0.019591792267309345, 0.0674573378703035, -0.08216025659551746, -0.022224169552149668, 0.0025257564076808354, 0.0011528966634382102, 0.004437517916353191, 0.0012331129279440814, 0.00441545359336076, 0.023034708611066917, 0.02110070490471983, 0.008835947978664717, -0.026151192795302716, 0.11088249849066975, -0.09015148492109654, 0.07434550150989236, -0.05721864913160303, -0.020586299698014492, -0.030761920994413272, 0.11444189883205855, -0.03851138131009937, 0.11945875705111156, 0.013416804461359382, -0.04974703703545568, 1.0, 0.00023791778727574878, 0.002456488776180839, -0.0002432746701740631, -0.0003303940644270124, -0.002435917845417564, -0.00048144558761161, -0.0005793111591667368, -0.0011925391073704305, -0.0011990026433895727, 0.0011560118098108301, 0.0009334341899160848, -0.0006747985618780442, 0.0004922553738529897, -0.00010308941790119371, 0.0009388269472544565, 0.002235033876152137, 0.0012657584166069677], [3.2720455107159456e-05, -0.0009430787753174504, -0.002209280200330535, 0.0007029223319995609, 0.0007703793628832042, 0.0013250856649668723, -0.00040897151757199367, 0.0004704805518046129, -0.0008862921614354109, 0.0008295720883816524, 3.100019801835291e-05, -0.0011960063936701931, -0.0010630051163120823, 0.000349284365188583, -0.0011022975070728342, 0.0015836127234392147, -0.00015427566393635717, 0.0006707357574975719, -0.0009732616497497807, 0.0003300263664349854, 0.00025845218732504577, -0.003892205062485009, 0.0009314839836599153, -0.0026788723984110547, 0.0008598200601962254, 0.001328946330605099, -0.0013407294190586774, 0.0009149618035536565, -0.002204188680200555, 0.00021324227842270724, 0.00023791778727574878, 1.0, 0.0006326671086399827, -0.001845321076100575, 0.0014451241140297699, -0.0018465549286891013, -3.835483364034827e-05, 5.835324671095237e-08, 0.0002445677454272767, 0.0009784493310648255, -0.0002146281556930457, 0.00117956060847678, 0.00017189271200305397, -0.0008738127601117421, 0.001185636849081176, 0.0011092144691689856, 0.000901670355747475, 0.00014614969739956845], [0.0007708801365361789, -0.001171189955575937, -0.001537720725079705, -0.00124483981613212, 0.0010091997692977261, -0.0004838833052045459, -0.0005006935696638386, -0.00020263779193736855, 0.0006032890364083318, 0.0002826974574501988, 0.00132886951241507, -0.00011120385630700709, 0.00018512789955040158, -0.00041568351088625216, 0.00020541688400103905, 0.0008742837980310804, 0.0013615649246268365, -0.0028267070319113923, -0.00019562794460521515, -0.0012137246051272285, 0.00045102477543536594, -0.0010138867593387799, 0.001538790476113695, 0.0005406672653711326, 0.0015746128524585397, -0.0004168922548097846, -0.0005443907527116243, 0.0005853559500740327, -0.00016428189498661694, -0.00018470178610462078, 0.002456488776180839, 0.0006326671086399827, 1.0, -0.0013940213742305763, -0.0022117543279146354, -0.0017921422616933762, 0.0011537560131783223, -0.00023581508931659273, 0.0003868027238659907, -0.00021170094528748975, 0.00027033313992228127, -0.0009686463055696605, 7.896468850695335e-05, -0.0009427509379683803, -0.0009852664395485322, -0.0004058525742853213, 0.00026514988456799834, 0.0014943221390327365], [8.182225978205306e-05, 0.00014683213520095265, -3.581906843222146e-06, 0.0023614979575671243, 0.0025941593630453073, -0.0002947501981656052, -0.0014131826801872418, 0.0022574679719620087, 0.0012489817846119459, -0.001951994888267138, -0.002677298661133378, 0.000910829501761915, 0.000516936925499091, -0.002162688802186935, -0.00024164533876208473, 3.349415158297259e-05, -0.00035490506837888684, -0.0003381879933766814, 0.00112460665677965, -0.0013122683079291667, -0.0018624435864175678, 0.004345984724455247, 0.0008717001182058602, -0.0003117712536758426, 0.001110347739389373, 0.0009511106513240211, -0.0014563424458583912, -0.0019243143612496252, -0.001631419908690513, -0.0010305527324257996, -0.0002432746701740631, -0.001845321076100575, -0.0013940213742305763, 1.0, -7.531912940734491e-05, -0.000603379531705, 0.0017095886432559589, -0.0015344104636153145, -0.0005749585705785949, 0.000606879888333531, 0.0009738384019131947, -0.0008696868262338701, 0.0006305110709976015, 0.00013999232688450294, 0.0003201823342879596, 0.0020048012309444117, 0.001185020358563465, 0.0008642753852542953], [-0.00010347690485265882, -0.0006583998180269789, -0.0001732562035611601, 0.0015325306198654468, -0.00016272785859982808, -0.0018096338260566057, -0.0015526558607684004, -0.0007715341800703232, 0.0015137952726550774, 0.0013778111002170964, 0.0012737060249125552, -0.0017878545885394827, 0.0017231519792317055, 0.00041364798436141313, 0.0010228747040311582, 0.0017213970445760945, 0.001070181079297779, -0.0007815553133858121, -2.5850049554269232e-05, -0.0006750673075440382, -6.612117192180943e-05, 0.0030770082342422575, 0.0002434918758893953, 0.00024596899089330084, -4.896531776978866e-05, 0.0012086542233095037, -0.001442507108885116, 0.0020955833613161266, 3.3458338844367305e-06, 0.0016531383200823716, -0.0003303940644270124, 0.0014451241140297699, -0.0022117543279146354, -7.531912940734491e-05, 1.0, -0.0020846240440268154, 0.0007561854950527445, -0.0005302751847792106, -0.000109373544385609, -0.0003886932499626191, -0.0005993891804409392, 0.0019081420282555934, 9.66314589151136e-05, -0.0014105868897924454, -0.00032686988563508396, -0.000310732441279906, -0.0011828498563564512, 0.0003942514216198142], [-0.0010058548384214974, 0.0029928067889180153, -0.0026357435940166747, 0.0012666649599134556, -0.0027136721326105817, -0.00017971646733029231, -0.0011636516201245283, -0.0014167211446850028, 0.0008268945510498403, 0.0022687777239796653, 0.0014216349339335546, 0.0009946385801952449, 0.003783782111830129, 0.0027903312033983317, 0.004077353989599591, -0.0013086573803460292, -0.0019205651214990803, -0.0006022847453995306, 0.0018345907179065724, -0.0011709792231006616, 0.0006956218364690683, 0.005218475580181988, 0.001215931309404982, -0.0014556981660089371, 0.000492169558831998, 0.0009309880429191665, 2.676247359561589e-05, -0.0015284446452295327, 0.0029077892163720284, -7.104884064449972e-05, -0.002435917845417564, -0.0018465549286891013, -0.0017921422616933762, -0.000603379531705, -0.0020846240440268154, 1.0, 1.3082467918402714e-05, -0.0026656686262395567, 0.0020156141257426648, 0.00010930539163713192, -0.00030400026812217183, -0.00017056886241993742, -0.0002656538804042417, 0.0021334585339106765, -0.0005416628791647894, 0.00020163232378358275, 0.0007846466422700149, -0.0007678417278624516], [0.0007189675843657573, -8.533923304049915e-05, 0.00034585844630545884, -0.0015441777405850244, 0.0005405565207205928, -0.0006049951094879412, -0.001955110116000671, 0.003103402535564952, -0.0011713719830313445, 8.414159278212709e-05, 0.002842382982084886, 0.000675129501667861, -0.0020161776675509664, -0.002330326502147568, -0.0014427896242121033, -0.0009849673818394845, -0.00042738389508255336, 0.0005913211470264439, 0.00011597648018706348, 4.087436304850371e-05, -0.0005686535983913692, 0.001122348672065545, -0.0003188249939400298, -0.0019158998612953738, 0.0025789004953264303, -6.125601003277559e-05, -0.0005307547879870581, -0.0010359955172147513, -0.001411527341611807, 0.0016651672130237483, -0.00048144558761161, -3.835483364034827e-05, 0.0011537560131783223, 0.0017095886432559589, 0.0007561854950527445, 1.3082467918402714e-05, 1.0, -0.00018191557849777222, -0.0008978648417142639, -0.0014087261304180096, -0.0006296039665146222, -6.618237838867407e-05, 0.0009232509440599372, -0.0012912698712836317, -0.0008141216438988966, -0.0010941080196215514, 0.00044405455709760463, 6.652856730185543e-05], [0.0010608340444808466, -0.0013449818796936771, 1.639919167429665e-05, 0.00023028733837444532, 0.00017393043166272698, -0.000810102491193703, -0.0011970978269571638, 0.002764372088590574, -0.0010929434068323218, -0.000562446653686342, -0.0003671698201875837, 0.0010608594409819694, 0.0019267518147433878, 0.0009485297239861148, 0.001975748285360836, -0.001278705955536801, -0.0009309516956589041, -0.0006993075561927059, 0.001364003682972567, 0.0014549826614602647, -0.0006219151653579287, 0.0016040756582665933, 0.0014737778917999933, -0.0022399524166185677, -0.0008241917715083076, 0.0017600110808036321, -0.002119260300436358, 0.0013219597875747345, -0.0015616995757277976, 0.0016610534717776443, -0.0005793111591667368, 5.835324671095237e-08, -0.00023581508931659273, -0.0015344104636153145, -0.0005302751847792106, -0.0026656686262395567, -0.00018191557849777222, 1.0, 0.0003942191139418012, 0.002086146473402573, 0.0012790179252307097, 0.0012524127188466114, -0.000320651928570128, 0.0004215258544216297, 0.0003662380118533422, -0.0016175662068499998, -0.001302425409368721, -0.0003357342939004014], [0.0003714373948919784, -0.0012629092646156163, 0.00012688719558325554, -0.00271554188115075, -0.0019910072975707553, -0.001513744194535601, 0.0008220026165339009, -0.00044764134499224433, -0.0006318117597199733, 7.181830788460824e-05, -0.0023492443946713077, 0.00018449154616471063, 0.000128960121691486, -0.00018583926200984541, -0.00024326970061660326, -0.0019515651504133746, -0.0005474330902532191, -0.0010905132359777818, 0.002110541450550706, -0.00041256877019001803, -0.0008455323211896864, -0.0016368203235584914, 0.001198066784989914, -0.0011458525239261544, 0.0011949560411547635, 0.0009333182062816579, 0.0015842335640298033, -0.001188861409544181, 0.0018166596896549963, 1.1254065435562394e-05, -0.0011925391073704305, 0.0002445677454272767, 0.0003868027238659907, -0.0005749585705785949, -0.000109373544385609, 0.0020156141257426648, -0.0008978648417142639, 0.0003942191139418012, 1.0, 0.0010363096506155862, 0.0037022935032958253, 0.0004796006799332971, 0.0008337638553326855, 0.0008795353242804832, -0.0012352831533996144, -0.0009601810727459596, -0.0013765088764562936, -0.00016434196923935577], [-0.001132585398131543, 0.0015206567146518381, -0.0009576627213871271, -0.002352333367000353, -0.0008693695461680032, 0.0011541935460792124, 0.001346527577785583, -0.0010438535583232992, -0.0012414424693481063, 0.000663667813310181, 0.0013666102034156126, -0.0006120933976180955, 0.0008132382695546607, -0.0014181281398796739, 0.00028409101359149397, -0.0012626527588479603, 0.0004788567902211824, -0.0008502466566857318, 0.0015743622718238873, -0.000878775682513195, 0.002037271554112076, 0.0016623745226717868, 0.0017213100008985833, 0.0011071105575101452, 0.0004671486827749187, 0.0005761004076310322, 0.000638302219296517, -0.0004669266561843362, 0.0024027112854067625, -0.00035862222351277064, -0.0011990026433895727, 0.0009784493310648255, -0.00021170094528748975, 0.000606879888333531, -0.0003886932499626191, 0.00010930539163713192, -0.0014087261304180096, 0.002086146473402573, 0.0010363096506155862, 1.0, -0.0003000642782002261, 0.0009804412238627175, 0.001557011818479619, -0.0009128274758420327, 0.003564590448088198, 8.383414231091086e-05, 0.0010213745943376575, -0.0005819389857332146], [-0.0004464645318106672, 0.00019895341092282697, -0.000945917362953911, 0.00013288787890914573, 0.0002625059845542224, 0.001440988646814275, -0.0013011186998572416, 0.0005412369024745282, -0.0004320285599224442, 0.001439010593754627, 0.001968875596109247, 0.0003040675893245571, 0.0005585972004795325, -0.0021253852767337436, 0.00030681115009076137, -0.0009216867411593551, -0.001205708134776814, 0.0004287804389088475, 0.001992229747677625, 0.0008298323933780011, 0.00121702279551906, 0.0006077017494186828, 0.00042311633950505554, 0.00103457727277212, -0.002020251572004944, 0.0014150941643311778, 0.0003935211621883242, -0.0004382064347867429, 0.002988088024274986, -0.0005780266596425775, 0.0011560118098108301, -0.0002146281556930457, 0.00027033313992228127, 0.0009738384019131947, -0.0005993891804409392, -0.00030400026812217183, -0.0006296039665146222, 0.0012790179252307097, 0.0037022935032958253, -0.0003000642782002261, 1.0, -0.0023253997103740774, 0.0007633285228824644, 0.0026328685607104572, -0.0007822956678385264, 0.0005639452300613327, 0.001945194513251351, -0.0016489428988126732], [0.0013622753431332209, -0.0008910685014914849, -0.0006230654287362605, 0.00020474960687044948, 0.0015097393957348142, 0.002224899852830193, 0.0003039329025924058, 0.0016655249364696076, -0.0019591595357223396, -0.0003887243839006073, 0.00023239812552867627, -0.0007858590549958653, -0.0005013388256705757, 0.000874525058532212, -0.00038714133380647196, 0.001348343378809588, -0.00016701443375272682, 0.0007460892730801729, -0.0012387502669966627, -1.3608486588682091e-05, -6.559154802929633e-05, 0.00029064744058234204, -0.0023388274799089463, 0.00011423536000080711, 0.0008061524226712274, 0.0013639035619306052, -0.001169026770712067, -0.0012909250977197434, -0.00035930506367805635, 0.0002478062054980295, 0.0009334341899160848, 0.00117956060847678, -0.0009686463055696605, -0.0008696868262338701, 0.0019081420282555934, -0.00017056886241993742, -6.618237838867407e-05, 0.0012524127188466114, 0.0004796006799332971, 0.0009804412238627175, -0.0023253997103740774, 1.0, 0.001713387982019009, 0.0001985459429239033, -0.001287343165204052, -0.0010625487660089186, -7.567114607875704e-05, -0.00047695089701282217], [-0.0004904242506649142, -0.00039679021243222155, -0.00020875688092051884, 0.00013443276941903844, 0.002719311832229587, 0.001552150552052817, 0.0020878603119107173, 0.0005749746503442117, -0.0027823010069090493, -0.0006211068335357588, -0.0032329018832894796, -0.0006590162500335249, -0.0016324069179437177, 0.0004916403631603665, -0.0018207206855969129, 0.0007020649300910482, 0.0009289338594358783, -0.0015898973721007975, -0.0003786053015293986, 0.0009075327675314694, -3.0092092818154353e-05, 0.0006536661020186561, 0.0013882598831542084, -0.0012776657409191475, 0.0006898033823445376, -0.0009501671863297644, -0.0010101875324775706, 0.0008246078594012913, -0.0008346704499219239, -0.0011744468682810259, -0.0006747985618780442, 0.00017189271200305397, 7.896468850695335e-05, 0.0006305110709976015, 9.66314589151136e-05, -0.0002656538804042417, 0.0009232509440599372, -0.000320651928570128, 0.0008337638553326855, 0.001557011818479619, 0.0007633285228824644, 0.001713387982019009, 1.0, 0.0003847799596396189, 0.0010284195630817046, -0.0008488737176605966, 0.0008350357428633705, 0.0028691848832764094], [0.0006238280115069002, -1.1545248109605945e-05, 0.0008647676867580391, -0.0007442327813956861, 0.0022258060062396593, -0.0003983200283001476, -0.00038145116468386327, 0.0012197619159613055, -0.002047724572786132, 0.001058856885756094, 0.0010115230415397082, 0.0014178496831814482, 0.0017539182011076183, 0.0015699943019584597, 0.0023183867020431506, -0.0019153659560989628, -0.0004946092252117053, -0.00021109233161309543, -8.221784185795778e-05, -0.0010716048464943257, -0.002950190405666886, -0.004924073106267645, 0.0005797271724829382, -0.0011558587904383455, 0.0012045255571446942, -0.0018148631082617098, 0.0020955546330849594, -0.0011313681639990286, 0.0010212393206456634, 0.0020541819917873332, 0.0004922553738529897, -0.0008738127601117421, -0.0009427509379683803, 0.00013999232688450294, -0.0014105868897924454, 0.0021334585339106765, -0.0012912698712836317, 0.0004215258544216297, 0.0008795353242804832, -0.0009128274758420327, 0.0026328685607104572, 0.0001985459429239033, 0.0003847799596396189, 1.0, -0.001670131862574578, 0.0007356946834361805, 7.729719133492816e-05, -8.498697276262237e-05], [-0.00017012817366195574, -0.0008675973201972937, 0.0006002807550283965, 0.00015773156327487207, 0.0008031137439422927, 6.768232585990326e-05, -1.2555595169838768e-06, -0.0005167363145738323, -0.0005794594623620968, 0.001134864056114266, 0.0003451145587065771, 0.001064120894248575, 0.0013843957990028455, -0.0029176616014148344, 0.0007408167748194556, 0.0011762611405289737, -0.000432323026065295, -0.00024213748444542482, 6.434466220910609e-05, 0.0004494390873398002, -0.0010574586429704378, -0.0007511934781874645, 0.0006342039000379585, -0.003062846459748948, 0.0001356500415879047, -0.0003955615020428161, 0.0013782617361940024, -0.0007283857429572126, -0.0005117859571067839, 0.002919214150520812, -0.00010308941790119371, 0.001185636849081176, -0.0009852664395485322, 0.0003201823342879596, -0.00032686988563508396, -0.0005416628791647894, -0.0008141216438988966, 0.0003662380118533422, -0.0012352831533996144, 0.003564590448088198, -0.0007822956678385264, -0.001287343165204052, 0.0010284195630817046, -0.001670131862574578, 1.0, -0.0008263242941722559, 0.0004502193158231304, 0.0009660833743344259], [0.0005524351996219551, -0.0015035875469076693, 0.0011165295564309567, -0.00021792732130881942, 0.0009822685833253439, 7.423774162236545e-06, -0.0007593038072440595, 0.00018148010908247355, -6.765604151978188e-05, 0.0008151460825746571, 0.00023955239726392255, -0.001101599223895727, -0.0013589599814370088, -0.00011712544370401624, -0.0013771848219751998, -0.0013255253293460454, 9.269330911144216e-05, 4.6684570859090036e-05, 7.039774776981445e-05, 0.00042347353532842027, -0.00114089550234875, -0.0024658623414689903, 0.00012764466562672762, 0.0010380633098104543, 3.477554141470786e-05, 7.370072893970078e-05, -0.0010009801233439057, 0.001749391583441834, 0.0007416018344199372, -0.0004828954298334654, 0.0009388269472544565, 0.0011092144691689856, -0.0004058525742853213, 0.0020048012309444117, -0.000310732441279906, 0.00020163232378358275, -0.0010941080196215514, -0.0016175662068499998, -0.0009601810727459596, 8.383414231091086e-05, 0.0005639452300613327, -0.0010625487660089186, -0.0008488737176605966, 0.0007356946834361805, -0.0008263242941722559, 1.0, -0.000256999749002091, 0.0005221041491465297], [-0.001743831954662157, -0.00016221628124577943, 0.00014956851366651765, -0.0008816797556254782, -0.0020172306477134177, 0.00017652127022334529, 0.002790733141215928, -0.0013611791678408936, -0.0009190393767054746, -0.0011026523735723538, 0.0015546541592415916, -0.00124072852428391, -0.0017793822878312809, 0.002079286759947947, -0.0010118034751274217, 0.0017437917830280592, 0.0003020462737266211, -0.0007755225209437762, -0.0007859433395374316, 0.00042444460949566277, -0.001442580963129656, 0.0027546236978350314, -0.00032009578405131915, -0.0012942626508329154, -0.0023403993866320757, -0.0005637713309913138, 0.00037910847774778465, 0.0011794424633091581, -0.0005855613681766773, -0.0003423887666790013, 0.002235033876152137, 0.000901670355747475, 0.00026514988456799834, 0.001185020358563465, -0.0011828498563564512, 0.0007846466422700149, 0.00044405455709760463, -0.001302425409368721, -0.0013765088764562936, 0.0010213745943376575, 0.001945194513251351, -7.567114607875704e-05, 0.0008350357428633705, 7.729719133492816e-05, 0.0004502193158231304, -0.000256999749002091, 1.0, 3.090079145197546e-05], [-0.001072228427533944, -0.0014640083176247888, -0.0022098479110773594, -0.0037094085792932193, 0.0012216060583508832, 0.0005260680104022412, 0.00020310560101518386, -0.0009608000950871937, 0.0009953591808335657, -0.00012315711435414317, -0.003389818864803641, 0.00040941255000637877, 0.0031663201946097188, -0.0009808134646822802, 0.0017825538619501557, -0.002039514522085841, 0.0015192075604170449, -0.001922700612823545, 0.0007240485980813013, -0.0006210688452999034, 0.0009131435376682845, -0.0014334186764519276, -0.00053019163375622, -0.0014023438006547514, -0.0005226832895847189, -0.0005827538779321289, 0.0002479460755591218, 0.000567024692036001, 0.00023838942052386116, 0.0015132572839375348, 0.0012657584166069677, 0.00014614969739956845, 0.0014943221390327365, 0.0008642753852542953, 0.0003942514216198142, -0.0007678417278624516, 6.652856730185543e-05, -0.0003357342939004014, -0.00016434196923935577, -0.0005819389857332146, -0.0016489428988126732, -0.00047695089701282217, 0.0028691848832764094, -8.498697276262237e-05, 0.0009660833743344259, 0.0005221041491465297, 3.090079145197546e-05, 1.0]]}],\n",
       "                        {\"height\": 700, \"template\": {\"data\": {\"bar\": [{\"error_x\": {\"color\": \"#2a3f5f\"}, \"error_y\": {\"color\": \"#2a3f5f\"}, \"marker\": {\"line\": {\"color\": \"#E5ECF6\", \"width\": 0.5}}, \"type\": \"bar\"}], \"barpolar\": [{\"marker\": {\"line\": {\"color\": \"#E5ECF6\", \"width\": 0.5}}, \"type\": \"barpolar\"}], \"carpet\": [{\"aaxis\": {\"endlinecolor\": \"#2a3f5f\", \"gridcolor\": \"white\", \"linecolor\": \"white\", \"minorgridcolor\": \"white\", \"startlinecolor\": \"#2a3f5f\"}, \"baxis\": {\"endlinecolor\": \"#2a3f5f\", \"gridcolor\": \"white\", \"linecolor\": \"white\", \"minorgridcolor\": \"white\", \"startlinecolor\": \"#2a3f5f\"}, \"type\": \"carpet\"}], \"choropleth\": [{\"colorbar\": {\"outlinewidth\": 0, \"ticks\": \"\"}, \"type\": \"choropleth\"}], \"contour\": [{\"colorbar\": {\"outlinewidth\": 0, \"ticks\": \"\"}, \"colorscale\": [[0.0, \"#0d0887\"], [0.1111111111111111, \"#46039f\"], [0.2222222222222222, \"#7201a8\"], [0.3333333333333333, \"#9c179e\"], [0.4444444444444444, \"#bd3786\"], [0.5555555555555556, \"#d8576b\"], [0.6666666666666666, \"#ed7953\"], [0.7777777777777778, \"#fb9f3a\"], [0.8888888888888888, \"#fdca26\"], [1.0, \"#f0f921\"]], \"type\": \"contour\"}], \"contourcarpet\": [{\"colorbar\": {\"outlinewidth\": 0, \"ticks\": \"\"}, \"type\": \"contourcarpet\"}], \"heatmap\": [{\"colorbar\": {\"outlinewidth\": 0, \"ticks\": \"\"}, \"colorscale\": [[0.0, \"#0d0887\"], [0.1111111111111111, \"#46039f\"], [0.2222222222222222, \"#7201a8\"], [0.3333333333333333, \"#9c179e\"], [0.4444444444444444, \"#bd3786\"], [0.5555555555555556, \"#d8576b\"], [0.6666666666666666, \"#ed7953\"], [0.7777777777777778, \"#fb9f3a\"], [0.8888888888888888, \"#fdca26\"], [1.0, \"#f0f921\"]], \"type\": \"heatmap\"}], \"heatmapgl\": [{\"colorbar\": {\"outlinewidth\": 0, \"ticks\": \"\"}, \"colorscale\": [[0.0, \"#0d0887\"], [0.1111111111111111, \"#46039f\"], [0.2222222222222222, \"#7201a8\"], [0.3333333333333333, \"#9c179e\"], [0.4444444444444444, \"#bd3786\"], [0.5555555555555556, \"#d8576b\"], [0.6666666666666666, \"#ed7953\"], [0.7777777777777778, \"#fb9f3a\"], [0.8888888888888888, \"#fdca26\"], [1.0, \"#f0f921\"]], \"type\": \"heatmapgl\"}], \"histogram\": [{\"marker\": {\"colorbar\": {\"outlinewidth\": 0, \"ticks\": \"\"}}, \"type\": \"histogram\"}], \"histogram2d\": [{\"colorbar\": {\"outlinewidth\": 0, \"ticks\": \"\"}, \"colorscale\": [[0.0, \"#0d0887\"], [0.1111111111111111, \"#46039f\"], [0.2222222222222222, \"#7201a8\"], [0.3333333333333333, \"#9c179e\"], [0.4444444444444444, \"#bd3786\"], [0.5555555555555556, \"#d8576b\"], [0.6666666666666666, \"#ed7953\"], [0.7777777777777778, \"#fb9f3a\"], [0.8888888888888888, \"#fdca26\"], [1.0, \"#f0f921\"]], \"type\": \"histogram2d\"}], \"histogram2dcontour\": [{\"colorbar\": {\"outlinewidth\": 0, \"ticks\": \"\"}, \"colorscale\": [[0.0, \"#0d0887\"], [0.1111111111111111, \"#46039f\"], [0.2222222222222222, \"#7201a8\"], [0.3333333333333333, \"#9c179e\"], [0.4444444444444444, \"#bd3786\"], [0.5555555555555556, \"#d8576b\"], [0.6666666666666666, \"#ed7953\"], [0.7777777777777778, \"#fb9f3a\"], [0.8888888888888888, \"#fdca26\"], [1.0, \"#f0f921\"]], \"type\": \"histogram2dcontour\"}], \"mesh3d\": [{\"colorbar\": {\"outlinewidth\": 0, \"ticks\": \"\"}, \"type\": \"mesh3d\"}], \"parcoords\": [{\"line\": {\"colorbar\": {\"outlinewidth\": 0, \"ticks\": \"\"}}, \"type\": \"parcoords\"}], \"pie\": [{\"automargin\": true, \"type\": \"pie\"}], \"scatter\": [{\"marker\": {\"colorbar\": {\"outlinewidth\": 0, \"ticks\": \"\"}}, \"type\": \"scatter\"}], \"scatter3d\": [{\"line\": {\"colorbar\": {\"outlinewidth\": 0, \"ticks\": \"\"}}, \"marker\": {\"colorbar\": {\"outlinewidth\": 0, \"ticks\": \"\"}}, \"type\": \"scatter3d\"}], \"scattercarpet\": [{\"marker\": {\"colorbar\": {\"outlinewidth\": 0, \"ticks\": \"\"}}, \"type\": \"scattercarpet\"}], \"scattergeo\": [{\"marker\": {\"colorbar\": {\"outlinewidth\": 0, \"ticks\": \"\"}}, \"type\": \"scattergeo\"}], \"scattergl\": [{\"marker\": {\"colorbar\": {\"outlinewidth\": 0, \"ticks\": \"\"}}, \"type\": \"scattergl\"}], \"scattermapbox\": [{\"marker\": {\"colorbar\": {\"outlinewidth\": 0, \"ticks\": \"\"}}, \"type\": \"scattermapbox\"}], \"scatterpolar\": [{\"marker\": {\"colorbar\": {\"outlinewidth\": 0, \"ticks\": \"\"}}, \"type\": \"scatterpolar\"}], \"scatterpolargl\": [{\"marker\": {\"colorbar\": {\"outlinewidth\": 0, \"ticks\": \"\"}}, \"type\": \"scatterpolargl\"}], \"scatterternary\": [{\"marker\": {\"colorbar\": {\"outlinewidth\": 0, \"ticks\": \"\"}}, \"type\": \"scatterternary\"}], \"surface\": [{\"colorbar\": {\"outlinewidth\": 0, \"ticks\": \"\"}, \"colorscale\": [[0.0, \"#0d0887\"], [0.1111111111111111, \"#46039f\"], [0.2222222222222222, \"#7201a8\"], [0.3333333333333333, \"#9c179e\"], [0.4444444444444444, \"#bd3786\"], [0.5555555555555556, \"#d8576b\"], [0.6666666666666666, \"#ed7953\"], [0.7777777777777778, \"#fb9f3a\"], [0.8888888888888888, \"#fdca26\"], [1.0, \"#f0f921\"]], \"type\": \"surface\"}], \"table\": [{\"cells\": {\"fill\": {\"color\": \"#EBF0F8\"}, \"line\": {\"color\": \"white\"}}, \"header\": {\"fill\": {\"color\": \"#C8D4E3\"}, \"line\": {\"color\": \"white\"}}, \"type\": \"table\"}]}, \"layout\": {\"annotationdefaults\": {\"arrowcolor\": \"#2a3f5f\", \"arrowhead\": 0, \"arrowwidth\": 1}, \"coloraxis\": {\"colorbar\": {\"outlinewidth\": 0, \"ticks\": \"\"}}, \"colorscale\": {\"diverging\": [[0, \"#8e0152\"], [0.1, \"#c51b7d\"], [0.2, \"#de77ae\"], [0.3, \"#f1b6da\"], [0.4, \"#fde0ef\"], [0.5, \"#f7f7f7\"], [0.6, \"#e6f5d0\"], [0.7, \"#b8e186\"], [0.8, \"#7fbc41\"], [0.9, \"#4d9221\"], [1, \"#276419\"]], \"sequential\": [[0.0, \"#0d0887\"], [0.1111111111111111, \"#46039f\"], [0.2222222222222222, \"#7201a8\"], [0.3333333333333333, \"#9c179e\"], [0.4444444444444444, \"#bd3786\"], [0.5555555555555556, \"#d8576b\"], [0.6666666666666666, \"#ed7953\"], [0.7777777777777778, \"#fb9f3a\"], [0.8888888888888888, \"#fdca26\"], [1.0, \"#f0f921\"]], \"sequentialminus\": [[0.0, \"#0d0887\"], [0.1111111111111111, \"#46039f\"], [0.2222222222222222, \"#7201a8\"], [0.3333333333333333, \"#9c179e\"], [0.4444444444444444, \"#bd3786\"], [0.5555555555555556, \"#d8576b\"], [0.6666666666666666, \"#ed7953\"], [0.7777777777777778, \"#fb9f3a\"], [0.8888888888888888, \"#fdca26\"], [1.0, \"#f0f921\"]]}, \"colorway\": [\"#636efa\", \"#EF553B\", \"#00cc96\", \"#ab63fa\", \"#FFA15A\", \"#19d3f3\", \"#FF6692\", \"#B6E880\", \"#FF97FF\", \"#FECB52\"], \"font\": {\"color\": \"#2a3f5f\"}, \"geo\": {\"bgcolor\": \"white\", \"lakecolor\": \"white\", \"landcolor\": \"#E5ECF6\", \"showlakes\": true, \"showland\": true, \"subunitcolor\": \"white\"}, \"hoverlabel\": {\"align\": \"left\"}, \"hovermode\": \"closest\", \"mapbox\": {\"style\": \"light\"}, \"paper_bgcolor\": \"white\", \"plot_bgcolor\": \"#E5ECF6\", \"polar\": {\"angularaxis\": {\"gridcolor\": \"white\", \"linecolor\": \"white\", \"ticks\": \"\"}, \"bgcolor\": \"#E5ECF6\", \"radialaxis\": {\"gridcolor\": \"white\", \"linecolor\": \"white\", \"ticks\": \"\"}}, \"scene\": {\"xaxis\": {\"backgroundcolor\": \"#E5ECF6\", \"gridcolor\": \"white\", \"gridwidth\": 2, \"linecolor\": \"white\", \"showbackground\": true, \"ticks\": \"\", \"zerolinecolor\": \"white\"}, \"yaxis\": {\"backgroundcolor\": \"#E5ECF6\", \"gridcolor\": \"white\", \"gridwidth\": 2, \"linecolor\": \"white\", \"showbackground\": true, \"ticks\": \"\", \"zerolinecolor\": \"white\"}, \"zaxis\": {\"backgroundcolor\": \"#E5ECF6\", \"gridcolor\": \"white\", \"gridwidth\": 2, \"linecolor\": \"white\", \"showbackground\": true, \"ticks\": \"\", \"zerolinecolor\": \"white\"}}, \"shapedefaults\": {\"line\": {\"color\": \"#2a3f5f\"}}, \"ternary\": {\"aaxis\": {\"gridcolor\": \"white\", \"linecolor\": \"white\", \"ticks\": \"\"}, \"baxis\": {\"gridcolor\": \"white\", \"linecolor\": \"white\", \"ticks\": \"\"}, \"bgcolor\": \"#E5ECF6\", \"caxis\": {\"gridcolor\": \"white\", \"linecolor\": \"white\", \"ticks\": \"\"}}, \"title\": {\"x\": 0.05}, \"xaxis\": {\"automargin\": true, \"gridcolor\": \"white\", \"linecolor\": \"white\", \"ticks\": \"\", \"title\": {\"standoff\": 15}, \"zerolinecolor\": \"white\", \"zerolinewidth\": 2}, \"yaxis\": {\"automargin\": true, \"gridcolor\": \"white\", \"linecolor\": \"white\", \"ticks\": \"\", \"title\": {\"standoff\": 15}, \"zerolinecolor\": \"white\", \"zerolinewidth\": 2}}}, \"title\": {\"text\": \"Pearson Correlation of Integer-type features\"}, \"width\": 900, \"xaxis\": {\"nticks\": 36, \"ticks\": \"\"}, \"yaxis\": {\"ticks\": \"\"}},\n",
       "                        {\"responsive\": true}\n",
       "                    ).then(function(){\n",
       "                            \n",
       "var gd = document.getElementById('b6bd1f21-4732-4f0e-b0c5-2778953688ea');\n",
       "var x = new MutationObserver(function (mutations, observer) {{\n",
       "        var display = window.getComputedStyle(gd).display;\n",
       "        if (!display || display === 'none') {{\n",
       "            console.log([gd, 'removed!']);\n",
       "            Plotly.purge(gd);\n",
       "            observer.disconnect();\n",
       "        }}\n",
       "}});\n",
       "\n",
       "// Listen for the removal of the full notebook cells\n",
       "var notebookContainer = gd.closest('#notebook-container');\n",
       "if (notebookContainer) {{\n",
       "    x.observe(notebookContainer, {childList: true});\n",
       "}}\n",
       "\n",
       "// Listen for the clearing of the current output cell\n",
       "var outputEl = gd.closest('.output');\n",
       "if (outputEl) {{\n",
       "    x.observe(outputEl, {childList: true});\n",
       "}}\n",
       "\n",
       "                        })\n",
       "                };\n",
       "                \n",
       "            </script>\n",
       "        </div>\n",
       "</body>\n",
       "</html>"
      ]
     },
     "metadata": {
      "tags": []
     },
     "output_type": "display_data"
    }
   ],
   "source": [
    "data = [\n",
    "    go.Heatmap(\n",
    "        z = train_copy[int_var].corr().values,\n",
    "        x = train_copy[int_var].columns.values,\n",
    "        y = train_copy[int_var].columns.values,\n",
    "        colorscale = 'Viridis',\n",
    "        reversescale = False,\n",
    "        opacity = 1.0 )\n",
    "]\n",
    "\n",
    "layout = go.Layout(\n",
    "    title = 'Pearson Correlation of Integer-type features',\n",
    "    xaxis = dict(ticks = '', nticks = 36),\n",
    "    yaxis = dict(ticks = '' ),\n",
    "    width = 900, height = 700)\n",
    "\n",
    "fig = go.Figure(data = data, layout = layout)\n",
    "py.iplot(fig)"
   ]
  },
  {
   "cell_type": "markdown",
   "metadata": {
    "colab_type": "text",
    "id": "KKVOkyZoBSBm"
   },
   "source": [
    "## Mutual Information\n",
    "정보 이론 중 하나로  \n",
    "두 변수가 얼마나 연관 돼 있는지를 확인 한다.  \n",
    "만약, 변수 간 상관이 없고 상호 독립일 경우만  \n",
    "0의 값을 갖고 독립이 아닐 경우 0 이상의 값을 갖는다.  \n",
    "\n",
    "즉, 값이 0이라는 것은 서로 정보를 얻을 게 없다는 의미며 값이 커질 수록 하나의 값이 존재할 때   \n",
    "다른 하나가 추가 됐을 경우 얻을 수 있는 정보의 양이 많다는 의미이다.\n",
    "\n",
    "\n"
   ]
  },
  {
   "cell_type": "code",
   "execution_count": 0,
   "metadata": {
    "colab": {
     "base_uri": "https://localhost:8080/",
     "height": 54
    },
    "colab_type": "code",
    "executionInfo": {
     "elapsed": 115460,
     "status": "ok",
     "timestamp": 1584440411349,
     "user": {
      "displayName": "H J",
      "photoUrl": "",
      "userId": "04796031619100753677"
     },
     "user_tz": -540
    },
    "id": "a27zevsRDwJD",
    "outputId": "e4b5518d-e2c2-4985-a931-b38b5fb6fd05"
   },
   "outputs": [
    {
     "name": "stdout",
     "output_type": "stream",
     "text": [
      "[0.01392491 0.0043648  0.00535136 0.00778353 0.00141324 0.00230197\n",
      " 0.01233319 0.00531775 0.00546358 0.00527269]\n"
     ]
    }
   ],
   "source": [
    "from sklearn.feature_selection import mutual_info_classif\n",
    "mf_float = mutual_info_classif(train[float_var].values,\n",
    "                               train.target.values,\n",
    "                               n_neighbors = 3,\n",
    "                               random_state = 2020)\n",
    "print(mf_float)"
   ]
  },
  {
   "cell_type": "code",
   "execution_count": 0,
   "metadata": {
    "colab": {
     "base_uri": "https://localhost:8080/",
     "height": 610
    },
    "colab_type": "code",
    "executionInfo": {
     "elapsed": 1599,
     "status": "ok",
     "timestamp": 1584442741874,
     "user": {
      "displayName": "H J",
      "photoUrl": "",
      "userId": "04796031619100753677"
     },
     "user_tz": -540
    },
    "id": "D0IH06XOEuwQ",
    "outputId": "836ee044-7d11-41e5-de4b-7e00003efbff"
   },
   "outputs": [
    {
     "data": {
      "text/plain": [
       "<matplotlib.collections.LineCollection at 0x7ff54592f6a0>"
      ]
     },
     "execution_count": 125,
     "metadata": {
      "tags": []
     },
     "output_type": "execute_result"
    },
    {
     "data": {
      "image/png": "[encoded data removed]",
      "text/plain": [
       "<Figure size 720x720 with 1 Axes>"
      ]
     },
     "metadata": {
      "tags": []
     },
     "output_type": "display_data"
    }
   ],
   "source": [
    "f, ax = plt.subplots(figsize = (10, 10))\n",
    "pos = np.arange(len(mf_float))\n",
    "plt.barh(pos, mf_float)\n",
    "plt.yticks(pos, float_var)\n",
    "threshold = 0.01\n",
    "\n",
    "for i, tick in enumerate(ax.yaxis.get_major_ticks()) :\n",
    "    tick.label.set_fontsize(12)\n",
    "    if np.squeeze(mf_float)[i] > threshold :\n",
    "        tick.label.set_color(\"red\")\n",
    "        \n",
    "plt.vlines(x = threshold , ymin = -1 , ymax = len(mf_float))"
   ]
  },
  {
   "cell_type": "code",
   "execution_count": 0,
   "metadata": {
    "colab": {
     "base_uri": "https://localhost:8080/",
     "height": 235
    },
    "colab_type": "code",
    "executionInfo": {
     "elapsed": 554335,
     "status": "ok",
     "timestamp": 1584441137095,
     "user": {
      "displayName": "H J",
      "photoUrl": "",
      "userId": "04796031619100753677"
     },
     "user_tz": -540
    },
    "id": "Oaafhtsg_fp8",
    "outputId": "c7802b0a-6529-4d6f-9823-8fe54a17c67e"
   },
   "outputs": [
    {
     "name": "stdout",
     "output_type": "stream",
     "text": [
      "[1.56664730e-01 1.40080741e-02 6.27165879e-02 1.21106234e-02\n",
      " 2.37911309e-02 2.10051323e-03 2.22949095e-02 9.33747766e-03\n",
      " 3.43952388e-03 4.81035973e-03 0.00000000e+00 0.00000000e+00\n",
      " 2.74216413e-04 3.79995983e-05 5.16239053e-04 1.07215023e-02\n",
      " 6.05540160e-02 2.36017092e-03 2.65643001e-03 3.25395390e-02\n",
      " 9.48059852e-02 7.14252403e-02 4.16835764e-03 3.92867102e-02\n",
      " 1.62477651e-02 1.17932834e-01 9.54724553e-02 7.29875337e-02\n",
      " 1.32068943e-01 6.27322472e-03 5.74525943e-02 3.16622282e-02\n",
      " 3.06619740e-02 2.88876252e-02 2.51880991e-02 2.86407800e-02\n",
      " 2.82660566e-02 1.25234578e-02 1.45421120e-02 2.62191668e-02\n",
      " 1.96921834e-02 1.29539067e-02 2.28549119e-03 5.40863606e-02\n",
      " 4.24387165e-02 1.15018587e-02 1.67655121e-02 3.02286363e-03]\n"
     ]
    }
   ],
   "source": [
    "mf_int = mutual_info_classif(train[int_var].values,\n",
    "                             train.target.values,\n",
    "                             n_neighbors = 3,\n",
    "                             random_state = 2020)\n",
    "print(mf_int)"
   ]
  },
  {
   "cell_type": "code",
   "execution_count": 0,
   "metadata": {
    "colab": {
     "base_uri": "https://localhost:8080/",
     "height": 610
    },
    "colab_type": "code",
    "executionInfo": {
     "elapsed": 2812,
     "status": "ok",
     "timestamp": 1584442749264,
     "user": {
      "displayName": "H J",
      "photoUrl": "",
      "userId": "04796031619100753677"
     },
     "user_tz": -540
    },
    "id": "Y4cU1Mp5IH6v",
    "outputId": "a6030c68-80ab-42a6-8c25-00881d2a3ac5"
   },
   "outputs": [
    {
     "data": {
      "text/plain": [
       "<matplotlib.collections.LineCollection at 0x7ff545954ba8>"
      ]
     },
     "execution_count": 126,
     "metadata": {
      "tags": []
     },
     "output_type": "execute_result"
    },
    {
     "data": {
      "image/png": "[encoded data removed]",
      "text/plain": [
       "<Figure size 720x720 with 1 Axes>"
      ]
     },
     "metadata": {
      "tags": []
     },
     "output_type": "display_data"
    }
   ],
   "source": [
    "f, ax = plt.subplots(figsize = (10, 10))\n",
    "pos = np.arange(len(mf_int))\n",
    "plt.barh(pos, mf_int)\n",
    "plt.yticks(pos, int_var)\n",
    "threshold = 0.01\n",
    "\n",
    "for i, tick in enumerate(ax.yaxis.get_major_ticks()) :\n",
    "    tick.label.set_fontsize(12)\n",
    "    if np.squeeze(mf_int)[i] > threshold :\n",
    "        tick.label.set_color(\"red\")\n",
    "        \n",
    "plt.vlines(x = threshold , ymin = -1 , ymax = len(mf_int))"
   ]
  },
  {
   "cell_type": "code",
   "execution_count": 0,
   "metadata": {
    "colab": {},
    "colab_type": "code",
    "id": "ACvMKe_VK_r-"
   },
   "outputs": [],
   "source": [
    "bin_col = [col for col in train.columns if 'bin' in col]\n",
    "zero_list = []\n",
    "one_list = []\n",
    "for col in bin_col:\n",
    "  zero_list.append((train[col] == 0).sum())\n",
    "  one_list.append((train[col] == 1).sum())"
   ]
  },
  {
   "cell_type": "code",
   "execution_count": 0,
   "metadata": {
    "colab": {
     "base_uri": "https://localhost:8080/",
     "height": 542
    },
    "colab_type": "code",
    "executionInfo": {
     "elapsed": 1941,
     "status": "ok",
     "timestamp": 1584442812700,
     "user": {
      "displayName": "H J",
      "photoUrl": "",
      "userId": "04796031619100753677"
     },
     "user_tz": -540
    },
    "id": "9HWmWwFwK_xD",
    "outputId": "356fffdc-d279-4c01-9f32-5b356fcb8eca"
   },
   "outputs": [
    {
     "data": {
      "text/html": [
       "<html>\n",
       "<head><meta charset=\"utf-8\" /></head>\n",
       "<body>\n",
       "    <div>\n",
       "            <script src=\"https://cdnjs.cloudflare.com/ajax/libs/mathjax/2.7.5/MathJax.js?config=TeX-AMS-MML_SVG\"></script><script type=\"text/javascript\">if (window.MathJax) {MathJax.Hub.Config({SVG: {font: \"STIX-Web\"}});}</script>\n",
       "                <script type=\"text/javascript\">window.PlotlyConfig = {MathJaxConfig: 'local'};</script>\n",
       "        <script src=\"https://cdn.plot.ly/plotly-latest.min.js\"></script>    \n",
       "            <div id=\"29c7e585-b294-4061-b6fd-5b5bbce06bb7\" class=\"plotly-graph-div\" style=\"height:525px; width:100%;\"></div>\n",
       "            <script type=\"text/javascript\">\n",
       "                \n",
       "                    window.PLOTLYENV=window.PLOTLYENV || {};\n",
       "                    \n",
       "                if (document.getElementById(\"29c7e585-b294-4061-b6fd-5b5bbce06bb7\")) {\n",
       "                    Plotly.newPlot(\n",
       "                        '29c7e585-b294-4061-b6fd-5b5bbce06bb7',\n",
       "                        [{\"name\": \"Zero count\", \"type\": \"bar\", \"x\": [\"ps_ind_06_bin\", \"ps_ind_07_bin\", \"ps_ind_08_bin\", \"ps_ind_09_bin\", \"ps_ind_10_bin\", \"ps_ind_11_bin\", \"ps_ind_12_bin\", \"ps_ind_13_bin\", \"ps_ind_16_bin\", \"ps_ind_17_bin\", \"ps_ind_18_bin\", \"ps_calc_15_bin\", \"ps_calc_16_bin\", \"ps_calc_17_bin\", \"ps_calc_18_bin\", \"ps_calc_19_bin\", \"ps_calc_20_bin\"], \"y\": [360852, 442223, 497644, 484917, 594990, 594205, 589594, 594648, 201882, 523143, 503879, 522342, 221514, 265356, 424278, 387469, 503955]}, {\"name\": \"One count\", \"type\": \"bar\", \"x\": [\"ps_ind_06_bin\", \"ps_ind_07_bin\", \"ps_ind_08_bin\", \"ps_ind_09_bin\", \"ps_ind_10_bin\", \"ps_ind_11_bin\", \"ps_ind_12_bin\", \"ps_ind_13_bin\", \"ps_ind_16_bin\", \"ps_ind_17_bin\", \"ps_ind_18_bin\", \"ps_calc_15_bin\", \"ps_calc_16_bin\", \"ps_calc_17_bin\", \"ps_calc_18_bin\", \"ps_calc_19_bin\", \"ps_calc_20_bin\"], \"y\": [234360, 152989, 97568, 110295, 222, 1007, 5618, 564, 393330, 72069, 91333, 72870, 373698, 329856, 170934, 207743, 91257]}],\n",
       "                        {\"barmode\": \"stack\", \"template\": {\"data\": {\"bar\": [{\"error_x\": {\"color\": \"#2a3f5f\"}, \"error_y\": {\"color\": \"#2a3f5f\"}, \"marker\": {\"line\": {\"color\": \"#E5ECF6\", \"width\": 0.5}}, \"type\": \"bar\"}], \"barpolar\": [{\"marker\": {\"line\": {\"color\": \"#E5ECF6\", \"width\": 0.5}}, \"type\": \"barpolar\"}], \"carpet\": [{\"aaxis\": {\"endlinecolor\": \"#2a3f5f\", \"gridcolor\": \"white\", \"linecolor\": \"white\", \"minorgridcolor\": \"white\", \"startlinecolor\": \"#2a3f5f\"}, \"baxis\": {\"endlinecolor\": \"#2a3f5f\", \"gridcolor\": \"white\", \"linecolor\": \"white\", \"minorgridcolor\": \"white\", \"startlinecolor\": \"#2a3f5f\"}, \"type\": \"carpet\"}], \"choropleth\": [{\"colorbar\": {\"outlinewidth\": 0, \"ticks\": \"\"}, \"type\": \"choropleth\"}], \"contour\": [{\"colorbar\": {\"outlinewidth\": 0, \"ticks\": \"\"}, \"colorscale\": [[0.0, \"#0d0887\"], [0.1111111111111111, \"#46039f\"], [0.2222222222222222, \"#7201a8\"], [0.3333333333333333, \"#9c179e\"], [0.4444444444444444, \"#bd3786\"], [0.5555555555555556, \"#d8576b\"], [0.6666666666666666, \"#ed7953\"], [0.7777777777777778, \"#fb9f3a\"], [0.8888888888888888, \"#fdca26\"], [1.0, \"#f0f921\"]], \"type\": \"contour\"}], \"contourcarpet\": [{\"colorbar\": {\"outlinewidth\": 0, \"ticks\": \"\"}, \"type\": \"contourcarpet\"}], \"heatmap\": [{\"colorbar\": {\"outlinewidth\": 0, \"ticks\": \"\"}, \"colorscale\": [[0.0, \"#0d0887\"], [0.1111111111111111, \"#46039f\"], [0.2222222222222222, \"#7201a8\"], [0.3333333333333333, \"#9c179e\"], [0.4444444444444444, \"#bd3786\"], [0.5555555555555556, \"#d8576b\"], [0.6666666666666666, \"#ed7953\"], [0.7777777777777778, \"#fb9f3a\"], [0.8888888888888888, \"#fdca26\"], [1.0, \"#f0f921\"]], \"type\": \"heatmap\"}], \"heatmapgl\": [{\"colorbar\": {\"outlinewidth\": 0, \"ticks\": \"\"}, \"colorscale\": [[0.0, \"#0d0887\"], [0.1111111111111111, \"#46039f\"], [0.2222222222222222, \"#7201a8\"], [0.3333333333333333, \"#9c179e\"], [0.4444444444444444, \"#bd3786\"], [0.5555555555555556, \"#d8576b\"], [0.6666666666666666, \"#ed7953\"], [0.7777777777777778, \"#fb9f3a\"], [0.8888888888888888, \"#fdca26\"], [1.0, \"#f0f921\"]], \"type\": \"heatmapgl\"}], \"histogram\": [{\"marker\": {\"colorbar\": {\"outlinewidth\": 0, \"ticks\": \"\"}}, \"type\": \"histogram\"}], \"histogram2d\": [{\"colorbar\": {\"outlinewidth\": 0, \"ticks\": \"\"}, \"colorscale\": [[0.0, \"#0d0887\"], [0.1111111111111111, \"#46039f\"], [0.2222222222222222, \"#7201a8\"], [0.3333333333333333, \"#9c179e\"], [0.4444444444444444, \"#bd3786\"], [0.5555555555555556, \"#d8576b\"], [0.6666666666666666, \"#ed7953\"], [0.7777777777777778, \"#fb9f3a\"], [0.8888888888888888, \"#fdca26\"], [1.0, \"#f0f921\"]], \"type\": \"histogram2d\"}], \"histogram2dcontour\": [{\"colorbar\": {\"outlinewidth\": 0, \"ticks\": \"\"}, \"colorscale\": [[0.0, \"#0d0887\"], [0.1111111111111111, \"#46039f\"], [0.2222222222222222, \"#7201a8\"], [0.3333333333333333, \"#9c179e\"], [0.4444444444444444, \"#bd3786\"], [0.5555555555555556, \"#d8576b\"], [0.6666666666666666, \"#ed7953\"], [0.7777777777777778, \"#fb9f3a\"], [0.8888888888888888, \"#fdca26\"], [1.0, \"#f0f921\"]], \"type\": \"histogram2dcontour\"}], \"mesh3d\": [{\"colorbar\": {\"outlinewidth\": 0, \"ticks\": \"\"}, \"type\": \"mesh3d\"}], \"parcoords\": [{\"line\": {\"colorbar\": {\"outlinewidth\": 0, \"ticks\": \"\"}}, \"type\": \"parcoords\"}], \"pie\": [{\"automargin\": true, \"type\": \"pie\"}], \"scatter\": [{\"marker\": {\"colorbar\": {\"outlinewidth\": 0, \"ticks\": \"\"}}, \"type\": \"scatter\"}], \"scatter3d\": [{\"line\": {\"colorbar\": {\"outlinewidth\": 0, \"ticks\": \"\"}}, \"marker\": {\"colorbar\": {\"outlinewidth\": 0, \"ticks\": \"\"}}, \"type\": \"scatter3d\"}], \"scattercarpet\": [{\"marker\": {\"colorbar\": {\"outlinewidth\": 0, \"ticks\": \"\"}}, \"type\": \"scattercarpet\"}], \"scattergeo\": [{\"marker\": {\"colorbar\": {\"outlinewidth\": 0, \"ticks\": \"\"}}, \"type\": \"scattergeo\"}], \"scattergl\": [{\"marker\": {\"colorbar\": {\"outlinewidth\": 0, \"ticks\": \"\"}}, \"type\": \"scattergl\"}], \"scattermapbox\": [{\"marker\": {\"colorbar\": {\"outlinewidth\": 0, \"ticks\": \"\"}}, \"type\": \"scattermapbox\"}], \"scatterpolar\": [{\"marker\": {\"colorbar\": {\"outlinewidth\": 0, \"ticks\": \"\"}}, \"type\": \"scatterpolar\"}], \"scatterpolargl\": [{\"marker\": {\"colorbar\": {\"outlinewidth\": 0, \"ticks\": \"\"}}, \"type\": \"scatterpolargl\"}], \"scatterternary\": [{\"marker\": {\"colorbar\": {\"outlinewidth\": 0, \"ticks\": \"\"}}, \"type\": \"scatterternary\"}], \"surface\": [{\"colorbar\": {\"outlinewidth\": 0, \"ticks\": \"\"}, \"colorscale\": [[0.0, \"#0d0887\"], [0.1111111111111111, \"#46039f\"], [0.2222222222222222, \"#7201a8\"], [0.3333333333333333, \"#9c179e\"], [0.4444444444444444, \"#bd3786\"], [0.5555555555555556, \"#d8576b\"], [0.6666666666666666, \"#ed7953\"], [0.7777777777777778, \"#fb9f3a\"], [0.8888888888888888, \"#fdca26\"], [1.0, \"#f0f921\"]], \"type\": \"surface\"}], \"table\": [{\"cells\": {\"fill\": {\"color\": \"#EBF0F8\"}, \"line\": {\"color\": \"white\"}}, \"header\": {\"fill\": {\"color\": \"#C8D4E3\"}, \"line\": {\"color\": \"white\"}}, \"type\": \"table\"}]}, \"layout\": {\"annotationdefaults\": {\"arrowcolor\": \"#2a3f5f\", \"arrowhead\": 0, \"arrowwidth\": 1}, \"coloraxis\": {\"colorbar\": {\"outlinewidth\": 0, \"ticks\": \"\"}}, \"colorscale\": {\"diverging\": [[0, \"#8e0152\"], [0.1, \"#c51b7d\"], [0.2, \"#de77ae\"], [0.3, \"#f1b6da\"], [0.4, \"#fde0ef\"], [0.5, \"#f7f7f7\"], [0.6, \"#e6f5d0\"], [0.7, \"#b8e186\"], [0.8, \"#7fbc41\"], [0.9, \"#4d9221\"], [1, \"#276419\"]], \"sequential\": [[0.0, \"#0d0887\"], [0.1111111111111111, \"#46039f\"], [0.2222222222222222, \"#7201a8\"], [0.3333333333333333, \"#9c179e\"], [0.4444444444444444, \"#bd3786\"], [0.5555555555555556, \"#d8576b\"], [0.6666666666666666, \"#ed7953\"], [0.7777777777777778, \"#fb9f3a\"], [0.8888888888888888, \"#fdca26\"], [1.0, \"#f0f921\"]], \"sequentialminus\": [[0.0, \"#0d0887\"], [0.1111111111111111, \"#46039f\"], [0.2222222222222222, \"#7201a8\"], [0.3333333333333333, \"#9c179e\"], [0.4444444444444444, \"#bd3786\"], [0.5555555555555556, \"#d8576b\"], [0.6666666666666666, \"#ed7953\"], [0.7777777777777778, \"#fb9f3a\"], [0.8888888888888888, \"#fdca26\"], [1.0, \"#f0f921\"]]}, \"colorway\": [\"#636efa\", \"#EF553B\", \"#00cc96\", \"#ab63fa\", \"#FFA15A\", \"#19d3f3\", \"#FF6692\", \"#B6E880\", \"#FF97FF\", \"#FECB52\"], \"font\": {\"color\": \"#2a3f5f\"}, \"geo\": {\"bgcolor\": \"white\", \"lakecolor\": \"white\", \"landcolor\": \"#E5ECF6\", \"showlakes\": true, \"showland\": true, \"subunitcolor\": \"white\"}, \"hoverlabel\": {\"align\": \"left\"}, \"hovermode\": \"closest\", \"mapbox\": {\"style\": \"light\"}, \"paper_bgcolor\": \"white\", \"plot_bgcolor\": \"#E5ECF6\", \"polar\": {\"angularaxis\": {\"gridcolor\": \"white\", \"linecolor\": \"white\", \"ticks\": \"\"}, \"bgcolor\": \"#E5ECF6\", \"radialaxis\": {\"gridcolor\": \"white\", \"linecolor\": \"white\", \"ticks\": \"\"}}, \"scene\": {\"xaxis\": {\"backgroundcolor\": \"#E5ECF6\", \"gridcolor\": \"white\", \"gridwidth\": 2, \"linecolor\": \"white\", \"showbackground\": true, \"ticks\": \"\", \"zerolinecolor\": \"white\"}, \"yaxis\": {\"backgroundcolor\": \"#E5ECF6\", \"gridcolor\": \"white\", \"gridwidth\": 2, \"linecolor\": \"white\", \"showbackground\": true, \"ticks\": \"\", \"zerolinecolor\": \"white\"}, \"zaxis\": {\"backgroundcolor\": \"#E5ECF6\", \"gridcolor\": \"white\", \"gridwidth\": 2, \"linecolor\": \"white\", \"showbackground\": true, \"ticks\": \"\", \"zerolinecolor\": \"white\"}}, \"shapedefaults\": {\"line\": {\"color\": \"#2a3f5f\"}}, \"ternary\": {\"aaxis\": {\"gridcolor\": \"white\", \"linecolor\": \"white\", \"ticks\": \"\"}, \"baxis\": {\"gridcolor\": \"white\", \"linecolor\": \"white\", \"ticks\": \"\"}, \"bgcolor\": \"#E5ECF6\", \"caxis\": {\"gridcolor\": \"white\", \"linecolor\": \"white\", \"ticks\": \"\"}}, \"title\": {\"x\": 0.05}, \"xaxis\": {\"automargin\": true, \"gridcolor\": \"white\", \"linecolor\": \"white\", \"ticks\": \"\", \"title\": {\"standoff\": 15}, \"zerolinecolor\": \"white\", \"zerolinewidth\": 2}, \"yaxis\": {\"automargin\": true, \"gridcolor\": \"white\", \"linecolor\": \"white\", \"ticks\": \"\", \"title\": {\"standoff\": 15}, \"zerolinecolor\": \"white\", \"zerolinewidth\": 2}}}, \"title\": {\"text\": \"Count of 1 and 0 in binary variables\"}},\n",
       "                        {\"responsive\": true}\n",
       "                    ).then(function(){\n",
       "                            \n",
       "var gd = document.getElementById('29c7e585-b294-4061-b6fd-5b5bbce06bb7');\n",
       "var x = new MutationObserver(function (mutations, observer) {{\n",
       "        var display = window.getComputedStyle(gd).display;\n",
       "        if (!display || display === 'none') {{\n",
       "            console.log([gd, 'removed!']);\n",
       "            Plotly.purge(gd);\n",
       "            observer.disconnect();\n",
       "        }}\n",
       "}});\n",
       "\n",
       "// Listen for the removal of the full notebook cells\n",
       "var notebookContainer = gd.closest('#notebook-container');\n",
       "if (notebookContainer) {{\n",
       "    x.observe(notebookContainer, {childList: true});\n",
       "}}\n",
       "\n",
       "// Listen for the clearing of the current output cell\n",
       "var outputEl = gd.closest('.output');\n",
       "if (outputEl) {{\n",
       "    x.observe(outputEl, {childList: true});\n",
       "}}\n",
       "\n",
       "                        })\n",
       "                };\n",
       "                \n",
       "            </script>\n",
       "        </div>\n",
       "</body>\n",
       "</html>"
      ]
     },
     "metadata": {
      "tags": []
     },
     "output_type": "display_data"
    }
   ],
   "source": [
    "trace1 = go.Bar(\n",
    "    x = bin_col,\n",
    "    y = zero_list,\n",
    "    name = 'Zero count'\n",
    ")\n",
    "\n",
    "trace2 = go.Bar(\n",
    "    x = bin_col,\n",
    "    y = one_list,\n",
    "    name = 'One count'\n",
    ")\n",
    "\n",
    "data = [trace1, trace2]\n",
    "layout = go.Layout(\n",
    "    barmode = 'stack',\n",
    "    title = 'Count of 1 and 0 in binary variables'\n",
    ")\n",
    "\n",
    "fig = go.Figure(data = data, layout = layout)\n",
    "py.iplot(fig)"
   ]
  },
  {
   "cell_type": "markdown",
   "metadata": {
    "colab_type": "text",
    "id": "gEJlFL4lK_43"
   },
   "source": [
    "## RandomForest 변수 중요도 시각화"
   ]
  },
  {
   "cell_type": "code",
   "execution_count": 0,
   "metadata": {
    "colab": {},
    "colab_type": "code",
    "id": "b_LJbeUJK_8q"
   },
   "outputs": [],
   "source": [
    "from sklearn.ensemble import RandomForestClassifier\n",
    "rf = RandomForestClassifier(n_estimators = 150,\n",
    "                            max_depth = 8,\n",
    "                            min_samples_leaf = 4,\n",
    "                            max_features = 0.2,\n",
    "                            n_jobs = -1,\n",
    "                            random_state = 2020)\n",
    "rf.fit(train.drop(['id', 'target'], axis = 1), train.target)\n",
    "features = train.drop(['id', 'target'], axis = 1).columns.values"
   ]
  },
  {
   "cell_type": "code",
   "execution_count": 0,
   "metadata": {
    "colab": {
     "base_uri": "https://localhost:8080/",
     "height": 542
    },
    "colab_type": "code",
    "id": "gTIGZEXlLAAv",
    "outputId": "30a74725-6672-4cb2-ae2e-30a444e9577d"
   },
   "outputs": [
    {
     "data": {
      "application/vnd.plotly.v1+json": {
       "config": {
        "linkText": "Export to plot.ly",
        "plotlyServerURL": "https://plot.ly",
        "showLink": false
       },
       "data": [
        {
         "marker": {
          "color": [
           0.017159504336774743,
           0.01050612617639158,
           0.03910595247105439,
           0.02013532430714406,
           0.07475363780077161,
           0.022168542956807914,
           0.02260930133217644,
           0.005316643166832217,
           0.0037252437542597285,
           0.0003771211742941762,
           0.0006434308626447572,
           0.0014209185234379052,
           0.0005990583409965898,
           0.0020420759436220477,
           0.025185523306941206,
           0.016546709552128794,
           0.05353747719337157,
           0.0022003029310351794,
           0.017106185481456024,
           0.03842538929708131,
           0.0754442197384697,
           0.024774729157067937,
           0.00924886831384527,
           0.021884449089344424,
           0.027591860059777124,
           0.00678682652591341,
           0.014683033266584973,
           0.034752678458265344,
           0.004550285348929878,
           0.010527132243501875,
           0.0020651903418641027,
           0.014883470270734203,
           0.0062226186729125695,
           0.027998335942672797,
           0.12208504229063934,
           0.025871033752118543,
           0.01941934428546927,
           0.012101313830411034,
           0.011679433962919443,
           0.012105126901629085,
           0.007898370666425914,
           0.009730803787392245,
           0.009893683546373384,
           0.009841717407849655,
           0.01127990544630568,
           0.009440876238954657,
           0.017876433118587026,
           0.01632925306972372,
           0.00976047386393959,
           0.011811097384913875,
           0.01683727478657066,
           0.001327362749463818,
           0.0017711626563566552,
           0.002409987693896843,
           0.002540180214767703,
           0.0021098272696291943,
           0.0009021287365567835
          ],
          "colorscale": "Portland",
          "showscale": true,
          "size": 12,
          "sizemode": "diameter",
          "sizeref": 1
         },
         "mode": "markers",
         "text": [
          "ps_ind_01",
          "ps_ind_02_cat",
          "ps_ind_03",
          "ps_ind_04_cat",
          "ps_ind_05_cat",
          "ps_ind_06_bin",
          "ps_ind_07_bin",
          "ps_ind_08_bin",
          "ps_ind_09_bin",
          "ps_ind_10_bin",
          "ps_ind_11_bin",
          "ps_ind_12_bin",
          "ps_ind_13_bin",
          "ps_ind_14",
          "ps_ind_15",
          "ps_ind_16_bin",
          "ps_ind_17_bin",
          "ps_ind_18_bin",
          "ps_reg_01",
          "ps_reg_02",
          "ps_reg_03",
          "ps_car_01_cat",
          "ps_car_02_cat",
          "ps_car_03_cat",
          "ps_car_04_cat",
          "ps_car_05_cat",
          "ps_car_06_cat",
          "ps_car_07_cat",
          "ps_car_08_cat",
          "ps_car_09_cat",
          "ps_car_10_cat",
          "ps_car_11_cat",
          "ps_car_11",
          "ps_car_12",
          "ps_car_13",
          "ps_car_14",
          "ps_car_15",
          "ps_calc_01",
          "ps_calc_02",
          "ps_calc_03",
          "ps_calc_04",
          "ps_calc_05",
          "ps_calc_06",
          "ps_calc_07",
          "ps_calc_08",
          "ps_calc_09",
          "ps_calc_10",
          "ps_calc_11",
          "ps_calc_12",
          "ps_calc_13",
          "ps_calc_14",
          "ps_calc_15_bin",
          "ps_calc_16_bin",
          "ps_calc_17_bin",
          "ps_calc_18_bin",
          "ps_calc_19_bin",
          "ps_calc_20_bin"
         ],
         "type": "scatter",
         "uid": "25d69d1b-398e-4ac1-8319-676490ac6633",
         "x": [
          "ps_ind_01",
          "ps_ind_02_cat",
          "ps_ind_03",
          "ps_ind_04_cat",
          "ps_ind_05_cat",
          "ps_ind_06_bin",
          "ps_ind_07_bin",
          "ps_ind_08_bin",
          "ps_ind_09_bin",
          "ps_ind_10_bin",
          "ps_ind_11_bin",
          "ps_ind_12_bin",
          "ps_ind_13_bin",
          "ps_ind_14",
          "ps_ind_15",
          "ps_ind_16_bin",
          "ps_ind_17_bin",
          "ps_ind_18_bin",
          "ps_reg_01",
          "ps_reg_02",
          "ps_reg_03",
          "ps_car_01_cat",
          "ps_car_02_cat",
          "ps_car_03_cat",
          "ps_car_04_cat",
          "ps_car_05_cat",
          "ps_car_06_cat",
          "ps_car_07_cat",
          "ps_car_08_cat",
          "ps_car_09_cat",
          "ps_car_10_cat",
          "ps_car_11_cat",
          "ps_car_11",
          "ps_car_12",
          "ps_car_13",
          "ps_car_14",
          "ps_car_15",
          "ps_calc_01",
          "ps_calc_02",
          "ps_calc_03",
          "ps_calc_04",
          "ps_calc_05",
          "ps_calc_06",
          "ps_calc_07",
          "ps_calc_08",
          "ps_calc_09",
          "ps_calc_10",
          "ps_calc_11",
          "ps_calc_12",
          "ps_calc_13",
          "ps_calc_14",
          "ps_calc_15_bin",
          "ps_calc_16_bin",
          "ps_calc_17_bin",
          "ps_calc_18_bin",
          "ps_calc_19_bin",
          "ps_calc_20_bin"
         ],
         "y": [
          0.017159504336774743,
          0.01050612617639158,
          0.03910595247105439,
          0.02013532430714406,
          0.07475363780077161,
          0.022168542956807914,
          0.02260930133217644,
          0.005316643166832217,
          0.0037252437542597285,
          0.0003771211742941762,
          0.0006434308626447572,
          0.0014209185234379052,
          0.0005990583409965898,
          0.0020420759436220477,
          0.025185523306941206,
          0.016546709552128794,
          0.05353747719337157,
          0.0022003029310351794,
          0.017106185481456024,
          0.03842538929708131,
          0.0754442197384697,
          0.024774729157067937,
          0.00924886831384527,
          0.021884449089344424,
          0.027591860059777124,
          0.00678682652591341,
          0.014683033266584973,
          0.034752678458265344,
          0.004550285348929878,
          0.010527132243501875,
          0.0020651903418641027,
          0.014883470270734203,
          0.0062226186729125695,
          0.027998335942672797,
          0.12208504229063934,
          0.025871033752118543,
          0.01941934428546927,
          0.012101313830411034,
          0.011679433962919443,
          0.012105126901629085,
          0.007898370666425914,
          0.009730803787392245,
          0.009893683546373384,
          0.009841717407849655,
          0.01127990544630568,
          0.009440876238954657,
          0.017876433118587026,
          0.01632925306972372,
          0.00976047386393959,
          0.011811097384913875,
          0.01683727478657066,
          0.001327362749463818,
          0.0017711626563566552,
          0.002409987693896843,
          0.002540180214767703,
          0.0021098272696291943,
          0.0009021287365567835
         ]
        }
       ],
       "layout": {
        "autosize": true,
        "hovermode": "closest",
        "showlegend": false,
        "title": {
         "text": "Random Forest Feature Importance"
        },
        "xaxis": {
         "showgrid": false,
         "showline": false,
         "ticklen": 5,
         "zeroline": false
        },
        "yaxis": {
         "gridwidth": 2,
         "showgrid": false,
         "ticklen": 5,
         "title": {
          "text": "Feature Importance"
         },
         "zeroline": false
        }
       }
      },
      "text/html": [
       "<div>\n",
       "        \n",
       "        \n",
       "            <div id=\"e9e3daf0-3875-469f-b690-46409643314f\" class=\"plotly-graph-div\" style=\"height:525px; width:100%;\"></div>\n",
       "            <script type=\"text/javascript\">\n",
       "                require([\"plotly\"], function(Plotly) {\n",
       "                    window.PLOTLYENV=window.PLOTLYENV || {};\n",
       "                    window.PLOTLYENV.BASE_URL='https://plot.ly';\n",
       "                    \n",
       "                if (document.getElementById(\"e9e3daf0-3875-469f-b690-46409643314f\")) {\n",
       "                    Plotly.newPlot(\n",
       "                        'e9e3daf0-3875-469f-b690-46409643314f',\n",
       "                        [{\"marker\": {\"color\": [0.017159504336774743, 0.01050612617639158, 0.03910595247105439, 0.02013532430714406, 0.07475363780077161, 0.022168542956807914, 0.02260930133217644, 0.005316643166832217, 0.0037252437542597285, 0.0003771211742941762, 0.0006434308626447572, 0.0014209185234379052, 0.0005990583409965898, 0.0020420759436220477, 0.025185523306941206, 0.016546709552128794, 0.05353747719337157, 0.0022003029310351794, 0.017106185481456024, 0.03842538929708131, 0.0754442197384697, 0.024774729157067937, 0.00924886831384527, 0.021884449089344424, 0.027591860059777124, 0.00678682652591341, 0.014683033266584973, 0.034752678458265344, 0.004550285348929878, 0.010527132243501875, 0.0020651903418641027, 0.014883470270734203, 0.0062226186729125695, 0.027998335942672797, 0.12208504229063934, 0.025871033752118543, 0.01941934428546927, 0.012101313830411034, 0.011679433962919443, 0.012105126901629085, 0.007898370666425914, 0.009730803787392245, 0.009893683546373384, 0.009841717407849655, 0.01127990544630568, 0.009440876238954657, 0.017876433118587026, 0.01632925306972372, 0.00976047386393959, 0.011811097384913875, 0.01683727478657066, 0.001327362749463818, 0.0017711626563566552, 0.002409987693896843, 0.002540180214767703, 0.0021098272696291943, 0.0009021287365567835], \"colorscale\": \"Portland\", \"showscale\": true, \"size\": 12, \"sizemode\": \"diameter\", \"sizeref\": 1}, \"mode\": \"markers\", \"text\": [\"ps_ind_01\", \"ps_ind_02_cat\", \"ps_ind_03\", \"ps_ind_04_cat\", \"ps_ind_05_cat\", \"ps_ind_06_bin\", \"ps_ind_07_bin\", \"ps_ind_08_bin\", \"ps_ind_09_bin\", \"ps_ind_10_bin\", \"ps_ind_11_bin\", \"ps_ind_12_bin\", \"ps_ind_13_bin\", \"ps_ind_14\", \"ps_ind_15\", \"ps_ind_16_bin\", \"ps_ind_17_bin\", \"ps_ind_18_bin\", \"ps_reg_01\", \"ps_reg_02\", \"ps_reg_03\", \"ps_car_01_cat\", \"ps_car_02_cat\", \"ps_car_03_cat\", \"ps_car_04_cat\", \"ps_car_05_cat\", \"ps_car_06_cat\", \"ps_car_07_cat\", \"ps_car_08_cat\", \"ps_car_09_cat\", \"ps_car_10_cat\", \"ps_car_11_cat\", \"ps_car_11\", \"ps_car_12\", \"ps_car_13\", \"ps_car_14\", \"ps_car_15\", \"ps_calc_01\", \"ps_calc_02\", \"ps_calc_03\", \"ps_calc_04\", \"ps_calc_05\", \"ps_calc_06\", \"ps_calc_07\", \"ps_calc_08\", \"ps_calc_09\", \"ps_calc_10\", \"ps_calc_11\", \"ps_calc_12\", \"ps_calc_13\", \"ps_calc_14\", \"ps_calc_15_bin\", \"ps_calc_16_bin\", \"ps_calc_17_bin\", \"ps_calc_18_bin\", \"ps_calc_19_bin\", \"ps_calc_20_bin\"], \"type\": \"scatter\", \"uid\": \"25d69d1b-398e-4ac1-8319-676490ac6633\", \"x\": [\"ps_ind_01\", \"ps_ind_02_cat\", \"ps_ind_03\", \"ps_ind_04_cat\", \"ps_ind_05_cat\", \"ps_ind_06_bin\", \"ps_ind_07_bin\", \"ps_ind_08_bin\", \"ps_ind_09_bin\", \"ps_ind_10_bin\", \"ps_ind_11_bin\", \"ps_ind_12_bin\", \"ps_ind_13_bin\", \"ps_ind_14\", \"ps_ind_15\", \"ps_ind_16_bin\", \"ps_ind_17_bin\", \"ps_ind_18_bin\", \"ps_reg_01\", \"ps_reg_02\", \"ps_reg_03\", \"ps_car_01_cat\", \"ps_car_02_cat\", \"ps_car_03_cat\", \"ps_car_04_cat\", \"ps_car_05_cat\", \"ps_car_06_cat\", \"ps_car_07_cat\", \"ps_car_08_cat\", \"ps_car_09_cat\", \"ps_car_10_cat\", \"ps_car_11_cat\", \"ps_car_11\", \"ps_car_12\", \"ps_car_13\", \"ps_car_14\", \"ps_car_15\", \"ps_calc_01\", \"ps_calc_02\", \"ps_calc_03\", \"ps_calc_04\", \"ps_calc_05\", \"ps_calc_06\", \"ps_calc_07\", \"ps_calc_08\", \"ps_calc_09\", \"ps_calc_10\", \"ps_calc_11\", \"ps_calc_12\", \"ps_calc_13\", \"ps_calc_14\", \"ps_calc_15_bin\", \"ps_calc_16_bin\", \"ps_calc_17_bin\", \"ps_calc_18_bin\", \"ps_calc_19_bin\", \"ps_calc_20_bin\"], \"y\": [0.017159504336774743, 0.01050612617639158, 0.03910595247105439, 0.02013532430714406, 0.07475363780077161, 0.022168542956807914, 0.02260930133217644, 0.005316643166832217, 0.0037252437542597285, 0.0003771211742941762, 0.0006434308626447572, 0.0014209185234379052, 0.0005990583409965898, 0.0020420759436220477, 0.025185523306941206, 0.016546709552128794, 0.05353747719337157, 0.0022003029310351794, 0.017106185481456024, 0.03842538929708131, 0.0754442197384697, 0.024774729157067937, 0.00924886831384527, 0.021884449089344424, 0.027591860059777124, 0.00678682652591341, 0.014683033266584973, 0.034752678458265344, 0.004550285348929878, 0.010527132243501875, 0.0020651903418641027, 0.014883470270734203, 0.0062226186729125695, 0.027998335942672797, 0.12208504229063934, 0.025871033752118543, 0.01941934428546927, 0.012101313830411034, 0.011679433962919443, 0.012105126901629085, 0.007898370666425914, 0.009730803787392245, 0.009893683546373384, 0.009841717407849655, 0.01127990544630568, 0.009440876238954657, 0.017876433118587026, 0.01632925306972372, 0.00976047386393959, 0.011811097384913875, 0.01683727478657066, 0.001327362749463818, 0.0017711626563566552, 0.002409987693896843, 0.002540180214767703, 0.0021098272696291943, 0.0009021287365567835]}],\n",
       "                        {\"autosize\": true, \"hovermode\": \"closest\", \"showlegend\": false, \"title\": {\"text\": \"Random Forest Feature Importance\"}, \"xaxis\": {\"showgrid\": false, \"showline\": false, \"ticklen\": 5, \"zeroline\": false}, \"yaxis\": {\"gridwidth\": 2, \"showgrid\": false, \"ticklen\": 5, \"title\": {\"text\": \"Feature Importance\"}, \"zeroline\": false}},\n",
       "                        {\"showLink\": false, \"linkText\": \"Export to plot.ly\", \"plotlyServerURL\": \"https://plot.ly\", \"responsive\": true}\n",
       "                    ).then(function(){\n",
       "                            \n",
       "var gd = document.getElementById('e9e3daf0-3875-469f-b690-46409643314f');\n",
       "var x = new MutationObserver(function (mutations, observer) {{\n",
       "        var display = window.getComputedStyle(gd).display;\n",
       "        if (!display || display === 'none') {{\n",
       "            console.log([gd, 'removed!']);\n",
       "            Plotly.purge(gd);\n",
       "            observer.disconnect();\n",
       "        }}\n",
       "}});\n",
       "\n",
       "// Listen for the removal of the full notebook cells\n",
       "var notebookContainer = gd.closest('#notebook-container');\n",
       "if (notebookContainer) {{\n",
       "    x.observe(notebookContainer, {childList: true});\n",
       "}}\n",
       "\n",
       "// Listen for the clearing of the current output cell\n",
       "var outputEl = gd.closest('.output');\n",
       "if (outputEl) {{\n",
       "    x.observe(outputEl, {childList: true});\n",
       "}}\n",
       "\n",
       "                        })\n",
       "                };\n",
       "                });\n",
       "            </script>\n",
       "        </div>"
      ]
     },
     "metadata": {
      "tags": []
     },
     "output_type": "display_data"
    }
   ],
   "source": [
    "trace = go.Scatter(\n",
    "    y = rf.feature_importances_,\n",
    "    x = features,\n",
    "    mode = 'markers',\n",
    "    marker = dict(\n",
    "        sizemode = 'diameter',\n",
    "        sizeref = 1,\n",
    "        size = 12,\n",
    "        color = rf.feature_importances_,\n",
    "        colorscale = 'Portland',\n",
    "        showscale = True\n",
    "    ),\n",
    "    text = features\n",
    ")\n",
    "\n",
    "data = [trace]\n",
    "\n",
    "layout = go.Layout(\n",
    "    autosize = True,\n",
    "    title = 'Random Forest Feature Importance',\n",
    "    hovermode = 'closest',\n",
    "    xaxis = dict(\n",
    "        ticklen = 5,\n",
    "        showgrid = False,\n",
    "        zeroline = False,\n",
    "        showline = False\n",
    "    ),\n",
    "    yaxis = dict(\n",
    "        title = 'Feature Importance',\n",
    "        showgrid = False,\n",
    "        zeroline = False,\n",
    "        ticklen = 5,\n",
    "        gridwidth = 2\n",
    "    ),\n",
    "    showlegend  = False\n",
    ")\n",
    "fig = go.Figure(data = data, layout = layout)\n",
    "py.iplot(fig, filename = 'scatter')"
   ]
  },
  {
   "cell_type": "code",
   "execution_count": 0,
   "metadata": {
    "colab": {
     "base_uri": "https://localhost:8080/",
     "height": 1000
    },
    "colab_type": "code",
    "id": "idwBXkITO7nR",
    "outputId": "850d56b1-ea31-4be1-ca26-6a9632882f1f"
   },
   "outputs": [
    {
     "data": {
      "application/vnd.plotly.v1+json": {
       "config": {
        "linkText": "Export to plot.ly",
        "plotlyServerURL": "https://plot.ly",
        "showLink": false
       },
       "data": [
        {
         "marker": {
          "color": [
           0.0003771211742941762,
           0.0005990583409965898,
           0.0006434308626447572,
           0.0009021287365567835,
           0.001327362749463818,
           0.0014209185234379052,
           0.0017711626563566552,
           0.0020420759436220477,
           0.0020651903418641027,
           0.0021098272696291943,
           0.0022003029310351794,
           0.002409987693896843,
           0.002540180214767703,
           0.0037252437542597285,
           0.004550285348929878,
           0.005316643166832217,
           0.0062226186729125695,
           0.00678682652591341,
           0.007898370666425914,
           0.00924886831384527,
           0.009440876238954657,
           0.009730803787392245,
           0.00976047386393959,
           0.009841717407849655,
           0.009893683546373384,
           0.01050612617639158,
           0.010527132243501875,
           0.01127990544630568,
           0.011679433962919443,
           0.011811097384913875,
           0.012101313830411034,
           0.012105126901629085,
           0.014683033266584973,
           0.014883470270734203,
           0.01632925306972372,
           0.016546709552128794,
           0.01683727478657066,
           0.017106185481456024,
           0.017159504336774743,
           0.017876433118587026,
           0.01941934428546927,
           0.02013532430714406,
           0.021884449089344424,
           0.022168542956807914,
           0.02260930133217644,
           0.024774729157067937,
           0.025185523306941206,
           0.025871033752118543,
           0.027591860059777124,
           0.027998335942672797,
           0.034752678458265344,
           0.03842538929708131,
           0.03910595247105439,
           0.05353747719337157,
           0.07475363780077161,
           0.0754442197384697,
           0.12208504229063934
          ],
          "colorscale": "Viridis",
          "reversescale": true
         },
         "name": "Random Forest Feature importance",
         "orientation": "h",
         "type": "bar",
         "uid": "086fd980-7980-484c-bd6a-33d50a94d2c2",
         "x": [
          0.0003771211742941762,
          0.0005990583409965898,
          0.0006434308626447572,
          0.0009021287365567835,
          0.001327362749463818,
          0.0014209185234379052,
          0.0017711626563566552,
          0.0020420759436220477,
          0.0020651903418641027,
          0.0021098272696291943,
          0.0022003029310351794,
          0.002409987693896843,
          0.002540180214767703,
          0.0037252437542597285,
          0.004550285348929878,
          0.005316643166832217,
          0.0062226186729125695,
          0.00678682652591341,
          0.007898370666425914,
          0.00924886831384527,
          0.009440876238954657,
          0.009730803787392245,
          0.00976047386393959,
          0.009841717407849655,
          0.009893683546373384,
          0.01050612617639158,
          0.010527132243501875,
          0.01127990544630568,
          0.011679433962919443,
          0.011811097384913875,
          0.012101313830411034,
          0.012105126901629085,
          0.014683033266584973,
          0.014883470270734203,
          0.01632925306972372,
          0.016546709552128794,
          0.01683727478657066,
          0.017106185481456024,
          0.017159504336774743,
          0.017876433118587026,
          0.01941934428546927,
          0.02013532430714406,
          0.021884449089344424,
          0.022168542956807914,
          0.02260930133217644,
          0.024774729157067937,
          0.025185523306941206,
          0.025871033752118543,
          0.027591860059777124,
          0.027998335942672797,
          0.034752678458265344,
          0.03842538929708131,
          0.03910595247105439,
          0.05353747719337157,
          0.07475363780077161,
          0.0754442197384697,
          0.12208504229063934
         ],
         "y": [
          "ps_ind_10_bin",
          "ps_ind_13_bin",
          "ps_ind_11_bin",
          "ps_calc_20_bin",
          "ps_calc_15_bin",
          "ps_ind_12_bin",
          "ps_calc_16_bin",
          "ps_ind_14",
          "ps_car_10_cat",
          "ps_calc_19_bin",
          "ps_ind_18_bin",
          "ps_calc_17_bin",
          "ps_calc_18_bin",
          "ps_ind_09_bin",
          "ps_car_08_cat",
          "ps_ind_08_bin",
          "ps_car_11",
          "ps_car_05_cat",
          "ps_calc_04",
          "ps_car_02_cat",
          "ps_calc_09",
          "ps_calc_05",
          "ps_calc_12",
          "ps_calc_07",
          "ps_calc_06",
          "ps_ind_02_cat",
          "ps_car_09_cat",
          "ps_calc_08",
          "ps_calc_02",
          "ps_calc_13",
          "ps_calc_01",
          "ps_calc_03",
          "ps_car_06_cat",
          "ps_car_11_cat",
          "ps_calc_11",
          "ps_ind_16_bin",
          "ps_calc_14",
          "ps_reg_01",
          "ps_ind_01",
          "ps_calc_10",
          "ps_car_15",
          "ps_ind_04_cat",
          "ps_car_03_cat",
          "ps_ind_06_bin",
          "ps_ind_07_bin",
          "ps_car_01_cat",
          "ps_ind_15",
          "ps_car_14",
          "ps_car_04_cat",
          "ps_car_12",
          "ps_car_07_cat",
          "ps_reg_02",
          "ps_ind_03",
          "ps_ind_17_bin",
          "ps_ind_05_cat",
          "ps_reg_03",
          "ps_car_13"
         ]
        }
       ],
       "layout": {
        "height": 2000,
        "title": {
         "text": "Barplot of Feature importances"
        },
        "width": 900,
        "yaxis": {
         "showgrid": false,
         "showline": false,
         "showticklabels": true
        }
       }
      },
      "text/html": [
       "<div>\n",
       "        \n",
       "        \n",
       "            <div id=\"b43f183b-5d5d-4329-80e2-54d72d3629ef\" class=\"plotly-graph-div\" style=\"height:2000px; width:900px;\"></div>\n",
       "            <script type=\"text/javascript\">\n",
       "                require([\"plotly\"], function(Plotly) {\n",
       "                    window.PLOTLYENV=window.PLOTLYENV || {};\n",
       "                    window.PLOTLYENV.BASE_URL='https://plot.ly';\n",
       "                    \n",
       "                if (document.getElementById(\"b43f183b-5d5d-4329-80e2-54d72d3629ef\")) {\n",
       "                    Plotly.newPlot(\n",
       "                        'b43f183b-5d5d-4329-80e2-54d72d3629ef',\n",
       "                        [{\"marker\": {\"color\": [0.0003771211742941762, 0.0005990583409965898, 0.0006434308626447572, 0.0009021287365567835, 0.001327362749463818, 0.0014209185234379052, 0.0017711626563566552, 0.0020420759436220477, 0.0020651903418641027, 0.0021098272696291943, 0.0022003029310351794, 0.002409987693896843, 0.002540180214767703, 0.0037252437542597285, 0.004550285348929878, 0.005316643166832217, 0.0062226186729125695, 0.00678682652591341, 0.007898370666425914, 0.00924886831384527, 0.009440876238954657, 0.009730803787392245, 0.00976047386393959, 0.009841717407849655, 0.009893683546373384, 0.01050612617639158, 0.010527132243501875, 0.01127990544630568, 0.011679433962919443, 0.011811097384913875, 0.012101313830411034, 0.012105126901629085, 0.014683033266584973, 0.014883470270734203, 0.01632925306972372, 0.016546709552128794, 0.01683727478657066, 0.017106185481456024, 0.017159504336774743, 0.017876433118587026, 0.01941934428546927, 0.02013532430714406, 0.021884449089344424, 0.022168542956807914, 0.02260930133217644, 0.024774729157067937, 0.025185523306941206, 0.025871033752118543, 0.027591860059777124, 0.027998335942672797, 0.034752678458265344, 0.03842538929708131, 0.03910595247105439, 0.05353747719337157, 0.07475363780077161, 0.0754442197384697, 0.12208504229063934], \"colorscale\": \"Viridis\", \"reversescale\": true}, \"name\": \"Random Forest Feature importance\", \"orientation\": \"h\", \"type\": \"bar\", \"uid\": \"086fd980-7980-484c-bd6a-33d50a94d2c2\", \"x\": [0.0003771211742941762, 0.0005990583409965898, 0.0006434308626447572, 0.0009021287365567835, 0.001327362749463818, 0.0014209185234379052, 0.0017711626563566552, 0.0020420759436220477, 0.0020651903418641027, 0.0021098272696291943, 0.0022003029310351794, 0.002409987693896843, 0.002540180214767703, 0.0037252437542597285, 0.004550285348929878, 0.005316643166832217, 0.0062226186729125695, 0.00678682652591341, 0.007898370666425914, 0.00924886831384527, 0.009440876238954657, 0.009730803787392245, 0.00976047386393959, 0.009841717407849655, 0.009893683546373384, 0.01050612617639158, 0.010527132243501875, 0.01127990544630568, 0.011679433962919443, 0.011811097384913875, 0.012101313830411034, 0.012105126901629085, 0.014683033266584973, 0.014883470270734203, 0.01632925306972372, 0.016546709552128794, 0.01683727478657066, 0.017106185481456024, 0.017159504336774743, 0.017876433118587026, 0.01941934428546927, 0.02013532430714406, 0.021884449089344424, 0.022168542956807914, 0.02260930133217644, 0.024774729157067937, 0.025185523306941206, 0.025871033752118543, 0.027591860059777124, 0.027998335942672797, 0.034752678458265344, 0.03842538929708131, 0.03910595247105439, 0.05353747719337157, 0.07475363780077161, 0.0754442197384697, 0.12208504229063934], \"y\": [\"ps_ind_10_bin\", \"ps_ind_13_bin\", \"ps_ind_11_bin\", \"ps_calc_20_bin\", \"ps_calc_15_bin\", \"ps_ind_12_bin\", \"ps_calc_16_bin\", \"ps_ind_14\", \"ps_car_10_cat\", \"ps_calc_19_bin\", \"ps_ind_18_bin\", \"ps_calc_17_bin\", \"ps_calc_18_bin\", \"ps_ind_09_bin\", \"ps_car_08_cat\", \"ps_ind_08_bin\", \"ps_car_11\", \"ps_car_05_cat\", \"ps_calc_04\", \"ps_car_02_cat\", \"ps_calc_09\", \"ps_calc_05\", \"ps_calc_12\", \"ps_calc_07\", \"ps_calc_06\", \"ps_ind_02_cat\", \"ps_car_09_cat\", \"ps_calc_08\", \"ps_calc_02\", \"ps_calc_13\", \"ps_calc_01\", \"ps_calc_03\", \"ps_car_06_cat\", \"ps_car_11_cat\", \"ps_calc_11\", \"ps_ind_16_bin\", \"ps_calc_14\", \"ps_reg_01\", \"ps_ind_01\", \"ps_calc_10\", \"ps_car_15\", \"ps_ind_04_cat\", \"ps_car_03_cat\", \"ps_ind_06_bin\", \"ps_ind_07_bin\", \"ps_car_01_cat\", \"ps_ind_15\", \"ps_car_14\", \"ps_car_04_cat\", \"ps_car_12\", \"ps_car_07_cat\", \"ps_reg_02\", \"ps_ind_03\", \"ps_ind_17_bin\", \"ps_ind_05_cat\", \"ps_reg_03\", \"ps_car_13\"]}],\n",
       "                        {\"height\": 2000, \"title\": {\"text\": \"Barplot of Feature importances\"}, \"width\": 900, \"yaxis\": {\"showgrid\": false, \"showline\": false, \"showticklabels\": true}},\n",
       "                        {\"showLink\": false, \"linkText\": \"Export to plot.ly\", \"plotlyServerURL\": \"https://plot.ly\", \"responsive\": true}\n",
       "                    ).then(function(){\n",
       "                            \n",
       "var gd = document.getElementById('b43f183b-5d5d-4329-80e2-54d72d3629ef');\n",
       "var x = new MutationObserver(function (mutations, observer) {{\n",
       "        var display = window.getComputedStyle(gd).display;\n",
       "        if (!display || display === 'none') {{\n",
       "            console.log([gd, 'removed!']);\n",
       "            Plotly.purge(gd);\n",
       "            observer.disconnect();\n",
       "        }}\n",
       "}});\n",
       "\n",
       "// Listen for the removal of the full notebook cells\n",
       "var notebookContainer = gd.closest('#notebook-container');\n",
       "if (notebookContainer) {{\n",
       "    x.observe(notebookContainer, {childList: true});\n",
       "}}\n",
       "\n",
       "// Listen for the clearing of the current output cell\n",
       "var outputEl = gd.closest('.output');\n",
       "if (outputEl) {{\n",
       "    x.observe(outputEl, {childList: true});\n",
       "}}\n",
       "\n",
       "                        })\n",
       "                };\n",
       "                });\n",
       "            </script>\n",
       "        </div>"
      ]
     },
     "metadata": {
      "tags": []
     },
     "output_type": "display_data"
    }
   ],
   "source": [
    "x, y = (list(x) for x in zip(*sorted(zip(rf.feature_importances_, features), \n",
    "                                                            reverse = False)))\n",
    "trace2 = go.Bar(\n",
    "    x = x ,\n",
    "    y = y,\n",
    "    marker = dict(\n",
    "        color = x,\n",
    "        colorscale = 'Viridis',\n",
    "        reversescale = True\n",
    "    ),\n",
    "    name = 'Random Forest Feature importance',\n",
    "    orientation = 'h',\n",
    ")\n",
    "\n",
    "layout = dict(\n",
    "    title = 'Barplot of Feature importances',\n",
    "     width = 900, height = 2000,\n",
    "    yaxis = dict(\n",
    "        showgrid = False,\n",
    "        showline = False,\n",
    "        showticklabels = True,\n",
    "    ))\n",
    "\n",
    "fig1 = go.Figure(data = [trace2])\n",
    "fig1['layout'].update(layout)\n",
    "py.iplot(fig1, filename = 'plots')"
   ]
  },
  {
   "cell_type": "markdown",
   "metadata": {
    "colab_type": "text",
    "id": "U7v8eR5oO8Gk"
   },
   "source": [
    "##  Gradient Boosting 변수 중요도 시각화"
   ]
  },
  {
   "cell_type": "code",
   "execution_count": 0,
   "metadata": {
    "colab": {
     "base_uri": "https://localhost:8080/",
     "height": 35
    },
    "colab_type": "code",
    "id": "P25jfnHKO8LV",
    "outputId": "f930f3d9-94be-44c5-8427-21f383166ba4"
   },
   "outputs": [
    {
     "name": "stdout",
     "output_type": "stream",
     "text": [
      "---------- Training Done ----------\n"
     ]
    }
   ],
   "source": [
    "from sklearn.ensemble import GradientBoostingClassifier\n",
    "gb = GradientBoostingClassifier(n_estimators = 100,\n",
    "                                max_depth = 3,\n",
    "                                min_samples_leaf = 4,\n",
    "                                max_features = 0.2,\n",
    "                                random_state = 0)\n",
    "gb.fit(train.drop(['id', 'target'], axis = 1), train.target)\n",
    "features = train.drop(['id', 'target'], axis = 1).columns.values\n",
    "print('-'*10, 'Training Done', '-'*10)"
   ]
  },
  {
   "cell_type": "code",
   "execution_count": 0,
   "metadata": {
    "colab": {
     "base_uri": "https://localhost:8080/",
     "height": 542
    },
    "colab_type": "code",
    "id": "9Vrwmmb_O8Pq",
    "outputId": "f4b7d712-629a-451a-bd7f-9e9ae811f3d5"
   },
   "outputs": [
    {
     "data": {
      "application/vnd.plotly.v1+json": {
       "config": {
        "linkText": "Export to plot.ly",
        "plotlyServerURL": "https://plot.ly",
        "showLink": false
       },
       "data": [
        {
         "marker": {
          "color": [
           0.01894279918960461,
           0.011492630888710182,
           0.08412006020498115,
           0.028183264410048744,
           0.10950125606014172,
           0.030900863764429715,
           0.04377810614914294,
           0.009773282279229367,
           0.0037264924576667197,
           0,
           0.00032351772784093265,
           0.00041581970975067533,
           0,
           0.0019647053727450048,
           0.03467434439040906,
           0.014794297805268869,
           0.09752492931048397,
           0.0014496142446107554,
           0.015437541163802188,
           0.024372416487498567,
           0.08109077353023528,
           0.026540310993256752,
           0.00858425816649004,
           0.04030089230868374,
           0.04179531303779021,
           0.0008965365536628078,
           0.006565322421534899,
           0.0620217141376079,
           0.0012708234367704698,
           0.00417405783517464,
           0,
           0.004576751073967919,
           0.005278045276584379,
           0.012609145089406448,
           0.1347874136083256,
           0.009483929671325803,
           0.01537420156222883,
           0.0002860484011785048,
           0.00044605935173371215,
           0.000714819549439029,
           0.0001653761151114524,
           0.0017603955775890385,
           0.0017492380389002723,
           0.0015385042871266634,
           0.0007187894334226878,
           0.00016165347845459183,
           0.0007278950114796042,
           0.0011498608496374573,
           0.0014995491165588405,
           0.0006197188694977842,
           0.00019130097873161148,
           0.00016203483183266953,
           0.0003523577305934863,
           0,
           0.0007963520664282294,
           0.0002346159928734135,
           0
          ],
          "colorscale": "Portland",
          "showscale": true,
          "size": 13,
          "sizemode": "diameter",
          "sizeref": 1
         },
         "mode": "markers",
         "text": [
          "ps_ind_01",
          "ps_ind_02_cat",
          "ps_ind_03",
          "ps_ind_04_cat",
          "ps_ind_05_cat",
          "ps_ind_06_bin",
          "ps_ind_07_bin",
          "ps_ind_08_bin",
          "ps_ind_09_bin",
          "ps_ind_10_bin",
          "ps_ind_11_bin",
          "ps_ind_12_bin",
          "ps_ind_13_bin",
          "ps_ind_14",
          "ps_ind_15",
          "ps_ind_16_bin",
          "ps_ind_17_bin",
          "ps_ind_18_bin",
          "ps_reg_01",
          "ps_reg_02",
          "ps_reg_03",
          "ps_car_01_cat",
          "ps_car_02_cat",
          "ps_car_03_cat",
          "ps_car_04_cat",
          "ps_car_05_cat",
          "ps_car_06_cat",
          "ps_car_07_cat",
          "ps_car_08_cat",
          "ps_car_09_cat",
          "ps_car_10_cat",
          "ps_car_11_cat",
          "ps_car_11",
          "ps_car_12",
          "ps_car_13",
          "ps_car_14",
          "ps_car_15",
          "ps_calc_01",
          "ps_calc_02",
          "ps_calc_03",
          "ps_calc_04",
          "ps_calc_05",
          "ps_calc_06",
          "ps_calc_07",
          "ps_calc_08",
          "ps_calc_09",
          "ps_calc_10",
          "ps_calc_11",
          "ps_calc_12",
          "ps_calc_13",
          "ps_calc_14",
          "ps_calc_15_bin",
          "ps_calc_16_bin",
          "ps_calc_17_bin",
          "ps_calc_18_bin",
          "ps_calc_19_bin",
          "ps_calc_20_bin"
         ],
         "type": "scatter",
         "uid": "c0232782-b311-4031-b23d-06d9c9f9a380",
         "x": [
          "ps_ind_01",
          "ps_ind_02_cat",
          "ps_ind_03",
          "ps_ind_04_cat",
          "ps_ind_05_cat",
          "ps_ind_06_bin",
          "ps_ind_07_bin",
          "ps_ind_08_bin",
          "ps_ind_09_bin",
          "ps_ind_10_bin",
          "ps_ind_11_bin",
          "ps_ind_12_bin",
          "ps_ind_13_bin",
          "ps_ind_14",
          "ps_ind_15",
          "ps_ind_16_bin",
          "ps_ind_17_bin",
          "ps_ind_18_bin",
          "ps_reg_01",
          "ps_reg_02",
          "ps_reg_03",
          "ps_car_01_cat",
          "ps_car_02_cat",
          "ps_car_03_cat",
          "ps_car_04_cat",
          "ps_car_05_cat",
          "ps_car_06_cat",
          "ps_car_07_cat",
          "ps_car_08_cat",
          "ps_car_09_cat",
          "ps_car_10_cat",
          "ps_car_11_cat",
          "ps_car_11",
          "ps_car_12",
          "ps_car_13",
          "ps_car_14",
          "ps_car_15",
          "ps_calc_01",
          "ps_calc_02",
          "ps_calc_03",
          "ps_calc_04",
          "ps_calc_05",
          "ps_calc_06",
          "ps_calc_07",
          "ps_calc_08",
          "ps_calc_09",
          "ps_calc_10",
          "ps_calc_11",
          "ps_calc_12",
          "ps_calc_13",
          "ps_calc_14",
          "ps_calc_15_bin",
          "ps_calc_16_bin",
          "ps_calc_17_bin",
          "ps_calc_18_bin",
          "ps_calc_19_bin",
          "ps_calc_20_bin"
         ],
         "y": [
          0.01894279918960461,
          0.011492630888710182,
          0.08412006020498115,
          0.028183264410048744,
          0.10950125606014172,
          0.030900863764429715,
          0.04377810614914294,
          0.009773282279229367,
          0.0037264924576667197,
          0,
          0.00032351772784093265,
          0.00041581970975067533,
          0,
          0.0019647053727450048,
          0.03467434439040906,
          0.014794297805268869,
          0.09752492931048397,
          0.0014496142446107554,
          0.015437541163802188,
          0.024372416487498567,
          0.08109077353023528,
          0.026540310993256752,
          0.00858425816649004,
          0.04030089230868374,
          0.04179531303779021,
          0.0008965365536628078,
          0.006565322421534899,
          0.0620217141376079,
          0.0012708234367704698,
          0.00417405783517464,
          0,
          0.004576751073967919,
          0.005278045276584379,
          0.012609145089406448,
          0.1347874136083256,
          0.009483929671325803,
          0.01537420156222883,
          0.0002860484011785048,
          0.00044605935173371215,
          0.000714819549439029,
          0.0001653761151114524,
          0.0017603955775890385,
          0.0017492380389002723,
          0.0015385042871266634,
          0.0007187894334226878,
          0.00016165347845459183,
          0.0007278950114796042,
          0.0011498608496374573,
          0.0014995491165588405,
          0.0006197188694977842,
          0.00019130097873161148,
          0.00016203483183266953,
          0.0003523577305934863,
          0,
          0.0007963520664282294,
          0.0002346159928734135,
          0
         ]
        }
       ],
       "layout": {
        "autosize": true,
        "hovermode": "closest",
        "showlegend": false,
        "title": {
         "text": "Gradient Boosting Machine Feature Importance"
        },
        "xaxis": {
         "showgrid": false,
         "showline": false,
         "ticklen": 5,
         "zeroline": false
        },
        "yaxis": {
         "gridwidth": 2,
         "showgrid": false,
         "ticklen": 5,
         "title": {
          "text": "Feature Importance"
         },
         "zeroline": false
        }
       }
      },
      "text/html": [
       "<div>\n",
       "        \n",
       "        \n",
       "            <div id=\"b14ca1ec-8ea1-4229-984f-0e560b9e73cf\" class=\"plotly-graph-div\" style=\"height:525px; width:100%;\"></div>\n",
       "            <script type=\"text/javascript\">\n",
       "                require([\"plotly\"], function(Plotly) {\n",
       "                    window.PLOTLYENV=window.PLOTLYENV || {};\n",
       "                    window.PLOTLYENV.BASE_URL='https://plot.ly';\n",
       "                    \n",
       "                if (document.getElementById(\"b14ca1ec-8ea1-4229-984f-0e560b9e73cf\")) {\n",
       "                    Plotly.newPlot(\n",
       "                        'b14ca1ec-8ea1-4229-984f-0e560b9e73cf',\n",
       "                        [{\"marker\": {\"color\": [0.01894279918960461, 0.011492630888710182, 0.08412006020498115, 0.028183264410048744, 0.10950125606014172, 0.030900863764429715, 0.04377810614914294, 0.009773282279229367, 0.0037264924576667197, 0.0, 0.00032351772784093265, 0.00041581970975067533, 0.0, 0.0019647053727450048, 0.03467434439040906, 0.014794297805268869, 0.09752492931048397, 0.0014496142446107554, 0.015437541163802188, 0.024372416487498567, 0.08109077353023528, 0.026540310993256752, 0.00858425816649004, 0.04030089230868374, 0.04179531303779021, 0.0008965365536628078, 0.006565322421534899, 0.0620217141376079, 0.0012708234367704698, 0.00417405783517464, 0.0, 0.004576751073967919, 0.005278045276584379, 0.012609145089406448, 0.1347874136083256, 0.009483929671325803, 0.01537420156222883, 0.0002860484011785048, 0.00044605935173371215, 0.000714819549439029, 0.0001653761151114524, 0.0017603955775890385, 0.0017492380389002723, 0.0015385042871266634, 0.0007187894334226878, 0.00016165347845459183, 0.0007278950114796042, 0.0011498608496374573, 0.0014995491165588405, 0.0006197188694977842, 0.00019130097873161148, 0.00016203483183266953, 0.0003523577305934863, 0.0, 0.0007963520664282294, 0.0002346159928734135, 0.0], \"colorscale\": \"Portland\", \"showscale\": true, \"size\": 13, \"sizemode\": \"diameter\", \"sizeref\": 1}, \"mode\": \"markers\", \"text\": [\"ps_ind_01\", \"ps_ind_02_cat\", \"ps_ind_03\", \"ps_ind_04_cat\", \"ps_ind_05_cat\", \"ps_ind_06_bin\", \"ps_ind_07_bin\", \"ps_ind_08_bin\", \"ps_ind_09_bin\", \"ps_ind_10_bin\", \"ps_ind_11_bin\", \"ps_ind_12_bin\", \"ps_ind_13_bin\", \"ps_ind_14\", \"ps_ind_15\", \"ps_ind_16_bin\", \"ps_ind_17_bin\", \"ps_ind_18_bin\", \"ps_reg_01\", \"ps_reg_02\", \"ps_reg_03\", \"ps_car_01_cat\", \"ps_car_02_cat\", \"ps_car_03_cat\", \"ps_car_04_cat\", \"ps_car_05_cat\", \"ps_car_06_cat\", \"ps_car_07_cat\", \"ps_car_08_cat\", \"ps_car_09_cat\", \"ps_car_10_cat\", \"ps_car_11_cat\", \"ps_car_11\", \"ps_car_12\", \"ps_car_13\", \"ps_car_14\", \"ps_car_15\", \"ps_calc_01\", \"ps_calc_02\", \"ps_calc_03\", \"ps_calc_04\", \"ps_calc_05\", \"ps_calc_06\", \"ps_calc_07\", \"ps_calc_08\", \"ps_calc_09\", \"ps_calc_10\", \"ps_calc_11\", \"ps_calc_12\", \"ps_calc_13\", \"ps_calc_14\", \"ps_calc_15_bin\", \"ps_calc_16_bin\", \"ps_calc_17_bin\", \"ps_calc_18_bin\", \"ps_calc_19_bin\", \"ps_calc_20_bin\"], \"type\": \"scatter\", \"uid\": \"c0232782-b311-4031-b23d-06d9c9f9a380\", \"x\": [\"ps_ind_01\", \"ps_ind_02_cat\", \"ps_ind_03\", \"ps_ind_04_cat\", \"ps_ind_05_cat\", \"ps_ind_06_bin\", \"ps_ind_07_bin\", \"ps_ind_08_bin\", \"ps_ind_09_bin\", \"ps_ind_10_bin\", \"ps_ind_11_bin\", \"ps_ind_12_bin\", \"ps_ind_13_bin\", \"ps_ind_14\", \"ps_ind_15\", \"ps_ind_16_bin\", \"ps_ind_17_bin\", \"ps_ind_18_bin\", \"ps_reg_01\", \"ps_reg_02\", \"ps_reg_03\", \"ps_car_01_cat\", \"ps_car_02_cat\", \"ps_car_03_cat\", \"ps_car_04_cat\", \"ps_car_05_cat\", \"ps_car_06_cat\", \"ps_car_07_cat\", \"ps_car_08_cat\", \"ps_car_09_cat\", \"ps_car_10_cat\", \"ps_car_11_cat\", \"ps_car_11\", \"ps_car_12\", \"ps_car_13\", \"ps_car_14\", \"ps_car_15\", \"ps_calc_01\", \"ps_calc_02\", \"ps_calc_03\", \"ps_calc_04\", \"ps_calc_05\", \"ps_calc_06\", \"ps_calc_07\", \"ps_calc_08\", \"ps_calc_09\", \"ps_calc_10\", \"ps_calc_11\", \"ps_calc_12\", \"ps_calc_13\", \"ps_calc_14\", \"ps_calc_15_bin\", \"ps_calc_16_bin\", \"ps_calc_17_bin\", \"ps_calc_18_bin\", \"ps_calc_19_bin\", \"ps_calc_20_bin\"], \"y\": [0.01894279918960461, 0.011492630888710182, 0.08412006020498115, 0.028183264410048744, 0.10950125606014172, 0.030900863764429715, 0.04377810614914294, 0.009773282279229367, 0.0037264924576667197, 0.0, 0.00032351772784093265, 0.00041581970975067533, 0.0, 0.0019647053727450048, 0.03467434439040906, 0.014794297805268869, 0.09752492931048397, 0.0014496142446107554, 0.015437541163802188, 0.024372416487498567, 0.08109077353023528, 0.026540310993256752, 0.00858425816649004, 0.04030089230868374, 0.04179531303779021, 0.0008965365536628078, 0.006565322421534899, 0.0620217141376079, 0.0012708234367704698, 0.00417405783517464, 0.0, 0.004576751073967919, 0.005278045276584379, 0.012609145089406448, 0.1347874136083256, 0.009483929671325803, 0.01537420156222883, 0.0002860484011785048, 0.00044605935173371215, 0.000714819549439029, 0.0001653761151114524, 0.0017603955775890385, 0.0017492380389002723, 0.0015385042871266634, 0.0007187894334226878, 0.00016165347845459183, 0.0007278950114796042, 0.0011498608496374573, 0.0014995491165588405, 0.0006197188694977842, 0.00019130097873161148, 0.00016203483183266953, 0.0003523577305934863, 0.0, 0.0007963520664282294, 0.0002346159928734135, 0.0]}],\n",
       "                        {\"autosize\": true, \"hovermode\": \"closest\", \"showlegend\": false, \"title\": {\"text\": \"Gradient Boosting Machine Feature Importance\"}, \"xaxis\": {\"showgrid\": false, \"showline\": false, \"ticklen\": 5, \"zeroline\": false}, \"yaxis\": {\"gridwidth\": 2, \"showgrid\": false, \"ticklen\": 5, \"title\": {\"text\": \"Feature Importance\"}, \"zeroline\": false}},\n",
       "                        {\"showLink\": false, \"linkText\": \"Export to plot.ly\", \"plotlyServerURL\": \"https://plot.ly\", \"responsive\": true}\n",
       "                    ).then(function(){\n",
       "                            \n",
       "var gd = document.getElementById('b14ca1ec-8ea1-4229-984f-0e560b9e73cf');\n",
       "var x = new MutationObserver(function (mutations, observer) {{\n",
       "        var display = window.getComputedStyle(gd).display;\n",
       "        if (!display || display === 'none') {{\n",
       "            console.log([gd, 'removed!']);\n",
       "            Plotly.purge(gd);\n",
       "            observer.disconnect();\n",
       "        }}\n",
       "}});\n",
       "\n",
       "// Listen for the removal of the full notebook cells\n",
       "var notebookContainer = gd.closest('#notebook-container');\n",
       "if (notebookContainer) {{\n",
       "    x.observe(notebookContainer, {childList: true});\n",
       "}}\n",
       "\n",
       "// Listen for the clearing of the current output cell\n",
       "var outputEl = gd.closest('.output');\n",
       "if (outputEl) {{\n",
       "    x.observe(outputEl, {childList: true});\n",
       "}}\n",
       "\n",
       "                        })\n",
       "                };\n",
       "                });\n",
       "            </script>\n",
       "        </div>"
      ]
     },
     "metadata": {
      "tags": []
     },
     "output_type": "display_data"
    }
   ],
   "source": [
    "trace = go.Scatter(\n",
    "    y = gb.feature_importances_,\n",
    "    x = features,\n",
    "    mode = 'markers',\n",
    "    marker = dict(\n",
    "        sizemode = 'diameter',\n",
    "        sizeref = 1,\n",
    "        size = 13,\n",
    "        size = rf.feature_importances_,\n",
    "        color = gb.feature_importances_,\n",
    "        colorscale = 'Portland',\n",
    "        showscale = True\n",
    "    ),\n",
    "    text = features\n",
    ")\n",
    "data = [trace]\n",
    "\n",
    "layout = go.Layout(\n",
    "    autosize = True,\n",
    "    title = 'Gradient Boosting Machine Feature Importance',\n",
    "    hovermode = 'closest',\n",
    "     xaxis =  dict(\n",
    "         ticklen =  5,\n",
    "         showgrid = False,\n",
    "        zeroline = False,\n",
    "        showline = False\n",
    "     ),\n",
    "    yaxis = dict(\n",
    "        title = 'Feature Importance',\n",
    "        showgrid = False,\n",
    "        zeroline = False,\n",
    "        ticklen =  5,\n",
    "        gridwidth =  2\n",
    "    ),\n",
    "    showlegend = False\n",
    ")\n",
    "fig = go.Figure(data = data, layout = layout)\n",
    "py.iplot(fig,filename = 'scatter2010')"
   ]
  },
  {
   "cell_type": "code",
   "execution_count": 0,
   "metadata": {
    "colab": {
     "base_uri": "https://localhost:8080/",
     "height": 1000
    },
    "colab_type": "code",
    "collapsed": true,
    "id": "GuUaTrGgO8TX",
    "outputId": "b52835e0-7317-4762-9db4-bc7023c68395"
   },
   "outputs": [
    {
     "data": {
      "application/vnd.plotly.v1+json": {
       "config": {
        "linkText": "Export to plot.ly",
        "plotlyServerURL": "https://plot.ly",
        "showLink": false
       },
       "data": [
        {
         "marker": {
          "color": [
           0,
           0,
           0,
           0,
           0,
           0.00016165347845459183,
           0.00016203483183266953,
           0.0001653761151114524,
           0.00019130097873161148,
           0.0002346159928734135,
           0.0002860484011785048,
           0.00032351772784093265,
           0.0003523577305934863,
           0.00041581970975067533,
           0.00044605935173371215,
           0.0006197188694977842,
           0.000714819549439029,
           0.0007187894334226878,
           0.0007278950114796042,
           0.0007963520664282294,
           0.0008965365536628078,
           0.0011498608496374573,
           0.0012708234367704698,
           0.0014496142446107554,
           0.0014995491165588405,
           0.0015385042871266634,
           0.0017492380389002723,
           0.0017603955775890385,
           0.0019647053727450048,
           0.0037264924576667197,
           0.00417405783517464,
           0.004576751073967919,
           0.005278045276584379,
           0.006565322421534899,
           0.00858425816649004,
           0.009483929671325803,
           0.009773282279229367,
           0.011492630888710182,
           0.012609145089406448,
           0.014794297805268869,
           0.01537420156222883,
           0.015437541163802188,
           0.01894279918960461,
           0.024372416487498567,
           0.026540310993256752,
           0.028183264410048744,
           0.030900863764429715,
           0.03467434439040906,
           0.04030089230868374,
           0.04179531303779021,
           0.04377810614914294,
           0.0620217141376079,
           0.08109077353023528,
           0.08412006020498115,
           0.09752492931048397,
           0.10950125606014172,
           0.1347874136083256
          ],
          "colorscale": "Viridis",
          "reversescale": true
         },
         "name": "Gradient Boosting Classifer Feature importance",
         "orientation": "h",
         "type": "bar",
         "uid": "347c8ab3-481d-4c6f-8f50-b9cce92ef3a6",
         "x": [
          0,
          0,
          0,
          0,
          0,
          0.00016165347845459183,
          0.00016203483183266953,
          0.0001653761151114524,
          0.00019130097873161148,
          0.0002346159928734135,
          0.0002860484011785048,
          0.00032351772784093265,
          0.0003523577305934863,
          0.00041581970975067533,
          0.00044605935173371215,
          0.0006197188694977842,
          0.000714819549439029,
          0.0007187894334226878,
          0.0007278950114796042,
          0.0007963520664282294,
          0.0008965365536628078,
          0.0011498608496374573,
          0.0012708234367704698,
          0.0014496142446107554,
          0.0014995491165588405,
          0.0015385042871266634,
          0.0017492380389002723,
          0.0017603955775890385,
          0.0019647053727450048,
          0.0037264924576667197,
          0.00417405783517464,
          0.004576751073967919,
          0.005278045276584379,
          0.006565322421534899,
          0.00858425816649004,
          0.009483929671325803,
          0.009773282279229367,
          0.011492630888710182,
          0.012609145089406448,
          0.014794297805268869,
          0.01537420156222883,
          0.015437541163802188,
          0.01894279918960461,
          0.024372416487498567,
          0.026540310993256752,
          0.028183264410048744,
          0.030900863764429715,
          0.03467434439040906,
          0.04030089230868374,
          0.04179531303779021,
          0.04377810614914294,
          0.0620217141376079,
          0.08109077353023528,
          0.08412006020498115,
          0.09752492931048397,
          0.10950125606014172,
          0.1347874136083256
         ],
         "y": [
          "ps_calc_17_bin",
          "ps_calc_20_bin",
          "ps_car_10_cat",
          "ps_ind_10_bin",
          "ps_ind_13_bin",
          "ps_calc_09",
          "ps_calc_15_bin",
          "ps_calc_04",
          "ps_calc_14",
          "ps_calc_19_bin",
          "ps_calc_01",
          "ps_ind_11_bin",
          "ps_calc_16_bin",
          "ps_ind_12_bin",
          "ps_calc_02",
          "ps_calc_13",
          "ps_calc_03",
          "ps_calc_08",
          "ps_calc_10",
          "ps_calc_18_bin",
          "ps_car_05_cat",
          "ps_calc_11",
          "ps_car_08_cat",
          "ps_ind_18_bin",
          "ps_calc_12",
          "ps_calc_07",
          "ps_calc_06",
          "ps_calc_05",
          "ps_ind_14",
          "ps_ind_09_bin",
          "ps_car_09_cat",
          "ps_car_11_cat",
          "ps_car_11",
          "ps_car_06_cat",
          "ps_car_02_cat",
          "ps_car_14",
          "ps_ind_08_bin",
          "ps_ind_02_cat",
          "ps_car_12",
          "ps_ind_16_bin",
          "ps_car_15",
          "ps_reg_01",
          "ps_ind_01",
          "ps_reg_02",
          "ps_car_01_cat",
          "ps_ind_04_cat",
          "ps_ind_06_bin",
          "ps_ind_15",
          "ps_car_03_cat",
          "ps_car_04_cat",
          "ps_ind_07_bin",
          "ps_car_07_cat",
          "ps_reg_03",
          "ps_ind_03",
          "ps_ind_17_bin",
          "ps_ind_05_cat",
          "ps_car_13"
         ]
        }
       ],
       "layout": {
        "height": 2000,
        "title": {
         "text": "Barplot of Feature importances"
        },
        "width": 900,
        "yaxis": {
         "showgrid": false,
         "showline": false,
         "showticklabels": true
        }
       }
      },
      "text/html": [
       "<div>\n",
       "        \n",
       "        \n",
       "            <div id=\"a2ad7f3d-848b-4069-9310-9523538ec480\" class=\"plotly-graph-div\" style=\"height:2000px; width:900px;\"></div>\n",
       "            <script type=\"text/javascript\">\n",
       "                require([\"plotly\"], function(Plotly) {\n",
       "                    window.PLOTLYENV=window.PLOTLYENV || {};\n",
       "                    window.PLOTLYENV.BASE_URL='https://plot.ly';\n",
       "                    \n",
       "                if (document.getElementById(\"a2ad7f3d-848b-4069-9310-9523538ec480\")) {\n",
       "                    Plotly.newPlot(\n",
       "                        'a2ad7f3d-848b-4069-9310-9523538ec480',\n",
       "                        [{\"marker\": {\"color\": [0.0, 0.0, 0.0, 0.0, 0.0, 0.00016165347845459183, 0.00016203483183266953, 0.0001653761151114524, 0.00019130097873161148, 0.0002346159928734135, 0.0002860484011785048, 0.00032351772784093265, 0.0003523577305934863, 0.00041581970975067533, 0.00044605935173371215, 0.0006197188694977842, 0.000714819549439029, 0.0007187894334226878, 0.0007278950114796042, 0.0007963520664282294, 0.0008965365536628078, 0.0011498608496374573, 0.0012708234367704698, 0.0014496142446107554, 0.0014995491165588405, 0.0015385042871266634, 0.0017492380389002723, 0.0017603955775890385, 0.0019647053727450048, 0.0037264924576667197, 0.00417405783517464, 0.004576751073967919, 0.005278045276584379, 0.006565322421534899, 0.00858425816649004, 0.009483929671325803, 0.009773282279229367, 0.011492630888710182, 0.012609145089406448, 0.014794297805268869, 0.01537420156222883, 0.015437541163802188, 0.01894279918960461, 0.024372416487498567, 0.026540310993256752, 0.028183264410048744, 0.030900863764429715, 0.03467434439040906, 0.04030089230868374, 0.04179531303779021, 0.04377810614914294, 0.0620217141376079, 0.08109077353023528, 0.08412006020498115, 0.09752492931048397, 0.10950125606014172, 0.1347874136083256], \"colorscale\": \"Viridis\", \"reversescale\": true}, \"name\": \"Gradient Boosting Classifer Feature importance\", \"orientation\": \"h\", \"type\": \"bar\", \"uid\": \"347c8ab3-481d-4c6f-8f50-b9cce92ef3a6\", \"x\": [0.0, 0.0, 0.0, 0.0, 0.0, 0.00016165347845459183, 0.00016203483183266953, 0.0001653761151114524, 0.00019130097873161148, 0.0002346159928734135, 0.0002860484011785048, 0.00032351772784093265, 0.0003523577305934863, 0.00041581970975067533, 0.00044605935173371215, 0.0006197188694977842, 0.000714819549439029, 0.0007187894334226878, 0.0007278950114796042, 0.0007963520664282294, 0.0008965365536628078, 0.0011498608496374573, 0.0012708234367704698, 0.0014496142446107554, 0.0014995491165588405, 0.0015385042871266634, 0.0017492380389002723, 0.0017603955775890385, 0.0019647053727450048, 0.0037264924576667197, 0.00417405783517464, 0.004576751073967919, 0.005278045276584379, 0.006565322421534899, 0.00858425816649004, 0.009483929671325803, 0.009773282279229367, 0.011492630888710182, 0.012609145089406448, 0.014794297805268869, 0.01537420156222883, 0.015437541163802188, 0.01894279918960461, 0.024372416487498567, 0.026540310993256752, 0.028183264410048744, 0.030900863764429715, 0.03467434439040906, 0.04030089230868374, 0.04179531303779021, 0.04377810614914294, 0.0620217141376079, 0.08109077353023528, 0.08412006020498115, 0.09752492931048397, 0.10950125606014172, 0.1347874136083256], \"y\": [\"ps_calc_17_bin\", \"ps_calc_20_bin\", \"ps_car_10_cat\", \"ps_ind_10_bin\", \"ps_ind_13_bin\", \"ps_calc_09\", \"ps_calc_15_bin\", \"ps_calc_04\", \"ps_calc_14\", \"ps_calc_19_bin\", \"ps_calc_01\", \"ps_ind_11_bin\", \"ps_calc_16_bin\", \"ps_ind_12_bin\", \"ps_calc_02\", \"ps_calc_13\", \"ps_calc_03\", \"ps_calc_08\", \"ps_calc_10\", \"ps_calc_18_bin\", \"ps_car_05_cat\", \"ps_calc_11\", \"ps_car_08_cat\", \"ps_ind_18_bin\", \"ps_calc_12\", \"ps_calc_07\", \"ps_calc_06\", \"ps_calc_05\", \"ps_ind_14\", \"ps_ind_09_bin\", \"ps_car_09_cat\", \"ps_car_11_cat\", \"ps_car_11\", \"ps_car_06_cat\", \"ps_car_02_cat\", \"ps_car_14\", \"ps_ind_08_bin\", \"ps_ind_02_cat\", \"ps_car_12\", \"ps_ind_16_bin\", \"ps_car_15\", \"ps_reg_01\", \"ps_ind_01\", \"ps_reg_02\", \"ps_car_01_cat\", \"ps_ind_04_cat\", \"ps_ind_06_bin\", \"ps_ind_15\", \"ps_car_03_cat\", \"ps_car_04_cat\", \"ps_ind_07_bin\", \"ps_car_07_cat\", \"ps_reg_03\", \"ps_ind_03\", \"ps_ind_17_bin\", \"ps_ind_05_cat\", \"ps_car_13\"]}],\n",
       "                        {\"height\": 2000, \"title\": {\"text\": \"Barplot of Feature importances\"}, \"width\": 900, \"yaxis\": {\"showgrid\": false, \"showline\": false, \"showticklabels\": true}},\n",
       "                        {\"showLink\": false, \"linkText\": \"Export to plot.ly\", \"plotlyServerURL\": \"https://plot.ly\", \"responsive\": true}\n",
       "                    ).then(function(){\n",
       "                            \n",
       "var gd = document.getElementById('a2ad7f3d-848b-4069-9310-9523538ec480');\n",
       "var x = new MutationObserver(function (mutations, observer) {{\n",
       "        var display = window.getComputedStyle(gd).display;\n",
       "        if (!display || display === 'none') {{\n",
       "            console.log([gd, 'removed!']);\n",
       "            Plotly.purge(gd);\n",
       "            observer.disconnect();\n",
       "        }}\n",
       "}});\n",
       "\n",
       "// Listen for the removal of the full notebook cells\n",
       "var notebookContainer = gd.closest('#notebook-container');\n",
       "if (notebookContainer) {{\n",
       "    x.observe(notebookContainer, {childList: true});\n",
       "}}\n",
       "\n",
       "// Listen for the clearing of the current output cell\n",
       "var outputEl = gd.closest('.output');\n",
       "if (outputEl) {{\n",
       "    x.observe(outputEl, {childList: true});\n",
       "}}\n",
       "\n",
       "                        })\n",
       "                };\n",
       "                });\n",
       "            </script>\n",
       "        </div>"
      ]
     },
     "metadata": {
      "tags": []
     },
     "output_type": "display_data"
    }
   ],
   "source": [
    "x, y = (list(x) for x in zip(*sorted(zip(gb.feature_importances_, features), \n",
    "                                                            reverse  =  False)))\n",
    "trace2 = go.Bar(\n",
    "    x = x ,\n",
    "    y = y,\n",
    "    marker = dict(\n",
    "        color = x,\n",
    "        colorscale = 'Viridis',\n",
    "        reversescale = True\n",
    "    ),\n",
    "    name = 'Gradient Boosting Classifer Feature importance',\n",
    "    orientation = 'h',\n",
    ")\n",
    "\n",
    "layout = dict(\n",
    "    title = 'Barplot of Feature importances',\n",
    "     width = 900, height = 2000,\n",
    "    yaxis = dict(\n",
    "        showgrid = False,\n",
    "        showline = False,\n",
    "        showticklabels = True,\n",
    "    ))\n",
    "\n",
    "fig1 = go.Figure(data = [trace2])\n",
    "fig1['layout'].update(layout)\n",
    "py.iplot(fig1, filename = 'plots')"
   ]
  },
  {
   "cell_type": "markdown",
   "metadata": {
    "colab_type": "text",
    "id": "Bmbns82_QLC_"
   },
   "source": [
    "## Reference\n",
    "- [Interactive Porto Insights - A Plot.ly Tutorial](https://www.kaggle.com/arthurtok/interactive-porto-insights-a-plot-ly-tutorial)  \n",
    "- [pyecharts](http://pyecharts.org/#/zh-cn/intro)  \n",
    "- [클러스터링을 평가하는 척도 - Mutual Information](https://yjucho1.github.io/clustering/mutual-information/)  \n",
    "- [[sklearn ] mutual_info_classif , mutual_info_regression를 활용하여 변수 선택하기 (feature selection)](https://data-newbie.tistory.com/430)"
   ]
  }
 ],
 "metadata": {
  "accelerator": "GPU",
  "colab": {
   "collapsed_sections": [],
   "name": "Interactive Plot.ipynb",
   "provenance": []
  },
  "kernelspec": {
   "display_name": "Python 3",
   "language": "python",
   "name": "python3"
  },
  "language_info": {
   "codemirror_mode": {
    "name": "ipython",
    "version": 3
   },
   "file_extension": ".py",
   "mimetype": "text/x-python",
   "name": "python",
   "nbconvert_exporter": "python",
   "pygments_lexer": "ipython3",
   "version": "3.7.4"
  }
 },
 "nbformat": 4,
 "nbformat_minor": 1
}
